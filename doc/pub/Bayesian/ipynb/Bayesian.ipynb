{
 "cells": [
  {
   "cell_type": "markdown",
   "metadata": {},
   "source": [
    "<!-- dom:TITLE: Data Analysis and Machine Learning: Elements of Bayesian theory -->\n",
    "# Data Analysis and Machine Learning: Elements of Bayesian theory\n",
    "<!-- dom:AUTHOR: Morten Hjorth-Jensen at Department of Physics, University of Oslo & Department of Physics and Astronomy and National Superconducting Cyclotron Laboratory, Michigan State University -->\n",
    "<!-- Author: -->  \n",
    "**Morten Hjorth-Jensen**, Department of Physics, University of Oslo and Department of Physics and Astronomy and National Superconducting Cyclotron Laboratory, Michigan State University\n",
    "\n",
    "Date: **Dec 13, 2017**\n",
    "\n",
    "Copyright 1999-2017, Morten Hjorth-Jensen. Released under CC Attribution-NonCommercial 4.0 license\n",
    "\n",
    "\n",
    "\n",
    "\n",
    "## What is Bayesian Statistics\n",
    "Say something more general here. Reminder about probabilities from the statistics section\n",
    "1. Product rule\n",
    "\n",
    "2. Binomial distribution\n",
    "\n",
    "3. Gaussian PDF\n",
    "\n",
    "4. other PDFs\n",
    "\n",
    "5. Bayesian regression analysis"
   ]
  }
 ],
 "metadata": {},
 "nbformat": 4,
 "nbformat_minor": 2
}
