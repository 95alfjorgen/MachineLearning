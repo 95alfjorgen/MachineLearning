{
 "cells": [
  {
   "cell_type": "markdown",
   "metadata": {},
   "source": [
    "<!-- dom:TITLE: Data Analysis and Machine Learning: Linear Regression and more Advanced Regression Analysis -->\n",
    "# Data Analysis and Machine Learning: Linear Regression and more Advanced Regression Analysis\n",
    "<!-- dom:AUTHOR: Morten Hjorth-Jensen at Department of Physics, University of Oslo & Department of Physics and Astronomy and National Superconducting Cyclotron Laboratory, Michigan State University -->\n",
    "<!-- Author: -->  \n",
    "**Morten Hjorth-Jensen**, Department of Physics, University of Oslo and Department of Physics and Astronomy and National Superconducting Cyclotron Laboratory, Michigan State University\n",
    "\n",
    "Date: **Oct 18, 2018**\n",
    "\n",
    "Copyright 1999-2018, Morten Hjorth-Jensen. Released under CC Attribution-NonCommercial 4.0 license\n",
    "\n",
    "\n",
    "\n",
    "\n",
    "## Regression analysis, overarching aims\n",
    "\n",
    "Regression modeling deals with the description of  the sampling distribution of a given random variable $y$ varies as function of another variable or a set of such variables $\\hat{x} =[x_0, x_1,\\dots, x_p]^T$. \n",
    "The first variable is called the **dependent**, the **outcome** or the **response** variable while the set of variables $\\hat{x}$ is called the independent variable, or the predictor variable or the explanatory variable. \n",
    "\n",
    "A regression model aims at finding a likelihood function $p(y\\vert \\hat{x})$, that is the conditional distribution for $y$ with a given $\\hat{x}$. The estimation of  $p(y\\vert \\hat{x})$ is made using a data set with \n",
    "* $n$ cases $i = 0, 1, 2, \\dots, n-1$ \n",
    "\n",
    "* Response (dependent or outcome) variable $y_i$ with $i = 0, 1, 2, \\dots, n-1$ \n",
    "\n",
    "* $p$ Explanatory (independent or predictor) variables $\\hat{x}_i=[x_{i0}, x_{i1}, \\dots, x_{ip}]$ with $i = 0, 1, 2, \\dots, n-1$   \n",
    "\n",
    " The goal of the regression analysis is to extract/exploit relationship between $y_i$ and $\\hat{x}_i$ in or to infer causal dependencies, approximations to the likelihood functions, functional relationships and to make predictions .\n",
    "\n",
    "\n",
    "\n",
    "## Regression analysis, overarching aims II\n",
    "\n",
    "\n",
    "Consider an experiment in which $p$ characteristics of $n$ samples are\n",
    "measured. The data from this experiment are denoted $\\mathbf{X}$, with\n",
    "$\\mathbf{X}$ as above. The matrix $\\mathbf{X}$ is called the *design\n",
    "matrix*. Additional information of the samples is available in the\n",
    "form of $\\mathbf{Y}$ (also as above). The variable $\\mathbf{Y}$ is\n",
    "generally referred to as the *response variable*. The aim of\n",
    "regression analysis is to explain $\\mathbf{Y}$ in terms of\n",
    "$\\mathbf{X}$ through a functional relationship like $Y_i =\n",
    "f(\\mathbf{X}_{i,\\ast})$. When no prior knowledge on the form of\n",
    "$f(\\cdot)$ is available, it is common to assume a linear relationship\n",
    "between $\\mathbf{X}$ and $\\mathbf{Y}$. This assumption gives rise to\n",
    "the *linear regression model* where $\\beta = (\\beta_1, \\ldots,\n",
    "\\beta_p)^{\\top}$ is the *regression parameter*. The parameter\n",
    "$\\beta_j$, $j=1, \\ldots, p$, represents the effect size of covariate\n",
    "$j$ on the response. That is, for each unit change in covariate $j$\n",
    "(while keeping the other covariates fixed) the observed change in the\n",
    "response is equal to $\\beta_j$.\n",
    "\n",
    "\n",
    "\n",
    "## General linear models\n",
    "Before we proceed let us study a case from linear algebra where we aim at fitting a set of data $\\hat{y}=[y_0,y_1,\\dots,y_{n-1}]$. We could think of these data as a result of an experiment or a complicated numerical experiment. These data are functions of a series of variables $\\hat{x}=[x_0,x_1,\\dots,x_{n-1}]$, that is $y_i = y(x_i)$ with $i=0,1,2,\\dots,n-1$. The variables $x_i$ could represent physical quantities like time, temperature, position etc. We assume that $y(x)$ is a smooth function. \n",
    "\n",
    "Since obtaining these data points may not be trivial, we want to use these data to fit a function which can allow us to make predictions for values of $y$ which are not in the present set. The perhaps simplest approach is to assume we can parametrize our function in terms of a polynomial of degree $n-1$ with $n$ points, that is"
   ]
  },
  {
   "cell_type": "markdown",
   "metadata": {},
   "source": [
    "$$\n",
    "y=y(x) \\rightarrow y(x_i)=\\tilde{y}_i+\\epsilon_i=\\sum_{j=0}^{n-1} \\beta_i x_i^j+\\epsilon_i,\n",
    "$$"
   ]
  },
  {
   "cell_type": "markdown",
   "metadata": {},
   "source": [
    "where $\\epsilon_i$ is the error in our approximation.\n",
    "\n",
    "\n",
    "\n",
    "\n",
    "## Rewriting the fitting procedure as a linear algebra problem\n",
    "For every set of values $y_i,x_i$ we have thus the corresponding set of equations"
   ]
  },
  {
   "cell_type": "markdown",
   "metadata": {},
   "source": [
    "$$\n",
    "\\begin{align*}\n",
    "y_0&=\\beta_0+\\beta_1x_0^1+\\beta_2x_0^2+\\dots+\\beta_{n-1}x_0^{n-1}+\\epsilon_0\\\\\n",
    "y_1&=\\beta_0+\\beta_1x_1^1+\\beta_2x_1^2+\\dots+\\beta_{n-1}x_1^{n-1}+\\epsilon_1\\\\\n",
    "y_2&=\\beta_0+\\beta_1x_2^1+\\beta_2x_2^2+\\dots+\\beta_{n-1}x_2^{n-1}+\\epsilon_2\\\\\n",
    "\\dots & \\dots \\\\\n",
    "y_{n-1}&=\\beta_0+\\beta_1x_{n-1}^1+\\beta_2x_{n-1}^2+\\dots+\\beta_1x_{n-1}^{n-1}+\\epsilon_{n-1}.\\\\\n",
    "\\end{align*}\n",
    "$$"
   ]
  },
  {
   "cell_type": "markdown",
   "metadata": {},
   "source": [
    "## Rewriting the fitting procedure as a linear algebra problem, follows\n",
    "Defining the vectors"
   ]
  },
  {
   "cell_type": "markdown",
   "metadata": {},
   "source": [
    "$$\n",
    "\\hat{y} = [y_0,y_1, y_2,\\dots, y_{n-1}]^T,\n",
    "$$"
   ]
  },
  {
   "cell_type": "markdown",
   "metadata": {},
   "source": [
    "and"
   ]
  },
  {
   "cell_type": "markdown",
   "metadata": {},
   "source": [
    "$$\n",
    "\\hat{\\beta} = [\\beta_0,\\beta_1, \\beta_2,\\dots, \\beta_{n-1}]^T,\n",
    "$$"
   ]
  },
  {
   "cell_type": "markdown",
   "metadata": {},
   "source": [
    "and"
   ]
  },
  {
   "cell_type": "markdown",
   "metadata": {},
   "source": [
    "$$\n",
    "\\hat{\\epsilon} = [\\epsilon_0,\\epsilon_1, \\epsilon_2,\\dots, \\epsilon_{n-1}]^T,\n",
    "$$"
   ]
  },
  {
   "cell_type": "markdown",
   "metadata": {},
   "source": [
    "and the matrix"
   ]
  },
  {
   "cell_type": "markdown",
   "metadata": {},
   "source": [
    "$$\n",
    "\\hat{X}=\n",
    "\\begin{bmatrix} \n",
    "1& x_{0}^1 &x_{0}^2& \\dots & \\dots &x_{0}^{n-1}\\\\\n",
    "1& x_{1}^1 &x_{1}^2& \\dots & \\dots &x_{1}^{n-1}\\\\\n",
    "1& x_{2}^1 &x_{2}^2& \\dots & \\dots &x_{2}^{n-1}\\\\                      \n",
    "\\dots& \\dots &\\dots& \\dots & \\dots &\\dots\\\\\n",
    "1& x_{n-1}^1 &x_{n-1}^2& \\dots & \\dots &x_{n-1}^{n-1}\\\\\n",
    "\\end{bmatrix}\n",
    "$$"
   ]
  },
  {
   "cell_type": "markdown",
   "metadata": {},
   "source": [
    "we can rewrite our equations as"
   ]
  },
  {
   "cell_type": "markdown",
   "metadata": {},
   "source": [
    "$$\n",
    "\\hat{y} = \\hat{X}\\hat{\\beta}+\\hat{\\epsilon}.\n",
    "$$"
   ]
  },
  {
   "cell_type": "markdown",
   "metadata": {},
   "source": [
    "## Generalizing the fitting procedure as a linear algebra problem\n",
    "We are obviously not limited to the above polynomial. We could replace the various powers of $x$ with elements of Fourier series, that is, instead of $x_i^j$ we could have $\\cos{(j x_i)}$ or $\\sin{(j x_i)}$, or time series or other orthogonal functions.\n",
    "For every set of values $y_i,x_i$ we can then generalize the equations to"
   ]
  },
  {
   "cell_type": "markdown",
   "metadata": {},
   "source": [
    "$$\n",
    "\\begin{align*}\n",
    "y_0&=\\beta_0x_{00}+\\beta_1x_{01}+\\beta_2x_{02}+\\dots+\\beta_{n-1}x_{0n-1}+\\epsilon_0\\\\\n",
    "y_1&=\\beta_0x_{10}+\\beta_1x_{11}+\\beta_2x_{12}+\\dots+\\beta_{n-1}x_{1n-1}+\\epsilon_1\\\\\n",
    "y_2&=\\beta_0x_{20}+\\beta_1x_{21}+\\beta_2x_{22}+\\dots+\\beta_{n-1}x_{2n-1}+\\epsilon_2\\\\\n",
    "\\dots & \\dots \\\\\n",
    "y_{i}&=\\beta_0x_{i0}+\\beta_1x_{i1}+\\beta_2x_{i2}+\\dots+\\beta_{n-1}x_{in-1}+\\epsilon_i\\\\\n",
    "\\dots & \\dots \\\\\n",
    "y_{n-1}&=\\beta_0x_{n-1,0}+\\beta_1x_{n-1,2}+\\beta_2x_{n-1,2}+\\dots+\\beta_1x_{n-1,n-1}+\\epsilon_{n-1}.\\\\\n",
    "\\end{align*}\n",
    "$$"
   ]
  },
  {
   "cell_type": "markdown",
   "metadata": {},
   "source": [
    "## Generalizing the fitting procedure as a linear algebra problem\n",
    "We redefine in turn the matrix $\\hat{X}$ as"
   ]
  },
  {
   "cell_type": "markdown",
   "metadata": {},
   "source": [
    "$$\n",
    "\\hat{X}=\n",
    "\\begin{bmatrix} \n",
    "x_{00}& x_{01} &x_{02}& \\dots & \\dots &x_{0,n-1}\\\\\n",
    "x_{10}& x_{11} &x_{12}& \\dots & \\dots &x_{1,n-1}\\\\\n",
    "x_{20}& x_{21} &x_{22}& \\dots & \\dots &x_{2,n-1}\\\\                      \n",
    "\\dots& \\dots &\\dots& \\dots & \\dots &\\dots\\\\\n",
    "x_{n-1,0}& x_{n-1,1} &x_{n-1,2}& \\dots & \\dots &x_{n-1,n-1}\\\\\n",
    "\\end{bmatrix}\n",
    "$$"
   ]
  },
  {
   "cell_type": "markdown",
   "metadata": {},
   "source": [
    "and without loss of generality we rewrite again  our equations as"
   ]
  },
  {
   "cell_type": "markdown",
   "metadata": {},
   "source": [
    "$$\n",
    "\\hat{y} = \\hat{X}\\hat{\\beta}+\\hat{\\epsilon}.\n",
    "$$"
   ]
  },
  {
   "cell_type": "markdown",
   "metadata": {},
   "source": [
    "The left-hand side of this equation forms know. Our error vector $\\hat{\\epsilon}$ and the parameter vector $\\hat{\\beta}$ are our unknow quantities. How can we obtain the optimal set of $\\beta_i$ values?\n",
    "\n",
    "\n",
    "\n",
    "\n",
    "## Optimizing our parameters\n",
    "We have defined the matrix $\\hat{X}$"
   ]
  },
  {
   "cell_type": "markdown",
   "metadata": {},
   "source": [
    "$$\n",
    "\\begin{align*}\n",
    "y_0&=\\beta_0x_{00}+\\beta_1x_{01}+\\beta_2x_{02}+\\dots+\\beta_{n-1}x_{0n-1}+\\epsilon_0\\\\\n",
    "y_1&=\\beta_0x_{10}+\\beta_1x_{11}+\\beta_2x_{12}+\\dots+\\beta_{n-1}x_{1n-1}+\\epsilon_1\\\\\n",
    "y_2&=\\beta_0x_{20}+\\beta_1x_{21}+\\beta_2x_{22}+\\dots+\\beta_{n-1}x_{2n-1}+\\epsilon_1\\\\\n",
    "\\dots & \\dots \\\\\n",
    "y_{i}&=\\beta_0x_{i0}+\\beta_1x_{i1}+\\beta_2x_{i2}+\\dots+\\beta_{n-1}x_{in-1}+\\epsilon_1\\\\\n",
    "\\dots & \\dots \\\\\n",
    "y_{n-1}&=\\beta_0x_{n-1,0}+\\beta_1x_{n-1,2}+\\beta_2x_{n-1,2}+\\dots+\\beta_1x_{n-1,n-1}+\\epsilon_{n-1}.\\\\\n",
    "\\end{align*}\n",
    "$$"
   ]
  },
  {
   "cell_type": "markdown",
   "metadata": {},
   "source": [
    "## Optimizing our parameters, more details\n",
    "We well use this matrix to define the approximation $\\hat{\\tilde{y}}$ via the unknown quantity $\\hat{\\beta}$ as"
   ]
  },
  {
   "cell_type": "markdown",
   "metadata": {},
   "source": [
    "$$\n",
    "\\hat{\\tilde{y}}= \\hat{X}\\hat{\\beta},\n",
    "$$"
   ]
  },
  {
   "cell_type": "markdown",
   "metadata": {},
   "source": [
    "and in order to find the optimal parameters $\\beta_i$ instead of solving the above linear algebra problem, we define a function which gives a measure of the spread between the values $y_i$ (which represent hopefully the exact values) and the parametrized values $\\tilde{y}_i$, namely"
   ]
  },
  {
   "cell_type": "markdown",
   "metadata": {},
   "source": [
    "$$\n",
    "Q(\\hat{\\beta})=\\sum_{i=0}^{n-1}\\left(y_i-\\tilde{y}_i\\right)^2=\\left(\\hat{y}-\\hat{\\tilde{y}}\\right)^T\\left(\\hat{y}-\\hat{\\tilde{y}}\\right),\n",
    "$$"
   ]
  },
  {
   "cell_type": "markdown",
   "metadata": {},
   "source": [
    "or using the matrix $\\hat{X}$ as"
   ]
  },
  {
   "cell_type": "markdown",
   "metadata": {},
   "source": [
    "$$\n",
    "Q(\\hat{\\beta})=\\left(\\hat{y}-\\hat{X}\\hat{\\beta}\\right)^T\\left(\\hat{y}-\\hat{X}\\hat{\\beta}\\right).\n",
    "$$"
   ]
  },
  {
   "cell_type": "markdown",
   "metadata": {},
   "source": [
    "## Interpretations and optimizing our parameters\n",
    "The function"
   ]
  },
  {
   "cell_type": "markdown",
   "metadata": {},
   "source": [
    "$$\n",
    "Q(\\hat{\\beta})=\\left(\\hat{y}-\\hat{X}\\hat{\\beta}\\right)^T\\left(\\hat{y}-\\hat{X}\\hat{\\beta}\\right),\n",
    "$$"
   ]
  },
  {
   "cell_type": "markdown",
   "metadata": {},
   "source": [
    "can be linked to the variance of the quantity $y_i$ if we interpret the latter as the mean value of for example a numerical  experiment. When linking below with the maximum likelihood approach below, we will indeed interpret $y_i$ as a mean value"
   ]
  },
  {
   "cell_type": "markdown",
   "metadata": {},
   "source": [
    "$$\n",
    "y_{i}=\\langle y_i \\rangle = \\beta_0x_{i,0}+\\beta_1x_{i,1}+\\beta_2x_{i,2}+\\dots+\\beta_{n-1}x_{i,n-1}+\\epsilon_i,\n",
    "$$"
   ]
  },
  {
   "cell_type": "markdown",
   "metadata": {},
   "source": [
    "where $\\langle y_i \\rangle$ is the mean value. Keep in mind also that till now  we have treated $y_i$ as the exact value. Normally, the response (dependent or outcome) variable $y_i$ the outcome of a numerical experiment or another type of experiment and is thus only an approximation to the true value. It is then always accompanied by an error estimate, often limited to a statistical error estimate given by the standard deviation discussed earlier. In the discussion here we will treat $y_i$ as our exact value for the response variable.\n",
    "\n",
    "In order to find the parameters $\\beta_i$ we will then minimize the spread of $Q(\\hat{\\beta})$ by requiring"
   ]
  },
  {
   "cell_type": "markdown",
   "metadata": {},
   "source": [
    "$$\n",
    "\\frac{\\partial Q(\\hat{\\beta})}{\\partial \\beta_j} = \\frac{\\partial }{\\partial \\beta_j}\\left[ \\sum_{i=0}^{n-1}\\left(y_i-\\beta_0x_{i,0}-\\beta_1x_{i,1}-\\beta_2x_{i,2}-\\dots-\\beta_{n-1}x_{i,n-1}\\right)^2\\right]=0,\n",
    "$$"
   ]
  },
  {
   "cell_type": "markdown",
   "metadata": {},
   "source": [
    "which results in"
   ]
  },
  {
   "cell_type": "markdown",
   "metadata": {},
   "source": [
    "$$\n",
    "\\frac{\\partial Q(\\hat{\\beta})}{\\partial \\beta_j} = -2\\left[ \\sum_{i=0}^{n-1}x_{ij}\\left(y_i-\\beta_0x_{i,0}-\\beta_1x_{i,1}-\\beta_2x_{i,2}-\\dots-\\beta_{n-1}x_{i,n-1}\\right)\\right]=0,\n",
    "$$"
   ]
  },
  {
   "cell_type": "markdown",
   "metadata": {},
   "source": [
    "or in a matrix-vector form as"
   ]
  },
  {
   "cell_type": "markdown",
   "metadata": {},
   "source": [
    "$$\n",
    "\\frac{\\partial Q(\\hat{\\beta})}{\\partial \\hat{\\beta}} = 0 = \\hat{X}^T\\left( \\hat{y}-\\hat{X}\\hat{\\beta}\\right).\n",
    "$$"
   ]
  },
  {
   "cell_type": "markdown",
   "metadata": {},
   "source": [
    "## Interpretations and optimizing our parameters\n",
    "We can rewrite"
   ]
  },
  {
   "cell_type": "markdown",
   "metadata": {},
   "source": [
    "$$\n",
    "\\frac{\\partial Q(\\hat{\\beta})}{\\partial \\hat{\\beta}} = 0 = \\hat{X}^T\\left( \\hat{y}-\\hat{X}\\hat{\\beta}\\right),\n",
    "$$"
   ]
  },
  {
   "cell_type": "markdown",
   "metadata": {},
   "source": [
    "as"
   ]
  },
  {
   "cell_type": "markdown",
   "metadata": {},
   "source": [
    "$$\n",
    "\\hat{X}^T\\hat{y} = \\hat{X}^T\\hat{X}\\hat{\\beta},\n",
    "$$"
   ]
  },
  {
   "cell_type": "markdown",
   "metadata": {},
   "source": [
    "and if the matrix $\\hat{X}^T\\hat{X}$ is invertible we have the solution"
   ]
  },
  {
   "cell_type": "markdown",
   "metadata": {},
   "source": [
    "$$\n",
    "\\hat{\\beta} =\\left(\\hat{X}^T\\hat{X}\\right)^{-1}\\hat{X}^T\\hat{y}.\n",
    "$$"
   ]
  },
  {
   "cell_type": "markdown",
   "metadata": {},
   "source": [
    "## Interpretations and optimizing our parameters\n",
    "The residuals $\\hat{\\epsilon}$ are in turn given by"
   ]
  },
  {
   "cell_type": "markdown",
   "metadata": {},
   "source": [
    "$$\n",
    "\\hat{\\epsilon} = \\hat{y}-\\hat{\\tilde{y}} = \\hat{y}-\\hat{X}\\hat{\\beta},\n",
    "$$"
   ]
  },
  {
   "cell_type": "markdown",
   "metadata": {},
   "source": [
    "and with"
   ]
  },
  {
   "cell_type": "markdown",
   "metadata": {},
   "source": [
    "$$\n",
    "\\hat{X}^T\\left( \\hat{y}-\\hat{X}\\hat{\\beta}\\right)= 0,\n",
    "$$"
   ]
  },
  {
   "cell_type": "markdown",
   "metadata": {},
   "source": [
    "we have"
   ]
  },
  {
   "cell_type": "markdown",
   "metadata": {},
   "source": [
    "$$\n",
    "\\hat{X}^T\\hat{\\epsilon}=\\hat{X}^T\\left( \\hat{y}-\\hat{X}\\hat{\\beta}\\right)= 0,\n",
    "$$"
   ]
  },
  {
   "cell_type": "markdown",
   "metadata": {},
   "source": [
    "meaning that the solution for $\\hat{\\beta}$ is the one which minimizes the residuals.  Later we will link this with the maximum likelihood approach.\n",
    "\n",
    "\n",
    "\n",
    "\n",
    "## The $\\chi^2$ function\n",
    "\n",
    "Normally, the response (dependent or outcome) variable $y_i$ the outcome of a numerical experiment or another type of experiment and is thus only an approximation to the true value. It is then always accompanied by an error estimate, often limited to a statistical error estimate given by the standard deviation discussed earlier. In the discussion here we will treat $y_i$ as our exact value for the response variable.\n",
    "\n",
    "Introducing the standard deviation $\\sigma_i$ for each measurement $y_i$, we define now the $\\chi^2$ function as"
   ]
  },
  {
   "cell_type": "markdown",
   "metadata": {},
   "source": [
    "$$\n",
    "\\chi^2(\\hat{\\beta})=\\sum_{i=0}^{n-1}\\frac{\\left(y_i-\\tilde{y}_i\\right)^2}{\\sigma_i^2}=\\left(\\hat{y}-\\hat{\\tilde{y}}\\right)^T\\frac{1}{\\hat{\\Sigma^2}}\\left(\\hat{y}-\\hat{\\tilde{y}}\\right),\n",
    "$$"
   ]
  },
  {
   "cell_type": "markdown",
   "metadata": {},
   "source": [
    "where the matrix $\\hat{\\Sigma}$ is a diagonal matrix with $\\sigma_i$ as matrix elements.\n",
    "\n",
    "\n",
    "\n",
    "## The $\\chi^2$ function\n",
    "\n",
    "In order to find the parameters $\\beta_i$ we will then minimize the spread of $\\chi^2(\\hat{\\beta})$ by requiring"
   ]
  },
  {
   "cell_type": "markdown",
   "metadata": {},
   "source": [
    "$$\n",
    "\\frac{\\partial \\chi^2(\\hat{\\beta})}{\\partial \\beta_j} = \\frac{\\partial }{\\partial \\beta_j}\\left[ \\sum_{i=0}^{n-1}\\left(\\frac{y_i-\\beta_0x_{i,0}-\\beta_1x_{i,1}-\\beta_2x_{i,2}-\\dots-\\beta_{n-1}x_{i,n-1}}{\\sigma_i}\\right)^2\\right]=0,\n",
    "$$"
   ]
  },
  {
   "cell_type": "markdown",
   "metadata": {},
   "source": [
    "which results in"
   ]
  },
  {
   "cell_type": "markdown",
   "metadata": {},
   "source": [
    "$$\n",
    "\\frac{\\partial \\chi^2(\\hat{\\beta})}{\\partial \\beta_j} = -2\\left[ \\sum_{i=0}^{n-1}\\frac{x_{ij}}{\\sigma_i}\\left(\\frac{y_i-\\beta_0x_{i,0}-\\beta_1x_{i,1}-\\beta_2x_{i,2}-\\dots-\\beta_{n-1}x_{i,n-1}}{\\sigma_i}\\right)\\right]=0,\n",
    "$$"
   ]
  },
  {
   "cell_type": "markdown",
   "metadata": {},
   "source": [
    "or in a matrix-vector form as"
   ]
  },
  {
   "cell_type": "markdown",
   "metadata": {},
   "source": [
    "$$\n",
    "\\frac{\\partial \\chi^2(\\hat{\\beta})}{\\partial \\hat{\\beta}} = 0 = \\hat{A}^T\\left( \\hat{b}-\\hat{A}\\hat{\\beta}\\right).\n",
    "$$"
   ]
  },
  {
   "cell_type": "markdown",
   "metadata": {},
   "source": [
    "where we have defined the matrix $\\hat{A} =\\hat{X}/\\hat{\\Sigma}$ with matrix elements $a_{ij} = x_{ij}/\\sigma_i$ and the vector $\\hat{b}$ with elements $b_i = y_i/\\sigma_i$.\n",
    "\n",
    "\n",
    "\n",
    "## The $\\chi^2$ function\n",
    "\n",
    "We can rewrite"
   ]
  },
  {
   "cell_type": "markdown",
   "metadata": {},
   "source": [
    "$$\n",
    "\\frac{\\partial \\chi^2(\\hat{\\beta})}{\\partial \\hat{\\beta}} = 0 = \\hat{A}^T\\left( \\hat{b}-\\hat{A}\\hat{\\beta}\\right),\n",
    "$$"
   ]
  },
  {
   "cell_type": "markdown",
   "metadata": {},
   "source": [
    "as"
   ]
  },
  {
   "cell_type": "markdown",
   "metadata": {},
   "source": [
    "$$\n",
    "\\hat{A}^T\\hat{b} = \\hat{A}^T\\hat{A}\\hat{\\beta},\n",
    "$$"
   ]
  },
  {
   "cell_type": "markdown",
   "metadata": {},
   "source": [
    "and if the matrix $\\hat{A}^T\\hat{A}$ is invertible we have the solution"
   ]
  },
  {
   "cell_type": "markdown",
   "metadata": {},
   "source": [
    "$$\n",
    "\\hat{\\beta} =\\left(\\hat{A}^T\\hat{A}\\right)^{-1}\\hat{A}^T\\hat{b}.\n",
    "$$"
   ]
  },
  {
   "cell_type": "markdown",
   "metadata": {},
   "source": [
    "## The $\\chi^2$ function\n",
    "\n",
    "If we then introduce the matrix"
   ]
  },
  {
   "cell_type": "markdown",
   "metadata": {},
   "source": [
    "$$\n",
    "\\hat{H} =  \\left(\\hat{A}^T\\hat{A}\\right)^{-1},\n",
    "$$"
   ]
  },
  {
   "cell_type": "markdown",
   "metadata": {},
   "source": [
    "we have then the following expression for the parameters $\\beta_j$ (the matrix elements of $\\hat{H}$ are $h_{ij}$)"
   ]
  },
  {
   "cell_type": "markdown",
   "metadata": {},
   "source": [
    "$$\n",
    "\\beta_j = \\sum_{k=0}^{p-1}h_{jk}\\sum_{i=0}^{n-1}\\frac{y_i}{\\sigma_i}\\frac{x_{ik}}{\\sigma_i} = \\sum_{k=0}^{p-1}h_{jk}\\sum_{i=0}^{n-1}b_ia_{ik}\n",
    "$$"
   ]
  },
  {
   "cell_type": "markdown",
   "metadata": {},
   "source": [
    "We state without proof the expression for the uncertainty  in the parameters $\\beta_j$ as (we leave this as an exercise)"
   ]
  },
  {
   "cell_type": "markdown",
   "metadata": {},
   "source": [
    "$$\n",
    "\\sigma^2(\\beta_j) = \\sum_{i=0}^{n-1}\\sigma_i^2\\left( \\frac{\\partial \\beta_j}{\\partial y_i}\\right)^2,\n",
    "$$"
   ]
  },
  {
   "cell_type": "markdown",
   "metadata": {},
   "source": [
    "resulting in"
   ]
  },
  {
   "cell_type": "markdown",
   "metadata": {},
   "source": [
    "$$\n",
    "\\sigma^2(\\beta_j) = \\left(\\sum_{k=0}^{p-1}h_{jk}\\sum_{i=0}^{n-1}a_{ik}\\right)\\left(\\sum_{l=0}^{p-1}h_{jl}\\sum_{m=0}^{n-1}a_{ml}\\right) = h_{jj}!\n",
    "$$"
   ]
  },
  {
   "cell_type": "markdown",
   "metadata": {},
   "source": [
    "## The $\\chi^2$ function\n",
    "The first step here is to approximate the function $y$ with a first-order polynomial, that is we write"
   ]
  },
  {
   "cell_type": "markdown",
   "metadata": {},
   "source": [
    "$$\n",
    "y=y(x) \\rightarrow y(x_i) \\approx \\beta_0+\\beta_1 x_i.\n",
    "$$"
   ]
  },
  {
   "cell_type": "markdown",
   "metadata": {},
   "source": [
    "By computing the derivatives of $\\chi^2$ with respect to $\\beta_0$ and $\\beta_1$ show that these are given by"
   ]
  },
  {
   "cell_type": "markdown",
   "metadata": {},
   "source": [
    "$$\n",
    "\\frac{\\partial \\chi^2(\\hat{\\beta})}{\\partial \\beta_0} = -2\\left[ \\sum_{i=0}^{n-1}\\left(\\frac{y_i-\\beta_0-\\beta_1x_{i}}{\\sigma_i^2}\\right)\\right]=0,\n",
    "$$"
   ]
  },
  {
   "cell_type": "markdown",
   "metadata": {},
   "source": [
    "and"
   ]
  },
  {
   "cell_type": "markdown",
   "metadata": {},
   "source": [
    "$$\n",
    "\\frac{\\partial \\chi^2(\\hat{\\beta})}{\\partial \\beta_0} = -2\\left[ \\sum_{i=0}^{n-1}x_i\\left(\\frac{y_i-\\beta_0-\\beta_1x_{i}}{\\sigma_i^2}\\right)\\right]=0.\n",
    "$$"
   ]
  },
  {
   "cell_type": "markdown",
   "metadata": {},
   "source": [
    "## The $\\chi^2$ function\n",
    "\n",
    "For a linear fit we don't need to invert a matrix!!  \n",
    "Defining"
   ]
  },
  {
   "cell_type": "markdown",
   "metadata": {},
   "source": [
    "$$\n",
    "\\gamma =  \\sum_{i=0}^{n-1}\\frac{1}{\\sigma_i^2},\n",
    "$$"
   ]
  },
  {
   "cell_type": "markdown",
   "metadata": {},
   "source": [
    "4\n",
    "0\n",
    " \n",
    "<\n",
    "<\n",
    "<\n",
    "!\n",
    "!\n",
    "M\n",
    "A\n",
    "T\n",
    "H\n",
    "_\n",
    "B\n",
    "L\n",
    "O\n",
    "C\n",
    "K"
   ]
  },
  {
   "cell_type": "markdown",
   "metadata": {},
   "source": [
    "4\n",
    "1\n",
    " \n",
    "<\n",
    "<\n",
    "<\n",
    "!\n",
    "!\n",
    "M\n",
    "A\n",
    "T\n",
    "H\n",
    "_\n",
    "B\n",
    "L\n",
    "O\n",
    "C\n",
    "K"
   ]
  },
  {
   "cell_type": "markdown",
   "metadata": {},
   "source": [
    "4\n",
    "2\n",
    " \n",
    "<\n",
    "<\n",
    "<\n",
    "!\n",
    "!\n",
    "M\n",
    "A\n",
    "T\n",
    "H\n",
    "_\n",
    "B\n",
    "L\n",
    "O\n",
    "C\n",
    "K"
   ]
  },
  {
   "cell_type": "markdown",
   "metadata": {},
   "source": [
    "$$\n",
    "\\gamma_{xy} = \\sum_{i=0}^{n-1}\\frac{y_ix_{i}}{\\sigma_i^2},\n",
    "$$"
   ]
  },
  {
   "cell_type": "markdown",
   "metadata": {},
   "source": [
    "we obtain"
   ]
  },
  {
   "cell_type": "markdown",
   "metadata": {},
   "source": [
    "4\n",
    "4\n",
    " \n",
    "<\n",
    "<\n",
    "<\n",
    "!\n",
    "!\n",
    "M\n",
    "A\n",
    "T\n",
    "H\n",
    "_\n",
    "B\n",
    "L\n",
    "O\n",
    "C\n",
    "K"
   ]
  },
  {
   "cell_type": "markdown",
   "metadata": {},
   "source": [
    "$$\n",
    "\\beta_1 = \\frac{\\gamma_{xy}\\gamma-\\gamma_x\\gamma_y}{\\gamma\\gamma_{xx}-\\gamma_x^2}.\n",
    "$$"
   ]
  },
  {
   "cell_type": "markdown",
   "metadata": {},
   "source": [
    "This approach (different linear and non-linear regression) suffers often from both being underdetermined and overdetermined in the unknown coefficients $\\beta_i$.  A better approach is to use the Singular Value Decomposition (SVD) method discussed below. Or using Lasso and Ridge regression. See below.\n",
    "\n",
    "\n",
    "\n",
    "\n",
    "\n",
    "\n",
    "## Simple regression model\n",
    "We are now ready to write our first program which aims at solving the above linear regression equations. We start with data we have produced ourselves, in this case normally distributed random numbers along the $x$-axis. These numbers define then the value of a function $y(x)=4+3x+N(0,1)$. Thereafter we order the $x$ values and employ our linear regression algorithm to set up the best fit. Here we find it useful to use the numpy function $c\\_$ arrays where arrays are stacked along their last axis after being upgraded to at least two dimensions with ones post-pended to the shape. The following examples help in understanding what happens"
   ]
  },
  {
   "cell_type": "code",
   "execution_count": 1,
   "metadata": {},
   "outputs": [],
   "source": [
    "import numpy as np\n",
    "print(np.c_[np.array([1,2,3]), np.array([4,5,6])])\n",
    "print(np.c_[np.array([[1,2,3]]), 0, 0, np.array([[4,5,6]])])"
   ]
  },
  {
   "cell_type": "code",
   "execution_count": 2,
   "metadata": {},
   "outputs": [],
   "source": [
    "%matplotlib inline\n",
    "\n",
    "# Importing various packages\n",
    "from random import random, seed\n",
    "import numpy as np\n",
    "import matplotlib.pyplot as plt\n",
    "\n",
    "x = 2*np.random.rand(100,1)\n",
    "y = 4+3*x+np.random.randn(100,1)\n",
    "\n",
    "xb = np.c_[np.ones((100,1)), x]\n",
    "beta = np.linalg.inv(xb.T.dot(xb)).dot(xb.T).dot(y)\n",
    "xnew = np.array([[0],[2]])\n",
    "xbnew = np.c_[np.ones((2,1)), xnew]\n",
    "ypredict = xbnew.dot(beta)\n",
    "\n",
    "plt.plot(xnew, ypredict, \"r-\")\n",
    "plt.plot(x, y ,'ro')\n",
    "plt.axis([0,2.0,0, 15.0])\n",
    "plt.xlabel(r'$x$')\n",
    "plt.ylabel(r'$y$')\n",
    "plt.title(r'Linear Regression')\n",
    "plt.show()"
   ]
  },
  {
   "cell_type": "markdown",
   "metadata": {},
   "source": [
    "We see that, as expected, a linear fit gives a seemingly (from the graph) good representation of the data.\n",
    "\n",
    "\n",
    "\n",
    "\n",
    "## Simple regression model, now using **scikit-learn**\n",
    "\n",
    "\n",
    "We can repeat the above algorithm using **scikit-learn** as follows"
   ]
  },
  {
   "cell_type": "code",
   "execution_count": 3,
   "metadata": {},
   "outputs": [],
   "source": [
    "# Importing various packages\n",
    "from random import random, seed\n",
    "import numpy as np\n",
    "import matplotlib.pyplot as plt\n",
    "from sklearn.linear_model import LinearRegression\n",
    "\n",
    "x = 2*np.random.rand(100,1)\n",
    "y = 4+3*x+np.random.randn(100,1)\n",
    "linreg = LinearRegression()\n",
    "linreg.fit(x,y)\n",
    "xnew = np.array([[0],[2]])\n",
    "ypredict = linreg.predict(xnew)\n",
    "\n",
    "plt.plot(xnew, ypredict, \"r-\")\n",
    "plt.plot(x, y ,'ro')\n",
    "plt.axis([0,2.0,0, 15.0])\n",
    "plt.xlabel(r'$x$')\n",
    "plt.ylabel(r'$y$')\n",
    "plt.title(r'Random numbers ')\n",
    "plt.show()"
   ]
  },
  {
   "cell_type": "markdown",
   "metadata": {},
   "source": [
    "## Simple linear regression model using **scikit-learn**\n",
    "\n",
    "We start with perhaps our simplest possible example, using **scikit-learn** to perform linear regression analysis on a data set produced by us. \n",
    "What follows is a simple Python code where we have defined  function $y$ in terms of the variable $x$. Both are defined as vectors of dimension $1\\times 100$. The entries to the vector $\\hat{x}$  are given by random numbers generated with a uniform distribution with entries $x_i \\in [0,1]$ (more about probability distribution functions later). These values are then used to define a function $y(x)$ (tabulated again as a vector) with a linear dependence on $x$ plus a random noise added via the normal distribution.\n",
    "\n",
    "\n",
    "The Numpy functions are imported used the **import numpy as np**\n",
    "statement and the random number generator for the uniform distribution\n",
    "is called using the function **np.random.rand()**, where we specificy\n",
    "that we want $100$ random variables.  Using Numpy we define\n",
    "automatically an array with the specified number of elements, $100$ in\n",
    "our case.  With the Numpy function **randn()** we can compute random\n",
    "numbers with the normal distribution (mean value $\\mu$ equal to zero and\n",
    "variance $\\sigma^2$ set to one) and produce the values of $y$ assuming a linear\n",
    "dependence as function of $x$"
   ]
  },
  {
   "cell_type": "markdown",
   "metadata": {},
   "source": [
    "$$\n",
    "y = 2x+N(0,1),\n",
    "$$"
   ]
  },
  {
   "cell_type": "markdown",
   "metadata": {},
   "source": [
    "where $N(0,1)$ represents random numbers generated by the normal\n",
    "distribution.  From **scikit-learn** we import then the\n",
    "**LinearRegression** functionality and make a prediction $\\tilde{y} =\n",
    "\\alpha + \\beta x$ using the function **fit(x,y)**. We call the set of\n",
    "data $(\\hat{x},\\hat{y})$ for our training data. The Python package\n",
    "**scikit-learn** has also a functionality which extracts the above\n",
    "fitting parameters $\\alpha$ and $\\beta$ (see below). Later we will\n",
    "distinguish between training data and test data.\n",
    "\n",
    "For plotting we use the Python package\n",
    "[matplotlib](https://matplotlib.org/) which produces publication\n",
    "quality figures. Feel free to explore the extensive\n",
    "[gallery](https://matplotlib.org/gallery/index.html) of examples. In\n",
    "this example we plot our original values of $x$ and $y$ as well as the\n",
    "prediction **ypredict** ($\\tilde{y}$), which attempts at fitting our\n",
    "data with a straight line.\n",
    "\n",
    "The Python code follows here."
   ]
  },
  {
   "cell_type": "code",
   "execution_count": 4,
   "metadata": {},
   "outputs": [],
   "source": [
    "# Importing various packages\n",
    "import numpy as np\n",
    "import matplotlib.pyplot as plt\n",
    "from sklearn.linear_model import LinearRegression\n",
    "\n",
    "x = np.random.rand(100,1)\n",
    "y = 2*x+np.random.randn(100,1)\n",
    "linreg = LinearRegression()\n",
    "linreg.fit(x,y)\n",
    "xnew = np.array([[0],[1]])\n",
    "ypredict = linreg.predict(xnew)\n",
    "\n",
    "plt.plot(xnew, ypredict, \"r-\")\n",
    "plt.plot(x, y ,'ro')\n",
    "plt.axis([0,1.0,0, 5.0])\n",
    "plt.xlabel(r'$x$')\n",
    "plt.ylabel(r'$y$')\n",
    "plt.title(r'Simple Linear Regression')\n",
    "plt.show()"
   ]
  },
  {
   "cell_type": "markdown",
   "metadata": {},
   "source": [
    "## Simple linear regression model\n",
    "\n",
    "This example serves several aims. It allows us to demonstrate several\n",
    "aspects of data analysis and later machine learning algorithms. The\n",
    "immediate visualization shows that our linear fit is not\n",
    "impressive. It goes through the data points, but there are many\n",
    "outliers which are not reproduced by our linear regression.  We could\n",
    "now play around with this small program and change for example the\n",
    "factor in front of $x$ and the normal distribution.  Try to change the\n",
    "function $y$ to"
   ]
  },
  {
   "cell_type": "markdown",
   "metadata": {},
   "source": [
    "$$\n",
    "y = 10x+0.01 \\times N(0,1),\n",
    "$$"
   ]
  },
  {
   "cell_type": "markdown",
   "metadata": {},
   "source": [
    "where $x$ is defined as before.  \n",
    "\n",
    "\n",
    "## Less noise\n",
    "\n",
    "Does the fit look better? Indeed, by\n",
    "reducing the role of the normal distribution we see immediately that\n",
    "our linear prediction seemingly reproduces better the training\n",
    "set. However, this testing 'by the eye' is obviouly not satisfactory in the\n",
    "long run. Here we have only defined the training data and our model, and \n",
    "have not discussed a more rigorous approach to the **cost** function.\n",
    "\n",
    "\n",
    "## How to study our fits\n",
    "\n",
    "We need more rigorous criteria in defining whether we have succeeded or\n",
    "not in modeling our training data.  You will be surprised to see that\n",
    "many scientists seldomly venture beyond this 'by the eye' approach. A\n",
    "standard approach for the *cost* function is the so-called $\\chi^2$\n",
    "function"
   ]
  },
  {
   "cell_type": "markdown",
   "metadata": {},
   "source": [
    "$$\n",
    "\\chi^2 = \\frac{1}{n}\n",
    "\\sum_{i=0}^{n-1}\\frac{(y_i-\\tilde{y}_i)^2}{\\sigma_i^2},\n",
    "$$"
   ]
  },
  {
   "cell_type": "markdown",
   "metadata": {},
   "source": [
    "where $\\sigma_i^2$ is the variance (to be defined later) of the entry\n",
    "$y_i$.  We may not know the explicit value of $\\sigma_i^2$, it serves\n",
    "however the aim of scaling the equations and make the cost function\n",
    "dimensionless.  \n",
    "\n",
    "\n",
    "## Minimizing the cost function\n",
    "\n",
    "Minimizing the cost function is a central aspect of\n",
    "our discussions to come. Finding its minima as function of the model\n",
    "parameters ($\\alpha$ and $\\beta$ in our case) will be a recurring\n",
    "theme in these series of lectures. Essentially all machine learning\n",
    "algorithms we will discuss center around the minimization of the\n",
    "chosen cost function. This depends in turn on our specific\n",
    "model for describing the data, a typical situation in supervised\n",
    "learning. Automatizing the search for the minima of the cost function is a\n",
    "central ingredient in all algorithms. Typical methods which are\n",
    "employed are various variants of **gradient** methods. These will be\n",
    "discussed in more detail later. Again, you'll be surprised to hear that\n",
    "many practitioners minimize the above function ''by the eye', popularly dubbed as \n",
    "'chi by the eye'. That is, change a parameter and see (visually and numerically) that \n",
    "the  $\\chi^2$ function becomes smaller. \n",
    "\n",
    "## Relative error\n",
    "\n",
    "There are many ways to define the cost function. A simpler approach is to look at the relative difference between the training data and the predicted data, that is we define \n",
    "the relative error as"
   ]
  },
  {
   "cell_type": "markdown",
   "metadata": {},
   "source": [
    "$$\n",
    "\\epsilon_{\\mathrm{relative}}= \\frac{\\vert \\hat{y} -\\hat{\\tilde{y}}\\vert}{\\vert \\hat{y}\\vert}.\n",
    "$$"
   ]
  },
  {
   "cell_type": "markdown",
   "metadata": {},
   "source": [
    "We can modify easily the above Python code and plot the relative error instead"
   ]
  },
  {
   "cell_type": "code",
   "execution_count": 5,
   "metadata": {},
   "outputs": [],
   "source": [
    "import numpy as np\n",
    "import matplotlib.pyplot as plt\n",
    "from sklearn.linear_model import LinearRegression\n",
    "\n",
    "x = np.random.rand(100,1)\n",
    "y = 5*x+0.01*np.random.randn(100,1)\n",
    "linreg = LinearRegression()\n",
    "linreg.fit(x,y)\n",
    "ypredict = linreg.predict(x)\n",
    "\n",
    "plt.plot(x, np.abs(ypredict-y)/abs(y), \"ro\")\n",
    "plt.axis([0,1.0,0.0, 0.5])\n",
    "plt.xlabel(r'$x$')\n",
    "plt.ylabel(r'$\\epsilon_{\\mathrm{relative}}$')\n",
    "plt.title(r'Relative error')\n",
    "plt.show()"
   ]
  },
  {
   "cell_type": "markdown",
   "metadata": {},
   "source": [
    "Depending on the parameter in front of the normal distribution, we may\n",
    "have a small or larger relative error. Try to play around with\n",
    "different training data sets and study (graphically) the value of the\n",
    "relative error.\n",
    "\n",
    "\n",
    "## The richness of **scikit-learn**\n",
    "\n",
    "As mentioned above, **scikit-learn** has an impressive functionality.\n",
    "We can for example extract the values of $\\alpha$ and $\\beta$ and\n",
    "their error estimates, or the variance and standard deviation and many\n",
    "other properties from the statistical data analysis. \n",
    "\n",
    "Here we show an\n",
    "example of the functionality of scikit-learn."
   ]
  },
  {
   "cell_type": "code",
   "execution_count": 6,
   "metadata": {},
   "outputs": [],
   "source": [
    "import numpy as np \n",
    "import matplotlib.pyplot as plt \n",
    "from sklearn.linear_model import LinearRegression \n",
    "from sklearn.metrics import mean_squared_error, r2_score, mean_squared_log_error, mean_absolute_error\n",
    "\n",
    "x = np.random.rand(100,1)\n",
    "y = 2.0+ 5*x+0.5*np.random.randn(100,1)\n",
    "linreg = LinearRegression()\n",
    "linreg.fit(x,y)\n",
    "ypredict = linreg.predict(x)\n",
    "print('The intercept alpha: \\n', linreg.intercept_)\n",
    "print('Coefficient beta : \\n', linreg.coef_)\n",
    "# The mean squared error                               \n",
    "print(\"Mean squared error: %.2f\" % mean_squared_error(y, ypredict))\n",
    "# Explained variance score: 1 is perfect prediction                                 \n",
    "print('Variance score: %.2f' % r2_score(y, ypredict))\n",
    "# Mean squared log error                                                        \n",
    "print('Mean squared log error: %.2f' % mean_squared_log_error(y, ypredict) )\n",
    "# Mean absolute error                                                           \n",
    "print('Mean absolute error: %.2f' % mean_absolute_error(y, ypredict))\n",
    "plt.plot(x, ypredict, \"r-\")\n",
    "plt.plot(x, y ,'ro')\n",
    "plt.axis([0.0,1.0,1.5, 7.0])\n",
    "plt.xlabel(r'$x$')\n",
    "plt.ylabel(r'$y$')\n",
    "plt.title(r'Linear Regression fit ')\n",
    "plt.show()"
   ]
  },
  {
   "cell_type": "markdown",
   "metadata": {},
   "source": [
    "## Functions in **scikit-learn**\n",
    "\n",
    "The function **coef** gives us the parameter $\\beta$ of our fit while **intercept** yields \n",
    "$\\alpha$. Depending on the constant in front of the normal distribution, we get values near or far from $alpha =2$ and $\\beta =5$. Try to play around with different parameters in front of the normal distribution. The function **meansquarederror** gives us the mean square error, a risk metric corresponding to the expected value of the squared (quadratic) error or loss defined as"
   ]
  },
  {
   "cell_type": "markdown",
   "metadata": {},
   "source": [
    "$$\n",
    "MSE(\\hat{y},\\hat{\\tilde{y}}) = \\frac{1}{n}\n",
    "\\sum_{i=0}^{n-1}(y_i-\\tilde{y}_i)^2,\n",
    "$$"
   ]
  },
  {
   "cell_type": "markdown",
   "metadata": {},
   "source": [
    "The smaller the value, the better the fit. Ideally we would like to\n",
    "have an MSE equal zero.  The attentive reader has probably recognized\n",
    "this function as being similar to the $\\chi^2$ function defined above.\n",
    "\n",
    "## Other functions in  **scikit-learn**\n",
    "\n",
    "The **r2score** function computes $R^2$, the coefficient of\n",
    "determination. It provides a measure of how well future samples are\n",
    "likely to be predicted by the model. Best possible score is 1.0 and it\n",
    "can be negative (because the model can be arbitrarily worse). A\n",
    "constant model that always predicts the expected value of $\\hat{y}$,\n",
    "disregarding the input features, would get a $R^2$ score of $0.0$.\n",
    "\n",
    "If $\\tilde{\\hat{y}}_i$ is the predicted value of the $i-th$ sample and $y_i$ is the corresponding true value, then the score $R^2$ is defined as"
   ]
  },
  {
   "cell_type": "markdown",
   "metadata": {},
   "source": [
    "$$\n",
    "R^2(\\hat{y}, \\tilde{\\hat{y}}) = 1 - \\frac{\\sum_{i=0}^{n - 1} (y_i - \\tilde{y}_i)^2}{\\sum_{i=0}^{n - 1} (y_i - \\bar{y})^2},\n",
    "$$"
   ]
  },
  {
   "cell_type": "markdown",
   "metadata": {},
   "source": [
    "where we have defined the mean value  of $\\hat{y}$ as"
   ]
  },
  {
   "cell_type": "markdown",
   "metadata": {},
   "source": [
    "$$\n",
    "\\bar{y} =  \\frac{1}{n} \\sum_{i=0}^{n - 1} y_i.\n",
    "$$"
   ]
  },
  {
   "cell_type": "markdown",
   "metadata": {},
   "source": [
    "## The mean absolute error and other functions in  **scikit-learn**\n",
    "\n",
    "Another quantity will meet again in our discussions of regression analysis is \n",
    " mean absolute error (MAE), a risk metric corresponding to the expected value of the absolute error loss or what we call the $l1$-norm loss. In our discussion above we presented the relative error.\n",
    "The MAE is defined as follows"
   ]
  },
  {
   "cell_type": "markdown",
   "metadata": {},
   "source": [
    "$$\n",
    "\\text{MAE}(\\hat{y}, \\hat{\\tilde{y}}) = \\frac{1}{n} \\sum_{i=0}^{n-1} \\left| y_i - \\tilde{y}_i \\right|.\n",
    "$$"
   ]
  },
  {
   "cell_type": "markdown",
   "metadata": {},
   "source": [
    "Finally we present the \n",
    "squared logarithmic (quadratic) error"
   ]
  },
  {
   "cell_type": "markdown",
   "metadata": {},
   "source": [
    "$$\n",
    "\\text{MSLE}(\\hat{y}, \\hat{\\tilde{y}}) = \\frac{1}{n} \\sum_{i=0}^{n - 1} (\\log_e (1 + y_i) - \\log_e (1 + \\tilde{y}_i) )^2,\n",
    "$$"
   ]
  },
  {
   "cell_type": "markdown",
   "metadata": {},
   "source": [
    "where $\\log_e (x)$ stands for the natural logarithm of $x$. This error\n",
    "estimate is best to use when targets having exponential growth, such\n",
    "as population counts, average sales of a commodity over a span of\n",
    "years etc. \n",
    "\n",
    "\n",
    "## Cubic polynomial in  **scikit-learn**\n",
    "\n",
    "We will discuss in more\n",
    "detail these and other functions in the various lectures.  We conclude this part with another example. Instead of \n",
    "a linear $x$-dependence we study now a cubic polynomial and use the polynomial regression analysis tools of scikit-learn. \n",
    "Add description of the various python commands."
   ]
  },
  {
   "cell_type": "code",
   "execution_count": 7,
   "metadata": {},
   "outputs": [],
   "source": [
    "import matplotlib.pyplot as plt\n",
    "import numpy as np\n",
    "import random\n",
    "from sklearn.linear_model import Ridge\n",
    "from sklearn.preprocessing import PolynomialFeatures\n",
    "from sklearn.pipeline import make_pipeline\n",
    "from sklearn.linear_model import LinearRegression\n",
    "\n",
    "x=np.linspace(0.02,0.98,200)\n",
    "noise = np.asarray(random.sample((range(200)),200))\n",
    "y=x**3*noise\n",
    "yn=x**3*100\n",
    "poly3 = PolynomialFeatures(degree=3)\n",
    "X = poly3.fit_transform(x[:,np.newaxis])\n",
    "clf3 = LinearRegression()\n",
    "clf3.fit(X,y)\n",
    "\n",
    "Xplot=poly3.fit_transform(x[:,np.newaxis])\n",
    "poly3_plot=plt.plot(x, clf3.predict(Xplot), label='Cubic Fit')\n",
    "plt.plot(x,yn, color='red', label=\"True Cubic\")\n",
    "plt.scatter(x, y, label='Data', color='orange', s=15)\n",
    "plt.legend()\n",
    "plt.show()\n",
    "\n",
    "def error(a):\n",
    "    for i in y:\n",
    "        err=(y-yn)/yn\n",
    "    return abs(np.sum(err))/len(err)\n",
    "\n",
    "print (error(y))"
   ]
  },
  {
   "cell_type": "markdown",
   "metadata": {},
   "source": [
    "Using **R**, we can perform similar studies. \n",
    "\n",
    "\n",
    "\n",
    "\n",
    "\n",
    "\n",
    "## Polynomial Regression"
   ]
  },
  {
   "cell_type": "code",
   "execution_count": 8,
   "metadata": {},
   "outputs": [],
   "source": [
    "# Importing various packages\n",
    "from math import exp, sqrt\n",
    "from random import random, seed\n",
    "import numpy as np\n",
    "import matplotlib.pyplot as plt\n",
    "\n",
    "m = 100\n",
    "x = 2*np.random.rand(m,1)+4.\n",
    "y = 4+3*x*x+ +x-np.random.randn(m,1)\n",
    "\n",
    "xb = np.c_[np.ones((m,1)), x]\n",
    "theta = np.linalg.inv(xb.T.dot(xb)).dot(xb.T).dot(y)\n",
    "xnew = np.array([[0],[2]])\n",
    "xbnew = np.c_[np.ones((2,1)), xnew]\n",
    "ypredict = xbnew.dot(theta)\n",
    "\n",
    "plt.plot(xnew, ypredict, \"r-\")\n",
    "plt.plot(x, y ,'ro')\n",
    "plt.axis([0,2.0,0, 15.0])\n",
    "plt.xlabel(r'$x$')\n",
    "plt.ylabel(r'$y$')\n",
    "plt.title(r'Random numbers ')\n",
    "plt.show()"
   ]
  },
  {
   "cell_type": "markdown",
   "metadata": {},
   "source": [
    "<!-- !split  -->\n",
    "## Linking the regression analysis with a statistical interpretation\n",
    "\n",
    "Before we proceed, and to link with our discussions of Bayesian statistics to come, it is useful the derive the standard regression analysis equations using a statistical interpretation. This allows us also to derive quantities like the variance and other expectation values in a rather straightforward way. \n",
    "\n",
    "It is assumed that $\\varepsilon_i\n",
    "\\sim \\mathcal{N}(0, \\sigma^2)$ and the $\\varepsilon_{i}$ are\n",
    "independent, i.e.:"
   ]
  },
  {
   "cell_type": "markdown",
   "metadata": {},
   "source": [
    "$$\n",
    "\\begin{align*} \n",
    "\\mbox{Cov}(\\varepsilon_{i_1},\n",
    "\\varepsilon_{i_2}) & = \\left\\{ \\begin{array}{lcc} \\sigma^2 & \\mbox{if}\n",
    "& i_1 = i_2, \\\\ 0 & \\mbox{if} & i_1 \\not= i_2.  \\end{array} \\right.\n",
    "\\end{align*}\n",
    "$$"
   ]
  },
  {
   "cell_type": "markdown",
   "metadata": {},
   "source": [
    "The randomness of $\\varepsilon_i$ implies that\n",
    "$\\mathbf{Y}_i$ is also a random variable. In particular,\n",
    "$\\mathbf{Y}_i$ is normally distributed, because $\\varepsilon_i \\sim\n",
    "\\mathcal{N}(0, \\sigma^2)$ and $\\mathbf{X}_{i,\\ast} \\, \\beta$ is a\n",
    "non-random scalar. To specify the parameters of the distribution of\n",
    "$\\mathbf{Y}_i$ we need to calculate its first two moments. \n",
    "\n",
    "## Expectation value and variance\n",
    "\n",
    "Its expectation equals:"
   ]
  },
  {
   "cell_type": "markdown",
   "metadata": {},
   "source": [
    "$$\n",
    "\\begin{align*} \n",
    "\\mathbb{E}(Y_i) & =\n",
    "\\mathbb{E}(\\mathbf{X}_{i, \\ast} \\, \\beta) + \\mathbb{E}(\\varepsilon_i)\n",
    "\\, \\, \\, = \\, \\, \\, \\mathbf{X}_{i, \\ast} \\, \\beta, \n",
    "\\end{align*}\n",
    "$$"
   ]
  },
  {
   "cell_type": "markdown",
   "metadata": {},
   "source": [
    "while\n",
    "its variance is"
   ]
  },
  {
   "cell_type": "markdown",
   "metadata": {},
   "source": [
    "$$\n",
    "\\begin{align*} \\mbox{Var}(Y_i) & = \\mathbb{E} \\{ [Y_i\n",
    "- \\mathbb{E}(Y_i)]^2 \\} \\, \\, \\, = \\, \\, \\, \\mathbb{E} ( Y_i^2 ) -\n",
    "[\\mathbb{E}(Y_i)]^2  \\\\  & = \\mathbb{E} [ ( \\mathbf{X}_{i, \\ast} \\,\n",
    "\\beta + \\varepsilon_i )^2] - ( \\mathbf{X}_{i, \\ast} \\, \\beta)^2 \\\\ &\n",
    "= \\mathbb{E} [ ( \\mathbf{X}_{i, \\ast} \\, \\beta)^2 + 2 \\varepsilon_i\n",
    "\\mathbf{X}_{i, \\ast} \\, \\beta + \\varepsilon_i^2 ] - ( \\mathbf{X}_{i,\n",
    "\\ast} \\, \\beta)^2 \\\\  & = ( \\mathbf{X}_{i, \\ast} \\, \\beta)^2 + 2\n",
    "\\mathbb{E}(\\varepsilon_i) \\mathbf{X}_{i, \\ast} \\, \\beta +\n",
    "\\mathbb{E}(\\varepsilon_i^2 ) - ( \\mathbf{X}_{i, \\ast} \\, \\beta)^2 \n",
    "\\\\ & = \\mathbb{E}(\\varepsilon_i^2 ) \\, \\, \\, = \\, \\, \\,\n",
    "\\mbox{Var}(\\varepsilon_i) \\, \\, \\, = \\, \\, \\, \\sigma^2.  \n",
    "\\end{align*}\n",
    "$$"
   ]
  },
  {
   "cell_type": "markdown",
   "metadata": {},
   "source": [
    "Hence, $Y_i \\sim \\mathcal{N}( \\mathbf{X}_{i, \\ast} \\, \\beta, \\sigma^2)$. \n",
    "\n",
    "\n",
    "\n",
    "\n",
    "\n",
    "\n",
    "## The singular value decompostion\n",
    "\n",
    "\n",
    "A general\n",
    "$m\\times n$ matrix $\\hat{A}$ can be written in terms of a diagonal\n",
    "matrix $\\hat{D}$ of dimensionality $n\\times n$ and two orthognal\n",
    "matrices $\\hat{U}$ and $\\hat{V}$, where the first has dimensionality\n",
    "$m \\times m$ and the last dimensionality $n\\times n$. \n",
    "We have then"
   ]
  },
  {
   "cell_type": "markdown",
   "metadata": {},
   "source": [
    "$$\n",
    "\\hat{A} = \\hat{U}\\hat{D}\\hat{V}^T\n",
    "$$"
   ]
  },
  {
   "cell_type": "markdown",
   "metadata": {},
   "source": [
    "## From standard regression to Ridge regressions\n",
    "\n",
    "One of the typical problems we encounter with linear regression, in particular \n",
    "when the matrix $\\hat{X}$ (our so-called design matrix) is high-dimensional, \n",
    "are problems with near singular or singular matrices. The column vectors of $\\hat{X}$ \n",
    "may be linearly dependent, normally referred to as super-collinearity.  \n",
    "This means that the matrix may be rank deficient and it is basically impossible to \n",
    "to model the data using linear regression. As an example, consider the matrix"
   ]
  },
  {
   "cell_type": "markdown",
   "metadata": {},
   "source": [
    "$$\n",
    "\\begin{align*}\n",
    "\\mathbf{X} & =  \\left[\n",
    "\\begin{array}{rrr}\n",
    "1 & -1 & 2\n",
    "\\\\\n",
    "1 & 0 & 1\n",
    "\\\\\n",
    "1 & 2  & -1\n",
    "\\\\\n",
    "1 & 1  & 0\n",
    "\\end{array} \\right]\n",
    "\\end{align*}\n",
    "$$"
   ]
  },
  {
   "cell_type": "markdown",
   "metadata": {},
   "source": [
    "The columns of $\\hat{X}$ are linearly dependent. We se this easily since the \n",
    "the first column is the row-wise sum of the other two columns. The rank (more correct,\n",
    "the column rank) of a matrix is the dimension of the space spanned by the\n",
    "column vectors. Hence, the rank of $\\mathbf{X}$ is equal to the number\n",
    "of linearly independent columns. In this particular case the matrix has rank 2.\n",
    "\n",
    "Super-collinearity of an $(n \\times p)$-dimensional design matrix $\\mathbf{X}$ implies\n",
    "that the inverse of the matrix $\\hat{X}^T\\hat{x}$ (the matrix we needto invert to solve the linear regression equations) is non-invertible. If we have a square matrix that does not have an inverse, we say this matrix singular. The example here demonstrates this"
   ]
  },
  {
   "cell_type": "markdown",
   "metadata": {},
   "source": [
    "$$\n",
    "\\begin{align*}\n",
    "\\hat{X} & =  \\left[\n",
    "\\begin{array}{rr}\n",
    "1 & -1\n",
    "\\\\\n",
    "1 & -1\n",
    "\\end{array} \\right].\n",
    "\\end{align*}\n",
    "$$"
   ]
  },
  {
   "cell_type": "markdown",
   "metadata": {},
   "source": [
    "We see easily that  $\\mbox{det}(\\hat{X}) = x_{11} x_{22} - x_{12} x_{21} = 1 \\times (-1) - 1 \\times (-1) = 0$. Hence, $\\mathbf{X}$ is singular and its inverse is undefined.\n",
    "This is equivalent to saying that the matrix $\\hat{X}$ has at least an eigenvalue which is zero.\n",
    "\n",
    "## Fixing the singularity\n",
    "\n",
    "If our design matrix $\\hat{X}$ which enters the linear regression problem"
   ]
  },
  {
   "cell_type": "markdown",
   "metadata": {},
   "source": [
    "<!-- Equation labels as ordinary links -->\n",
    "<div id=\"_auto1\"></div>\n",
    "\n",
    "$$\n",
    "\\begin{equation}\n",
    "\\hat{\\beta}  =  (\\hat{X}^{T} \\hat{X})^{-1} \\hat{X}^{T} \\hat{y},\n",
    "\\label{_auto1} \\tag{1}\n",
    "\\end{equation}\n",
    "$$"
   ]
  },
  {
   "cell_type": "markdown",
   "metadata": {},
   "source": [
    "has linearly dependent column vectors, we will not be able to compute the inverse\n",
    "of $\\hat{X}^T\\hat{X}$ and we cannot find the parameters (estimators) $\\beta_i$. \n",
    "The estimators are only well-defined if $(\\hat{X}^{T}\\hat{X})^{-1}$ exits. \n",
    "This is more likely to happen when the matrix $\\hat{X}$ is high-dimensional. In this case it is likely to encounter a situation where \n",
    "the regression parameters $\\beta_i$ cannot be estimated.\n",
    "\n",
    "The *ad hoc* approach which was introduced in the 70s was simply to add a diagonal component to the matrix to invert, that is we change"
   ]
  },
  {
   "cell_type": "markdown",
   "metadata": {},
   "source": [
    "$$\n",
    "\\hat{X}^{T} \\hat{X} \\rightarrow \\hat{X}^{T} \\hat{X}+\\lambda \\hat{I},\n",
    "$$"
   ]
  },
  {
   "cell_type": "markdown",
   "metadata": {},
   "source": [
    "where $\\hat{I}$ is the identity matrix.\n",
    "\n",
    "\n",
    "\n",
    "\n",
    "\n",
    "## Fitting vs. predicting when data is in the model class\n",
    "\n",
    "We start by considering the case\n",
    "$f(x)=2x$.\n",
    "\n",
    "Then the data is clearly generated by a model that is contained within\n",
    "all three model classes we are using to make predictions (linear\n",
    "models, third order polynomials, and tenth order polynomials).\n",
    "\n",
    "Run the code for the following cases:\n",
    "\n",
    "1. For  $f(x)=2x$ ,  $Ntrain=10$  and $\\sigma =0$  (noiseless case), train the three classes of models (linear, third-order polynomial, and tenth order polynomial) for a training set when  $x \\in [0,1]$ . Make graphs comparing fits for different order of polynomials. Which model fits the data the best?\n",
    "\n",
    "2. Do you think that the data that has the least error on the training set will also make the best predictions? Why or why not? Can you try to discuss and formalize your intuition? What can go right and what can go wrong?\n",
    "\n",
    "3. Check your answer by seeing how well your fits predict newly generated test data (including on data outside the range you fit on, for example  $x \\in [0,1.2]$ ) using the code below. How well do you do on points in the range of  x  where you trained the model? How about points outside the original training data set?\n",
    "\n",
    "4. Repeat the above for  $f(x)=2x$ ,  $Ntrain=10$ , and  $\\sigma=1$ . What changes?\n",
    "\n",
    "Repeat the exercises above for  $f(x)=2x$ ,  $Ntrain=100$ , and  $\\sigma=1$ . What changes?\n",
    "Summarize what you have learned about the relationship between model complexity (number of parameters), goodness of fit on training data, and the ability to predict well.\n",
    "\n",
    "\n",
    "## Fitting versus predicting when data is not in the model class\n",
    "\n",
    "Thus far, we have considered the case where the data is generated using a model contained in the model class. Now consider $f(x)=2x-10x^5+15x^{10}$ . Notice that the for linear and third-order polynomial the true model  $f(x)$  is not contained in model class.\n",
    "\n",
    "1. Do better fits lead to better predictions?\n",
    "\n",
    "2. What is the relationship between the true model for generating the data and the model class that has the most predictive power? How is this related to the model complexity? How does this depend on the number of data points  $Ntrain$  and  $\\sigma$?\n",
    "\n",
    "Summarize what you think you learned about the relationship of knowing the true model class and predictive power.\n",
    "\n",
    "## An example code without the model assessment part"
   ]
  },
  {
   "cell_type": "code",
   "execution_count": 9,
   "metadata": {},
   "outputs": [],
   "source": [
    "import numpy as np\n",
    "import sklearn as sk\n",
    "from sklearn import datasets, linear_model\n",
    "from sklearn.preprocessing import PolynomialFeatures\n",
    "\n",
    "import matplotlib as mpl\n",
    "from matplotlib import pyplot as plt\n",
    "\n",
    "%matplotlib notebook\n",
    "\n",
    "# The Training Data\n",
    "\n",
    "N_train=100\n",
    "\n",
    "sigma_train=1;\n",
    "\n",
    "# Train on integers\n",
    "x=np.linspace(0.05,0.95,N_train)\n",
    "# Draw random noise\n",
    "s = sigma_train*np.random.randn(N_train)\n",
    "\n",
    "#linear\n",
    "y=2*x+s\n",
    "\n",
    "#Tenth Order\n",
    "#y=2*x-10*x**5+15*x**10+s\n",
    "\n",
    "p1=plt.plot(x,y, \"o\",ms=15, label='Training')\n",
    "\n",
    "#Linear Regression\n",
    "# Create linear regression object\n",
    "clf = linear_model.LinearRegression()\n",
    "\n",
    "# Train the model using the training sets\n",
    "clf.fit(x[:, np.newaxis], y)\n",
    "# The coefficients\n",
    "\n",
    "xplot=np.linspace(0.02,0.98,200)\n",
    "linear_plot=plt.plot(xplot, clf.predict(xplot[:, np.newaxis]),label='Linear')\n",
    "\n",
    "#Polynomial Regression\n",
    "\n",
    "\n",
    "poly3 = PolynomialFeatures(degree=3)\n",
    "X = poly3.fit_transform(x[:,np.newaxis])\n",
    "clf3 = linear_model.LinearRegression()\n",
    "clf3.fit(X,y)\n",
    "\n",
    "\n",
    "Xplot=poly3.fit_transform(xplot[:,np.newaxis])\n",
    "poly3_plot=plt.plot(xplot, clf3.predict(Xplot), label='Poly 3')\n",
    "\n",
    "\n",
    "\n",
    "#poly5 = PolynomialFeatures(degree=5)\n",
    "#X = poly5.fit_transform(x[:,np.newaxis])\n",
    "#clf5 = linear_model.LinearRegression()\n",
    "#clf5.fit(X,y)\n",
    "\n",
    "#Xplot=poly5.fit_transform(xplot[:,np.newaxis])\n",
    "#plt.plot(xplot, clf5.predict(Xplot), 'r--',linewidth=1)\n",
    "\n",
    "poly10 = PolynomialFeatures(degree=10)\n",
    "X = poly10.fit_transform(x[:,np.newaxis])\n",
    "clf10 = linear_model.LinearRegression()\n",
    "clf10.fit(X,y)\n",
    "\n",
    "Xplot=poly10.fit_transform(xplot[:,np.newaxis])\n",
    "poly10_plot=plt.plot(xplot, clf10.predict(Xplot), label='Poly 10')\n",
    "\n",
    "axes = plt.gca()\n",
    "axes.set_ylim([-7,7])\n",
    "\n",
    "handles, labels=axes.get_legend_handles_labels()\n",
    "plt.legend(handles,labels, loc='lower center')\n",
    "plt.xlabel(\"$x$\")\n",
    "plt.ylabel(\"$y$\")\n",
    "Title=\"$N=$\"+str(N_train)+\", $\\sigma=$\"+str(sigma_train)\n",
    "plt.title(Title+\" (train)\")\n",
    "plt.tight_layout()\n",
    "plt.show()"
   ]
  },
  {
   "cell_type": "markdown",
   "metadata": {},
   "source": [
    "<!-- !split  -->\n",
    "## Generating test data"
   ]
  },
  {
   "cell_type": "code",
   "execution_count": 10,
   "metadata": {},
   "outputs": [],
   "source": [
    "# Generate Test Data\n",
    "\n",
    "#Number of test data\n",
    "N_test=20\n",
    "\n",
    "sigma_test=sigma_train\n",
    "\n",
    "max_x=1.2\n",
    "x_test=max_x*np.random.random(N_test)\n",
    "# Draw random noise\n",
    "s_test = sigma_test*np.random.randn(N_test)\n",
    "\n",
    "#Linear\n",
    "y_test=2*x_test+s_test\n",
    "#Tenth order\n",
    "#y_test=2*x_test-10*x_test**5+15*x_test**10+s_test\n",
    "\n",
    "#Make design matrices for prediction\n",
    "x_plot=np.linspace(0,max_x, 200)\n",
    "X3 = poly3.fit_transform(x_plot[:,np.newaxis])\n",
    "X10 = poly10.fit_transform(x_plot[:,np.newaxis])\n",
    "\n",
    "%matplotlib notebook\n",
    "\n",
    "fig = plt.figure() \n",
    "p1=plt.plot(x_test,y_test.transpose(), 'o', ms=12, label='data')\n",
    "p2=plt.plot(x_plot,clf.predict(x_plot[:,np.newaxis]), label='linear')\n",
    "p3=plt.plot(x_plot,clf3.predict(X3), label='3rd order')\n",
    "p10=plt.plot(x_plot,clf10.predict(X10), label='10th order')\n",
    "\n",
    "\n",
    "plt.legend(loc=2)\n",
    "plt.xlabel('$x$')\n",
    "plt.ylabel('$y$')\n",
    "plt.legend(loc='best')\n",
    "plt.title(Title+\" (pred.)\")\n",
    "plt.tight_layout()\n",
    "plt.show()"
   ]
  },
  {
   "cell_type": "markdown",
   "metadata": {},
   "source": [
    "## How can we effectively evaluate the various models?\n",
    "\n",
    "In Ridge regression and the subsequent discussion of its properties\n",
    "the bias or penalty parameter is considered known or `given'. In\n",
    "practice, it is unknown and the user needs to make an informed\n",
    "decision on its value. How do we do that?  Much of the same considerations apply to the Lasso method. \n",
    "\n",
    "## Code examples for Ridge and Lasso Regression"
   ]
  },
  {
   "cell_type": "code",
   "execution_count": 11,
   "metadata": {},
   "outputs": [],
   "source": [
    "import matplotlib.pyplot as plt\n",
    "import numpy as np\n",
    "from sklearn import linear_model\n",
    "from sklearn.linear_model import LinearRegression\n",
    "from sklearn.metrics import mean_squared_error, r2_score\n",
    "\n",
    "#creating data with random noise\n",
    "x=np.arange(50)\n",
    "\n",
    "delta=np.random.uniform(-2.5,2.5, size=(50))\n",
    "np.random.shuffle(delta)\n",
    "y =0.5*x+5+delta\n",
    "\n",
    "#arranging data into 2x50 matrix\n",
    "a=np.array(x) #inputs\n",
    "b=np.array(y) #outputs\n",
    "\n",
    "#Split into training and test\n",
    "X_train=a[:37, np.newaxis]\n",
    "X_test=a[37:, np.newaxis]\n",
    "y_train=b[:37]\n",
    "y_test=b[37:]\n",
    "\n",
    "print (\"X_train: \", X_train.shape)\n",
    "print (\"y_train: \", y_train.shape)\n",
    "print (\"X_test: \", X_test.shape)\n",
    "print (\"y_test: \", y_test.shape)\n",
    "\n",
    "print (\"------------------------------------\")\n",
    "\n",
    "print (\"Ordinary Least Squares\")\n",
    "#Add Ordinary Least Squares fit\n",
    "reg=LinearRegression()\n",
    "reg.fit(X_train, y_train)\n",
    "pred=reg.predict(X_test)\n",
    "print (\"Prediction Shape: \", pred.shape)\n",
    "\n",
    "print('Coefficients: \\n', reg.coef_)\n",
    "# The mean squared error\n",
    "print(\"Mean squared error: %.2f\"\n",
    "      % mean_squared_error(y_test, pred))\n",
    "# Explained variance score: 1 is perfect prediction\n",
    "print('Variance score: %.2f' % r2_score(y_test, pred))\n",
    "\n",
    "#plot\n",
    "plt.scatter(X_test,y_test,color='green', label=\"Training Data\")\n",
    "plt.plot(X_test, pred, color='black', label=\"Fit Line\")\n",
    "plt.legend()\n",
    "plt.show()\n",
    "\n",
    "print (\"------------------------------------\")\n",
    "\n",
    "print (\"Ridge Regression\")\n",
    "\n",
    "ridge=linear_model.RidgeCV(alphas=[0.1,1.0,10.0])\n",
    "ridge.fit(X_train,y_train)\n",
    "print (\"Ridge Coefficient: \",ridge.coef_)\n",
    "print (\"Ridge Intercept: \", ridge.intercept_)\n",
    "#Look into graphing with Ridge fit\n",
    "\n",
    "print (\"------------------------------------\")\n",
    "\n",
    "print (\"Lasso\")\n",
    "lasso=linear_model.Lasso(alpha=0.1)\n",
    "lasso.fit(X_train,y_train)\n",
    "predl=lasso.predict(X_test)\n",
    "print(\"Lasso Coefficient: \", lasso.coef_)\n",
    "print(\"Lasso Intercept: \", lasso.intercept_)\n",
    "plt.scatter(X_test,y_test,color='green', label=\"Training Data\")\n",
    "plt.plot(X_test, predl, color='blue', label=\"Lasso\")\n",
    "plt.legend()\n",
    "plt.show()"
   ]
  },
  {
   "cell_type": "markdown",
   "metadata": {},
   "source": [
    "## A second-order polynomial with Ridge and Lasso"
   ]
  },
  {
   "cell_type": "code",
   "execution_count": 12,
   "metadata": {},
   "outputs": [],
   "source": [
    "import numpy as np\n",
    "import matplotlib.pyplot as plt\n",
    "from sklearn.linear_model import Ridge\n",
    "from sklearn.metrics import r2_score\n",
    "\n",
    "np.random.seed(4155)\n",
    "\n",
    "n_samples = 100\n",
    "\n",
    "x = np.random.rand(n_samples,1)\n",
    "y = 5*x*x + 0.1*np.random.rand(n_samples,1)\n",
    "\n",
    "# Centering  x and y.\n",
    "x_ = x - np.mean(x)\n",
    "y_ = y - np.mean(y) # beta_0 = mean(y)\n",
    "\n",
    "X = np.c_[np.ones((n_samples,1)), x, x**2]\n",
    "X_ = np.c_[x_, x_**2]\n",
    "\n",
    "\n",
    "### 1.\n",
    "lmb_values = [1e-4, 1e-3, 1e-2, 10, 1e2, 1e4]\n",
    "num_values = len(lmb_values)\n",
    "\n",
    "## Ridge-regression of centered and not centered data\n",
    "beta_ridge = np.zeros((3,num_values))\n",
    "beta_ridge_centered = np.zeros((3,num_values))\n",
    "\n",
    "I3 = np.eye(3)\n",
    "I2 = np.eye(2)\n",
    "\n",
    "for i,lmb in enumerate(lmb_values):\n",
    "    beta_ridge[:,i] = (np.linalg.inv( X.T @ X + lmb*I3) @ X.T @ y).flatten()\n",
    "    beta_ridge_centered[1:,i] = (np.linalg.inv( X_.T @ X_ + lmb*I2) @ X_.T @ y_).flatten()\n",
    "\n",
    "# sett beta_0 = np.mean(y)\n",
    "beta_ridge_centered[0,:] = np.mean(y)\n",
    "\n",
    "## OLS (ordinary least squares) solution \n",
    "beta_ls = np.linalg.inv( X.T @ X ) @ X.T @ y\n",
    "\n",
    "## Evaluate the models\n",
    "pred_ls = X @ beta_ls\n",
    "pred_ridge =  X @ beta_ridge\n",
    "pred_ridge_centered =  X_ @ beta_ridge_centered[1:] + beta_ridge_centered[0,:]\n",
    "\n",
    "## Plot the results\n",
    "\n",
    "# Sorting\n",
    "sort_ind = np.argsort(x[:,0])\n",
    "\n",
    "x_plot = x[sort_ind,0]\n",
    "x_centered_plot = x_[sort_ind,0]\n",
    "\n",
    "pred_ls_plot = pred_ls[sort_ind,0]\n",
    "pred_ridge_plot = pred_ridge[sort_ind,:]\n",
    "pred_ridge_centered_plot = pred_ridge_centered[sort_ind,:]\n",
    "\n",
    "# Plott not centered\n",
    "plt.plot(x_plot,pred_ls_plot,label='ls')\n",
    "\n",
    "for i in range(num_values):\n",
    "    plt.plot(x_plot,pred_ridge_plot[:,i],label='ridge, lmb=%g'%lmb_values[i])\n",
    "\n",
    "plt.plot(x,y,'ro')\n",
    "\n",
    "plt.title('linear regression on un-centered data')\n",
    "plt.legend()\n",
    "\n",
    "# Plott centered\n",
    "plt.figure()\n",
    "\n",
    "for i in range(num_values):\n",
    "    plt.plot(x_centered_plot,pred_ridge_centered_plot[:,i],label='ridge, lmb=%g'%lmb_values[i])\n",
    "\n",
    "plt.plot(x_,y,'ro')\n",
    "\n",
    "plt.title('linear regression on centered data')\n",
    "plt.legend()\n",
    "\n",
    "\n",
    "# 2.\n",
    "\n",
    "pred_ridge_scikit =  np.zeros((n_samples,num_values))\n",
    "for i,lmb in enumerate(lmb_values):\n",
    "    pred_ridge_scikit[:,i] = (Ridge(alpha=lmb,fit_intercept=False).fit(X,y).predict(X)).flatten() # fit_intercept=False fordi bias er allerede i X\n",
    "\n",
    "plt.figure()\n",
    "\n",
    "plt.plot(x_plot,pred_ls_plot,label='ls')\n",
    "\n",
    "for i in range(num_values):\n",
    "    plt.plot(x_plot,pred_ridge_scikit[sort_ind,i],label='scikit-ridge, lmb=%g'%lmb_values[i])\n",
    "\n",
    "plt.plot(x,y,'ro')\n",
    "plt.legend()\n",
    "plt.title('linear regression using scikit')\n",
    "\n",
    "plt.show()\n",
    "\n",
    "### R2-score of the results\n",
    "for i in range(num_values):\n",
    "    print('lambda = %g'%lmb_values[i])\n",
    "    print('r2 for scikit: %g'%r2_score(y,pred_ridge_scikit[:,i]))\n",
    "    print('r2 for own code, not centered: %g'%r2_score(y,pred_ridge[:,i]))\n",
    "    print('r2 for own, centered: %g\\n'%r2_score(y,pred_ridge_centered[:,i]))"
   ]
  },
  {
   "cell_type": "markdown",
   "metadata": {},
   "source": [
    "## Resampling methods\n",
    "Resampling methods are an indispensable tool in modern\n",
    "statistics. They involve repeatedly drawing samples from a training\n",
    "set and refitting a model of interest on each sample in order to\n",
    "obtain additional information about the fitted model. For example, in\n",
    "order to estimate the variability of a linear regression fit, we can\n",
    "repeatedly draw different samples from the training data, fit a linear\n",
    "regression to each new sample, and then examine the extent to which\n",
    "the resulting fits differ. Such an approach may allow us to obtain\n",
    "information that would not be available from fitting the model only\n",
    "once using the original training sample.\n",
    "\n",
    "\n",
    "\n",
    "## Resampling approaches can be computationally expensive\n",
    "Resampling approaches can be computationally expensive, because they\n",
    "involve fitting the same statistical method multiple times using\n",
    "different subsets of the training data. However, due to recent\n",
    "advances in computing power, the computational requirements of\n",
    "resampling methods generally are not prohibitive. In this chapter, we\n",
    "discuss two of the most commonly used resampling methods,\n",
    "cross-validation and the bootstrap. Both methods are important tools\n",
    "in the practical application of many statistical learning\n",
    "procedures. For example, cross-validation can be used to estimate the\n",
    "test error associated with a given statistical learning method in\n",
    "order to evaluate its performance, or to select the appropriate level\n",
    "of flexibility. The process of evaluating a model’s performance is\n",
    "known as model assessment, whereas the process of selecting the proper\n",
    "level of flexibility for a model is known as model selection. The\n",
    "bootstrap is widely used.\n",
    "\n",
    "\n",
    "\n",
    "## Why resampling methods ?\n",
    "**Statistical analysis.**\n",
    "\n",
    "    * Our simulations can be treated as *computer experiments*. This is particularly the case for Monte Carlo methods\n",
    "\n",
    "    * The results can be analysed with the same statistical tools as we would use analysing experimental data.\n",
    "\n",
    "    * As in all experiments, we are looking for expectation values and an estimate of how accurate they are, i.e., possible sources for errors.\n",
    "\n",
    "    \n",
    "\n",
    "## Statistical analysis\n",
    "    * As in other experiments, many numerical  experiments have two classes of errors:\n",
    "\n",
    "      * Statistical errors\n",
    "\n",
    "      * Systematical errors\n",
    "\n",
    "\n",
    "    * Statistical errors can be estimated using standard tools from statistics\n",
    "\n",
    "    * Systematical errors are method specific and must be treated differently from case to case.\n",
    "\n",
    "    \n",
    "\n",
    "## Statistics\n",
    "The *probability distribution function (PDF)* is a function\n",
    "$p(x)$ on the domain which, in the discrete case, gives us the\n",
    "probability or relative frequency with which these values of $X$ occur:"
   ]
  },
  {
   "cell_type": "markdown",
   "metadata": {},
   "source": [
    "$$\n",
    "p(x) = \\mathrm{prob}(X=x)\n",
    "$$"
   ]
  },
  {
   "cell_type": "markdown",
   "metadata": {},
   "source": [
    "In the continuous case, the PDF does not directly depict the\n",
    "actual probability. Instead we define the probability for the\n",
    "stochastic variable to assume any value on an infinitesimal interval\n",
    "around $x$ to be $p(x)dx$. The continuous function $p(x)$ then gives us\n",
    "the *density* of the probability rather than the probability\n",
    "itself. The probability for a stochastic variable to assume any value\n",
    "on a non-infinitesimal interval $[a,\\,b]$ is then just the integral:"
   ]
  },
  {
   "cell_type": "markdown",
   "metadata": {},
   "source": [
    "$$\n",
    "\\mathrm{prob}(a\\leq X\\leq b) = \\int_a^b p(x)dx\n",
    "$$"
   ]
  },
  {
   "cell_type": "markdown",
   "metadata": {},
   "source": [
    "Qualitatively speaking, a stochastic variable represents the values of\n",
    "numbers chosen as if by chance from some specified PDF so that the\n",
    "selection of a large set of these numbers reproduces this PDF.\n",
    "\n",
    "\n",
    "\n",
    "\n",
    "## Statistics, moments\n",
    "A particularly useful class of special expectation values are the\n",
    "*moments*. The $n$-th moment of the PDF $p$ is defined as\n",
    "follows:"
   ]
  },
  {
   "cell_type": "markdown",
   "metadata": {},
   "source": [
    "$$\n",
    "\\langle x^n\\rangle \\equiv \\int\\! x^n p(x)\\,dx\n",
    "$$"
   ]
  },
  {
   "cell_type": "markdown",
   "metadata": {},
   "source": [
    "The zero-th moment $\\langle 1\\rangle$ is just the normalization condition of\n",
    "$p$. The first moment, $\\langle x\\rangle$, is called the *mean* of $p$\n",
    "and often denoted by the letter $\\mu$:"
   ]
  },
  {
   "cell_type": "markdown",
   "metadata": {},
   "source": [
    "$$\n",
    "\\langle x\\rangle = \\mu \\equiv \\int\\! x p(x)\\,dx\n",
    "$$"
   ]
  },
  {
   "cell_type": "markdown",
   "metadata": {},
   "source": [
    "## Statistics, central moments\n",
    "A special version of the moments is the set of *central moments*,\n",
    "the n-th central moment defined as:"
   ]
  },
  {
   "cell_type": "markdown",
   "metadata": {},
   "source": [
    "$$\n",
    "\\langle (x-\\langle x \\rangle )^n\\rangle \\equiv \\int\\! (x-\\langle x\\rangle)^n p(x)\\,dx\n",
    "$$"
   ]
  },
  {
   "cell_type": "markdown",
   "metadata": {},
   "source": [
    "The zero-th and first central moments are both trivial, equal $1$ and\n",
    "$0$, respectively. But the second central moment, known as the\n",
    "*variance* of $p$, is of particular interest. For the stochastic\n",
    "variable $X$, the variance is denoted as $\\sigma^2_X$ or $\\mathrm{var}(X)$:"
   ]
  },
  {
   "cell_type": "markdown",
   "metadata": {},
   "source": [
    "<!-- Equation labels as ordinary links -->\n",
    "<div id=\"_auto2\"></div>\n",
    "\n",
    "$$\n",
    "\\begin{equation}\n",
    "\\sigma^2_X\\ \\ =\\ \\ \\mathrm{var}(X)  =  \\langle (x-\\langle x\\rangle)^2\\rangle =\n",
    "\\int\\! (x-\\langle x\\rangle)^2 p(x)\\,dx\n",
    "\\label{_auto2} \\tag{2}\n",
    "\\end{equation}\n",
    "$$"
   ]
  },
  {
   "cell_type": "markdown",
   "metadata": {},
   "source": [
    "<!-- Equation labels as ordinary links -->\n",
    "<div id=\"_auto3\"></div>\n",
    "\n",
    "$$\n",
    "\\begin{equation} \n",
    " =  \\int\\! \\left(x^2 - 2 x \\langle x\\rangle^{2} +\n",
    "  \\langle x\\rangle^2\\right)p(x)\\,dx\n",
    "\\label{_auto3} \\tag{3}\n",
    "\\end{equation}\n",
    "$$"
   ]
  },
  {
   "cell_type": "markdown",
   "metadata": {},
   "source": [
    "<!-- Equation labels as ordinary links -->\n",
    "<div id=\"_auto4\"></div>\n",
    "\n",
    "$$\n",
    "\\begin{equation} \n",
    " =  \\langle x^2\\rangle - 2 \\langle x\\rangle\\langle x\\rangle + \\langle x\\rangle^2\n",
    "\\label{_auto4} \\tag{4}\n",
    "\\end{equation}\n",
    "$$"
   ]
  },
  {
   "cell_type": "markdown",
   "metadata": {},
   "source": [
    "<!-- Equation labels as ordinary links -->\n",
    "<div id=\"_auto5\"></div>\n",
    "\n",
    "$$\n",
    "\\begin{equation} \n",
    " =  \\langle x^2\\rangle - \\langle x\\rangle^2\n",
    "\\label{_auto5} \\tag{5}\n",
    "\\end{equation}\n",
    "$$"
   ]
  },
  {
   "cell_type": "markdown",
   "metadata": {},
   "source": [
    "The square root of the variance, $\\sigma =\\sqrt{\\langle (x-\\langle x\\rangle)^2\\rangle}$ is called the *standard deviation* of $p$. It is clearly just the RMS (root-mean-square)\n",
    "value of the deviation of the PDF from its mean value, interpreted\n",
    "qualitatively as the *spread* of $p$ around its mean.\n",
    "\n",
    "\n",
    "\n",
    "## Statistics, covariance\n",
    "Another important quantity is the so called covariance, a variant of\n",
    "the above defined variance. Consider again the set $\\{X_i\\}$ of $n$\n",
    "stochastic variables (not necessarily uncorrelated) with the\n",
    "multivariate PDF $P(x_1,\\dots,x_n)$. The *covariance* of two\n",
    "of the stochastic variables, $X_i$ and $X_j$, is defined as follows:"
   ]
  },
  {
   "cell_type": "markdown",
   "metadata": {},
   "source": [
    "$$\n",
    "\\mathrm{cov}(X_i,\\,X_j) \\equiv \\langle (x_i-\\langle x_i\\rangle)(x_j-\\langle x_j\\rangle)\\rangle\n",
    "\\nonumber\n",
    "$$"
   ]
  },
  {
   "cell_type": "markdown",
   "metadata": {},
   "source": [
    "<!-- Equation labels as ordinary links -->\n",
    "<div id=\"eq:def_covariance\"></div>\n",
    "\n",
    "$$\n",
    "\\begin{equation} \n",
    "=\n",
    "\\int\\!\\cdots\\!\\int\\!(x_i-\\langle x_i \\rangle)(x_j-\\langle x_j \\rangle)\\,\n",
    "P(x_1,\\dots,x_n)\\,dx_1\\dots dx_n\n",
    "\\label{eq:def_covariance} \\tag{6}\n",
    "\\end{equation}\n",
    "$$"
   ]
  },
  {
   "cell_type": "markdown",
   "metadata": {},
   "source": [
    "with"
   ]
  },
  {
   "cell_type": "markdown",
   "metadata": {},
   "source": [
    "$$\n",
    "\\langle x_i\\rangle =\n",
    "\\int\\!\\cdots\\!\\int\\!x_i\\,P(x_1,\\dots,x_n)\\,dx_1\\dots dx_n\n",
    "$$"
   ]
  },
  {
   "cell_type": "markdown",
   "metadata": {},
   "source": [
    "## Statistics, more covariance\n",
    "If we consider the above covariance as a matrix $C_{ij}=\\mathrm{cov}(X_i,\\,X_j)$, then the diagonal elements are just the familiar\n",
    "variances, $C_{ii} = \\mathrm{cov}(X_i,\\,X_i) = \\mathrm{var}(X_i)$. It turns out that\n",
    "all the off-diagonal elements are zero if the stochastic variables are\n",
    "uncorrelated. This is easy to show, keeping in mind the linearity of\n",
    "the expectation value. Consider the stochastic variables $X_i$ and\n",
    "$X_j$, ($i\\neq j$):"
   ]
  },
  {
   "cell_type": "markdown",
   "metadata": {},
   "source": [
    "<!-- Equation labels as ordinary links -->\n",
    "<div id=\"_auto6\"></div>\n",
    "\n",
    "$$\n",
    "\\begin{equation}\n",
    "\\mathrm{cov}(X_i,\\,X_j) = \\langle(x_i-\\langle x_i\\rangle)(x_j-\\langle x_j\\rangle)\\rangle\n",
    "\\label{_auto6} \\tag{7}\n",
    "\\end{equation}\n",
    "$$"
   ]
  },
  {
   "cell_type": "markdown",
   "metadata": {},
   "source": [
    "<!-- Equation labels as ordinary links -->\n",
    "<div id=\"_auto7\"></div>\n",
    "\n",
    "$$\n",
    "\\begin{equation} \n",
    "=\\langle x_i x_j - x_i\\langle x_j\\rangle - \\langle x_i\\rangle x_j + \\langle x_i\\rangle\\langle x_j\\rangle\\rangle \n",
    "\\label{_auto7} \\tag{8}\n",
    "\\end{equation}\n",
    "$$"
   ]
  },
  {
   "cell_type": "markdown",
   "metadata": {},
   "source": [
    "<!-- Equation labels as ordinary links -->\n",
    "<div id=\"_auto8\"></div>\n",
    "\n",
    "$$\n",
    "\\begin{equation} \n",
    "=\\langle x_i x_j\\rangle - \\langle x_i\\langle x_j\\rangle\\rangle - \\langle \\langle x_i\\rangle x_j\\rangle +\n",
    "\\langle \\langle x_i\\rangle\\langle x_j\\rangle\\rangle\n",
    "\\label{_auto8} \\tag{9}\n",
    "\\end{equation}\n",
    "$$"
   ]
  },
  {
   "cell_type": "markdown",
   "metadata": {},
   "source": [
    "<!-- Equation labels as ordinary links -->\n",
    "<div id=\"_auto9\"></div>\n",
    "\n",
    "$$\n",
    "\\begin{equation} \n",
    "=\\langle x_i x_j\\rangle - \\langle x_i\\rangle\\langle x_j\\rangle - \\langle x_i\\rangle\\langle x_j\\rangle +\n",
    "\\langle x_i\\rangle\\langle x_j\\rangle\n",
    "\\label{_auto9} \\tag{10}\n",
    "\\end{equation}\n",
    "$$"
   ]
  },
  {
   "cell_type": "markdown",
   "metadata": {},
   "source": [
    "<!-- Equation labels as ordinary links -->\n",
    "<div id=\"_auto10\"></div>\n",
    "\n",
    "$$\n",
    "\\begin{equation} \n",
    "=\\langle x_i x_j\\rangle - \\langle x_i\\rangle\\langle x_j\\rangle\n",
    "\\label{_auto10} \\tag{11}\n",
    "\\end{equation}\n",
    "$$"
   ]
  },
  {
   "cell_type": "markdown",
   "metadata": {},
   "source": [
    "## Statistics, independent variables\n",
    "If $X_i$ and $X_j$ are independent, we get \n",
    "$\\langle x_i x_j\\rangle =\\langle x_i\\rangle\\langle x_j\\rangle$, resulting in $\\mathrm{cov}(X_i, X_j) = 0\\ \\ (i\\neq j)$.\n",
    "\n",
    "Also useful for us is the covariance of linear combinations of\n",
    "stochastic variables. Let $\\{X_i\\}$ and $\\{Y_i\\}$ be two sets of\n",
    "stochastic variables. Let also $\\{a_i\\}$ and $\\{b_i\\}$ be two sets of\n",
    "scalars. Consider the linear combination:"
   ]
  },
  {
   "cell_type": "markdown",
   "metadata": {},
   "source": [
    "$$\n",
    "U = \\sum_i a_i X_i \\qquad V = \\sum_j b_j Y_j\n",
    "$$"
   ]
  },
  {
   "cell_type": "markdown",
   "metadata": {},
   "source": [
    "By the linearity of the expectation value"
   ]
  },
  {
   "cell_type": "markdown",
   "metadata": {},
   "source": [
    "$$\n",
    "\\mathrm{cov}(U, V) = \\sum_{i,j}a_i b_j \\mathrm{cov}(X_i, Y_j)\n",
    "$$"
   ]
  },
  {
   "cell_type": "markdown",
   "metadata": {},
   "source": [
    "## Statistics, more variance\n",
    "Now, since the variance is just $\\mathrm{var}(X_i) = \\mathrm{cov}(X_i, X_i)$, we get\n",
    "the variance of the linear combination $U = \\sum_i a_i X_i$:"
   ]
  },
  {
   "cell_type": "markdown",
   "metadata": {},
   "source": [
    "<!-- Equation labels as ordinary links -->\n",
    "<div id=\"eq:variance_linear_combination\"></div>\n",
    "\n",
    "$$\n",
    "\\begin{equation}\n",
    "\\mathrm{var}(U) = \\sum_{i,j}a_i a_j \\mathrm{cov}(X_i, X_j)\n",
    "\\label{eq:variance_linear_combination} \\tag{12}\n",
    "\\end{equation}\n",
    "$$"
   ]
  },
  {
   "cell_type": "markdown",
   "metadata": {},
   "source": [
    "And in the special case when the stochastic variables are\n",
    "uncorrelated, the off-diagonal elements of the covariance are as we\n",
    "know zero, resulting in:"
   ]
  },
  {
   "cell_type": "markdown",
   "metadata": {},
   "source": [
    "8\n",
    "3\n",
    " \n",
    "<\n",
    "<\n",
    "<\n",
    "!\n",
    "!\n",
    "M\n",
    "A\n",
    "T\n",
    "H\n",
    "_\n",
    "B\n",
    "L\n",
    "O\n",
    "C\n",
    "K"
   ]
  },
  {
   "cell_type": "markdown",
   "metadata": {},
   "source": [
    "$$\n",
    "\\mathrm{var}(\\sum_i a_i X_i) = \\sum_i a_i^2 \\mathrm{var}(X_i)\n",
    "$$"
   ]
  },
  {
   "cell_type": "markdown",
   "metadata": {},
   "source": [
    "which will become very useful in our study of the error in the mean\n",
    "value of a set of measurements.\n",
    "\n",
    "\n",
    "\n",
    "## Statistics and stochastic processes\n",
    "A *stochastic process* is a process that produces sequentially a\n",
    "chain of values:"
   ]
  },
  {
   "cell_type": "markdown",
   "metadata": {},
   "source": [
    "$$\n",
    "\\{x_1, x_2,\\dots\\,x_k,\\dots\\}.\n",
    "$$"
   ]
  },
  {
   "cell_type": "markdown",
   "metadata": {},
   "source": [
    "We will call these\n",
    "values our *measurements* and the entire set as our measured\n",
    "*sample*.  The action of measuring all the elements of a sample\n",
    "we will call a stochastic *experiment* since, operationally,\n",
    "they are often associated with results of empirical observation of\n",
    "some physical or mathematical phenomena; precisely an experiment. We\n",
    "assume that these values are distributed according to some \n",
    "PDF $p_X^{\\phantom X}(x)$, where $X$ is just the formal symbol for the\n",
    "stochastic variable whose PDF is $p_X^{\\phantom X}(x)$. Instead of\n",
    "trying to determine the full distribution $p$ we are often only\n",
    "interested in finding the few lowest moments, like the mean\n",
    "$\\mu_X^{\\phantom X}$ and the variance $\\sigma_X^{\\phantom X}$.\n",
    "\n",
    "\n",
    "\n",
    "\n",
    "<!-- !split  -->\n",
    "## Statistics and sample variables\n",
    "In practical situations a sample is always of finite size. Let that\n",
    "size be $n$. The expectation value of a sample, the *sample mean*, is then defined as follows:"
   ]
  },
  {
   "cell_type": "markdown",
   "metadata": {},
   "source": [
    "$$\n",
    "\\bar{x}_n \\equiv \\frac{1}{n}\\sum_{k=1}^n x_k\n",
    "$$"
   ]
  },
  {
   "cell_type": "markdown",
   "metadata": {},
   "source": [
    "The *sample variance* is:"
   ]
  },
  {
   "cell_type": "markdown",
   "metadata": {},
   "source": [
    "$$\n",
    "\\mathrm{var}(x) \\equiv \\frac{1}{n}\\sum_{k=1}^n (x_k - \\bar{x}_n)^2\n",
    "$$"
   ]
  },
  {
   "cell_type": "markdown",
   "metadata": {},
   "source": [
    "its square root being the *standard deviation of the sample*. The\n",
    "*sample covariance* is:"
   ]
  },
  {
   "cell_type": "markdown",
   "metadata": {},
   "source": [
    "$$\n",
    "\\mathrm{cov}(x)\\equiv\\frac{1}{n}\\sum_{kl}(x_k - \\bar{x}_n)(x_l - \\bar{x}_n)\n",
    "$$"
   ]
  },
  {
   "cell_type": "markdown",
   "metadata": {},
   "source": [
    "## Statistics, sample variance and covariance\n",
    "Note that the sample variance is the sample covariance without the\n",
    "cross terms. In a similar manner as the covariance in Eq. ([eq:def_covariance](#eq:def_covariance)) is a measure of the correlation between\n",
    "two stochastic variables, the above defined sample covariance is a\n",
    "measure of the sequential correlation between succeeding measurements\n",
    "of a sample.\n",
    "\n",
    "These quantities, being known experimental values, differ\n",
    "significantly from and must not be confused with the similarly named\n",
    "quantities for stochastic variables, mean $\\mu_X$, variance $\\mathrm{var}(X)$\n",
    "and covariance $\\mathrm{cov}(X,Y)$.\n",
    "\n",
    "\n",
    "\n",
    "## Statistics, law of large numbers\n",
    "The law of large numbers\n",
    "states that as the size of our sample grows to infinity, the sample\n",
    "mean approaches the true mean $\\mu_X^{\\phantom X}$ of the chosen PDF:"
   ]
  },
  {
   "cell_type": "markdown",
   "metadata": {},
   "source": [
    "$$\n",
    "\\lim_{n\\to\\infty}\\bar{x}_n = \\mu_X^{\\phantom X}\n",
    "$$"
   ]
  },
  {
   "cell_type": "markdown",
   "metadata": {},
   "source": [
    "The sample mean $\\bar{x}_n$ works therefore as an estimate of the true\n",
    "mean $\\mu_X^{\\phantom X}$.\n",
    "\n",
    "What we need to find out is how good an approximation $\\bar{x}_n$ is to\n",
    "$\\mu_X^{\\phantom X}$. In any stochastic measurement, an estimated\n",
    "mean is of no use to us without a measure of its error. A quantity\n",
    "that tells us how well we can reproduce it in another experiment. We\n",
    "are therefore interested in the PDF of the sample mean itself. Its\n",
    "standard deviation will be a measure of the spread of sample means,\n",
    "and we will simply call it the *error* of the sample mean, or\n",
    "just sample error, and denote it by $\\mathrm{err}_X^{\\phantom X}$. In\n",
    "practice, we will only be able to produce an *estimate* of the\n",
    "sample error since the exact value would require the knowledge of the\n",
    "true PDFs behind, which we usually do not have.\n",
    "\n",
    "\n",
    "\n",
    "\n",
    "## Statistics, more on sample error\n",
    "Let us first take a look at what happens to the sample error as the\n",
    "size of the sample grows. In a sample, each of the measurements $x_i$\n",
    "can be associated with its own stochastic variable $X_i$. The\n",
    "stochastic variable $\\overline X_n$ for the sample mean $\\bar{x}_n$ is\n",
    "then just a linear combination, already familiar to us:"
   ]
  },
  {
   "cell_type": "markdown",
   "metadata": {},
   "source": [
    "$$\n",
    "\\overline X_n = \\frac{1}{n}\\sum_{i=1}^n X_i\n",
    "$$"
   ]
  },
  {
   "cell_type": "markdown",
   "metadata": {},
   "source": [
    "All the coefficients are just equal $1/n$. The PDF of $\\overline X_n$,\n",
    "denoted by $p_{\\overline X_n}(x)$ is the desired PDF of the sample\n",
    "means.\n",
    "\n",
    "\n",
    "\n",
    "## Statistics\n",
    "The probability density of obtaining a sample mean $\\bar x_n$\n",
    "is the product of probabilities of obtaining arbitrary values $x_1,\n",
    "x_2,\\dots,x_n$ with the constraint that the mean of the set $\\{x_i\\}$\n",
    "is $\\bar x_n$:"
   ]
  },
  {
   "cell_type": "markdown",
   "metadata": {},
   "source": [
    "$$\n",
    "p_{\\overline X_n}(x) = \\int p_X^{\\phantom X}(x_1)\\cdots\n",
    "\\int p_X^{\\phantom X}(x_n)\\ \n",
    "\\delta\\!\\left(x - \\frac{x_1+x_2+\\dots+x_n}{n}\\right)dx_n \\cdots dx_1\n",
    "$$"
   ]
  },
  {
   "cell_type": "markdown",
   "metadata": {},
   "source": [
    "And in particular we are interested in its variance $\\mathrm{var}(\\overline X_n)$.\n",
    "\n",
    "\n",
    "\n",
    "\n",
    "\n",
    "## Statistics, central limit theorem\n",
    "It is generally not possible to express $p_{\\overline X_n}(x)$ in a\n",
    "closed form given an arbitrary PDF $p_X^{\\phantom X}$ and a number\n",
    "$n$. But for the limit $n\\to\\infty$ it is possible to make an\n",
    "approximation. The very important result is called *the central limit theorem*. It tells us that as $n$ goes to infinity,\n",
    "$p_{\\overline X_n}(x)$ approaches a Gaussian distribution whose mean\n",
    "and variance equal the true mean and variance, $\\mu_{X}^{\\phantom X}$\n",
    "and $\\sigma_{X}^{2}$, respectively:"
   ]
  },
  {
   "cell_type": "markdown",
   "metadata": {},
   "source": [
    "<!-- Equation labels as ordinary links -->\n",
    "<div id=\"eq:central_limit_gaussian\"></div>\n",
    "\n",
    "$$\n",
    "\\begin{equation}\n",
    "\\lim_{n\\to\\infty} p_{\\overline X_n}(x) =\n",
    "\\left(\\frac{n}{2\\pi\\mathrm{var}(X)}\\right)^{1/2}\n",
    "e^{-\\frac{n(x-\\bar x_n)^2}{2\\mathrm{var}(X)}}\n",
    "\\label{eq:central_limit_gaussian} \\tag{13}\n",
    "\\end{equation}\n",
    "$$"
   ]
  },
  {
   "cell_type": "markdown",
   "metadata": {},
   "source": [
    "## Statistics, more technicalities\n",
    "The desired variance\n",
    "$\\mathrm{var}(\\overline X_n)$, i.e. the sample error squared\n",
    "$\\mathrm{err}_X^2$, is given by:"
   ]
  },
  {
   "cell_type": "markdown",
   "metadata": {},
   "source": [
    "<!-- Equation labels as ordinary links -->\n",
    "<div id=\"eq:error_exact\"></div>\n",
    "\n",
    "$$\n",
    "\\begin{equation}\n",
    "\\mathrm{err}_X^2 = \\mathrm{var}(\\overline X_n) = \\frac{1}{n^2}\n",
    "\\sum_{ij} \\mathrm{cov}(X_i, X_j)\n",
    "\\label{eq:error_exact} \\tag{14}\n",
    "\\end{equation}\n",
    "$$"
   ]
  },
  {
   "cell_type": "markdown",
   "metadata": {},
   "source": [
    "We see now that in order to calculate the exact error of the sample\n",
    "with the above expression, we would need the true means\n",
    "$\\mu_{X_i}^{\\phantom X}$ of the stochastic variables $X_i$. To\n",
    "calculate these requires that we know the true multivariate PDF of all\n",
    "the $X_i$. But this PDF is unknown to us, we have only got the measurements of\n",
    "one sample. The best we can do is to let the sample itself be an\n",
    "estimate of the PDF of each of the $X_i$, estimating all properties of\n",
    "$X_i$ through the measurements of the sample.\n",
    "\n",
    "\n",
    "\n",
    "\n",
    "## Statistics\n",
    "Our estimate of $\\mu_{X_i}^{\\phantom X}$ is then the sample mean $\\bar x$\n",
    "itself, in accordance with the the central limit theorem:"
   ]
  },
  {
   "cell_type": "markdown",
   "metadata": {},
   "source": [
    "$$\n",
    "\\mu_{X_i}^{\\phantom X} = \\langle x_i\\rangle \\approx \\frac{1}{n}\\sum_{k=1}^n x_k = \\bar x\n",
    "$$"
   ]
  },
  {
   "cell_type": "markdown",
   "metadata": {},
   "source": [
    "Using $\\bar x$ in place of $\\mu_{X_i}^{\\phantom X}$ we can give an\n",
    "*estimate* of the covariance in Eq. ([eq:error_exact](#eq:error_exact))"
   ]
  },
  {
   "cell_type": "markdown",
   "metadata": {},
   "source": [
    "$$\n",
    "\\mathrm{cov}(X_i, X_j) = \\langle (x_i-\\langle x_i\\rangle)(x_j-\\langle x_j\\rangle)\\rangle\n",
    "\\approx\\langle (x_i - \\bar x)(x_j - \\bar{x})\\rangle,\n",
    "$$"
   ]
  },
  {
   "cell_type": "markdown",
   "metadata": {},
   "source": [
    "resulting in"
   ]
  },
  {
   "cell_type": "markdown",
   "metadata": {},
   "source": [
    "$$\n",
    "\\frac{1}{n} \\sum_{l}^n \\left(\\frac{1}{n}\\sum_{k}^n (x_k -\\bar x_n)(x_l - \\bar x_n)\\right)=\\frac{1}{n}\\frac{1}{n} \\sum_{kl} (x_k -\\bar x_n)(x_l - \\bar x_n)=\\frac{1}{n}\\mathrm{cov}(x)\n",
    "$$"
   ]
  },
  {
   "cell_type": "markdown",
   "metadata": {},
   "source": [
    "## Statistics and sample variance\n",
    "By the same procedure we can use the sample variance as an\n",
    "estimate of the variance of any of the stochastic variables $X_i$"
   ]
  },
  {
   "cell_type": "markdown",
   "metadata": {},
   "source": [
    "$$\n",
    "\\mathrm{var}(X_i)=\\langle x_i - \\langle x_i\\rangle\\rangle \\approx \\langle x_i - \\bar x_n\\rangle\\nonumber,\n",
    "$$"
   ]
  },
  {
   "cell_type": "markdown",
   "metadata": {},
   "source": [
    "which is approximated as"
   ]
  },
  {
   "cell_type": "markdown",
   "metadata": {},
   "source": [
    "<!-- Equation labels as ordinary links -->\n",
    "<div id=\"eq:var_estimate_i_think\"></div>\n",
    "\n",
    "$$\n",
    "\\begin{equation}\n",
    "\\mathrm{var}(X_i)\\approx \\frac{1}{n}\\sum_{k=1}^n (x_k - \\bar x_n)=\\mathrm{var}(x)\n",
    "\\label{eq:var_estimate_i_think} \\tag{15}\n",
    "\\end{equation}\n",
    "$$"
   ]
  },
  {
   "cell_type": "markdown",
   "metadata": {},
   "source": [
    "Now we can calculate an estimate of the error\n",
    "$\\mathrm{err}_X^{\\phantom X}$ of the sample mean $\\bar x_n$:"
   ]
  },
  {
   "cell_type": "markdown",
   "metadata": {},
   "source": [
    "$$\n",
    "\\mathrm{err}_X^2\n",
    "=\\frac{1}{n^2}\\sum_{ij} \\mathrm{cov}(X_i, X_j) \\nonumber\n",
    "$$"
   ]
  },
  {
   "cell_type": "markdown",
   "metadata": {},
   "source": [
    "$$\n",
    "\\approx\\frac{1}{n^2}\\sum_{ij}\\frac{1}{n}\\mathrm{cov}(x) =\\frac{1}{n^2}n^2\\frac{1}{n}\\mathrm{cov}(x)\\nonumber\n",
    "$$"
   ]
  },
  {
   "cell_type": "markdown",
   "metadata": {},
   "source": [
    "<!-- Equation labels as ordinary links -->\n",
    "<div id=\"eq:error_estimate\"></div>\n",
    "\n",
    "$$\n",
    "\\begin{equation} \n",
    "=\\frac{1}{n}\\mathrm{cov}(x)\n",
    "\\label{eq:error_estimate} \\tag{16}\n",
    "\\end{equation}\n",
    "$$"
   ]
  },
  {
   "cell_type": "markdown",
   "metadata": {},
   "source": [
    "which is nothing but the sample covariance divided by the number of\n",
    "measurements in the sample.\n",
    "\n",
    "\n",
    "\n",
    "## Statistics, uncorrelated results\n",
    "\n",
    "In the special case that the measurements of the sample are\n",
    "uncorrelated (equivalently the stochastic variables $X_i$ are\n",
    "uncorrelated) we have that the off-diagonal elements of the covariance\n",
    "are zero. This gives the following estimate of the sample error:"
   ]
  },
  {
   "cell_type": "markdown",
   "metadata": {},
   "source": [
    "$$\n",
    "\\mathrm{err}_X^2=\\frac{1}{n^2}\\sum_{ij} \\mathrm{cov}(X_i, X_j) =\n",
    "\\frac{1}{n^2} \\sum_i \\mathrm{var}(X_i),\n",
    "$$"
   ]
  },
  {
   "cell_type": "markdown",
   "metadata": {},
   "source": [
    "resulting in"
   ]
  },
  {
   "cell_type": "markdown",
   "metadata": {},
   "source": [
    "<!-- Equation labels as ordinary links -->\n",
    "<div id=\"eq:error_estimate_uncorrel\"></div>\n",
    "\n",
    "$$\n",
    "\\begin{equation}\n",
    "\\mathrm{err}_X^2\\approx \\frac{1}{n^2} \\sum_i \\mathrm{var}(x)= \\frac{1}{n}\\mathrm{var}(x)\n",
    "\\label{eq:error_estimate_uncorrel} \\tag{17}\n",
    "\\end{equation}\n",
    "$$"
   ]
  },
  {
   "cell_type": "markdown",
   "metadata": {},
   "source": [
    "where in the second step we have used Eq. ([eq:var_estimate_i_think](#eq:var_estimate_i_think)).\n",
    "The error of the sample is then just its standard deviation divided by\n",
    "the square root of the number of measurements the sample contains.\n",
    "This is a very useful formula which is easy to compute. It acts as a\n",
    "first approximation to the error, but in numerical experiments, we\n",
    "cannot overlook the always present correlations.\n",
    "\n",
    "\n",
    "\n",
    "## Statistics, computations\n",
    "For computational purposes one usually splits up the estimate of\n",
    "$\\mathrm{err}_X^2$, given by Eq. ([eq:error_estimate](#eq:error_estimate)), into two\n",
    "parts"
   ]
  },
  {
   "cell_type": "markdown",
   "metadata": {},
   "source": [
    "$$\n",
    "\\mathrm{err}_X^2 = \\frac{1}{n}\\mathrm{var}(x) + \\frac{1}{n}(\\mathrm{cov}(x)-\\mathrm{var}(x)),\n",
    "$$"
   ]
  },
  {
   "cell_type": "markdown",
   "metadata": {},
   "source": [
    "which equals"
   ]
  },
  {
   "cell_type": "markdown",
   "metadata": {},
   "source": [
    "<!-- Equation labels as ordinary links -->\n",
    "<div id=\"eq:error_estimate_split_up\"></div>\n",
    "\n",
    "$$\n",
    "\\begin{equation}\n",
    "\\frac{1}{n^2}\\sum_{k=1}^n (x_k - \\bar x_n)^2 +\\frac{2}{n^2}\\sum_{k<l} (x_k - \\bar x_n)(x_l - \\bar x_n)\n",
    "\\label{eq:error_estimate_split_up} \\tag{18}\n",
    "\\end{equation}\n",
    "$$"
   ]
  },
  {
   "cell_type": "markdown",
   "metadata": {},
   "source": [
    "The first term is the same as the error in the uncorrelated case,\n",
    "Eq. ([eq:error_estimate_uncorrel](#eq:error_estimate_uncorrel)). This means that the second\n",
    "term accounts for the error correction due to correlation between the\n",
    "measurements. For uncorrelated measurements this second term is zero.\n",
    "\n",
    "\n",
    "\n",
    "## Statistics, more on computations of errors\n",
    "Computationally the uncorrelated first term is much easier to treat\n",
    "efficiently than the second."
   ]
  },
  {
   "cell_type": "markdown",
   "metadata": {},
   "source": [
    "$$\n",
    "\\mathrm{var}(x) = \\frac{1}{n}\\sum_{k=1}^n (x_k - \\bar x_n)^2 =\n",
    "\\left(\\frac{1}{n}\\sum_{k=1}^n x_k^2\\right) - \\bar x_n^2\n",
    "$$"
   ]
  },
  {
   "cell_type": "markdown",
   "metadata": {},
   "source": [
    "We just accumulate separately the values $x^2$ and $x$ for every\n",
    "measurement $x$ we receive. The correlation term, though, has to be\n",
    "calculated at the end of the experiment since we need all the\n",
    "measurements to calculate the cross terms. Therefore, all measurements\n",
    "have to be stored throughout the experiment.\n",
    "\n",
    "\n",
    "\n",
    "\n",
    "\n",
    "\n",
    "## Statistics, wrapping up 1\n",
    "Let us analyze the problem by splitting up the correlation term into\n",
    "partial sums of the form:"
   ]
  },
  {
   "cell_type": "markdown",
   "metadata": {},
   "source": [
    "$$\n",
    "f_d = \\frac{1}{n-d}\\sum_{k=1}^{n-d}(x_k - \\bar x_n)(x_{k+d} - \\bar x_n)\n",
    "$$"
   ]
  },
  {
   "cell_type": "markdown",
   "metadata": {},
   "source": [
    "The correlation term of the error can now be rewritten in terms of\n",
    "$f_d$"
   ]
  },
  {
   "cell_type": "markdown",
   "metadata": {},
   "source": [
    "$$\n",
    "\\frac{2}{n}\\sum_{k<l} (x_k - \\bar x_n)(x_l - \\bar x_n) =\n",
    "2\\sum_{d=1}^{n-1} f_d\n",
    "$$"
   ]
  },
  {
   "cell_type": "markdown",
   "metadata": {},
   "source": [
    "The value of $f_d$ reflects the correlation between measurements\n",
    "separated by the distance $d$ in the sample samples.  Notice that for\n",
    "$d=0$, $f$ is just the sample variance, $\\mathrm{var}(x)$. If we divide $f_d$\n",
    "by $\\mathrm{var}(x)$, we arrive at the so called *autocorrelation function*"
   ]
  },
  {
   "cell_type": "markdown",
   "metadata": {},
   "source": [
    "$$\n",
    "\\kappa_d = \\frac{f_d}{\\mathrm{var}(x)}\n",
    "$$"
   ]
  },
  {
   "cell_type": "markdown",
   "metadata": {},
   "source": [
    "which gives us a useful measure of pairwise correlations\n",
    "starting always at $1$ for $d=0$.\n",
    "\n",
    "\n",
    "\n",
    "\n",
    "## Statistics, final expression\n",
    "The sample error (see eq. ([eq:error_estimate_split_up](#eq:error_estimate_split_up))) can now be\n",
    "written in terms of the autocorrelation function:"
   ]
  },
  {
   "cell_type": "markdown",
   "metadata": {},
   "source": [
    "$$\n",
    "\\mathrm{err}_X^2 =\n",
    "\\frac{1}{n}\\mathrm{var}(x)+\\frac{2}{n}\\cdot\\mathrm{var}(x)\\sum_{d=1}^{n-1}\n",
    "\\frac{f_d}{\\mathrm{var}(x)}\\nonumber\n",
    "$$"
   ]
  },
  {
   "cell_type": "markdown",
   "metadata": {},
   "source": [
    "$$\n",
    "=\n",
    "\\left(1+2\\sum_{d=1}^{n-1}\\kappa_d\\right)\\frac{1}{n}\\mathrm{var}(x)\\nonumber\n",
    "$$"
   ]
  },
  {
   "cell_type": "markdown",
   "metadata": {},
   "source": [
    "<!-- Equation labels as ordinary links -->\n",
    "<div id=\"eq:error_estimate_corr_time\"></div>\n",
    "\n",
    "$$\n",
    "\\begin{equation} \n",
    "=\\frac{\\tau}{n}\\cdot\\mathrm{var}(x)\n",
    "\\label{eq:error_estimate_corr_time} \\tag{19}\n",
    "\\end{equation}\n",
    "$$"
   ]
  },
  {
   "cell_type": "markdown",
   "metadata": {},
   "source": [
    "and we see that $\\mathrm{err}_X$ can be expressed in terms the\n",
    "uncorrelated sample variance times a correction factor $\\tau$ which\n",
    "accounts for the correlation between measurements. We call this\n",
    "correction factor the *autocorrelation time*:"
   ]
  },
  {
   "cell_type": "markdown",
   "metadata": {},
   "source": [
    "<!-- Equation labels as ordinary links -->\n",
    "<div id=\"eq:autocorrelation_time\"></div>\n",
    "\n",
    "$$\n",
    "\\begin{equation}\n",
    "\\tau = 1+2\\sum_{d=1}^{n-1}\\kappa_d\n",
    "\\label{eq:autocorrelation_time} \\tag{20}\n",
    "\\end{equation}\n",
    "$$"
   ]
  },
  {
   "cell_type": "markdown",
   "metadata": {},
   "source": [
    "## Statistics, effective number of correlations\n",
    "For a correlation free experiment, $\\tau$\n",
    "equals 1. From the point of view of\n",
    "eq. ([eq:error_estimate_corr_time](#eq:error_estimate_corr_time)) we can interpret a sequential\n",
    "correlation as an effective reduction of the number of measurements by\n",
    "a factor $\\tau$. The effective number of measurements becomes:"
   ]
  },
  {
   "cell_type": "markdown",
   "metadata": {},
   "source": [
    "$$\n",
    "n_\\mathrm{eff} = \\frac{n}{\\tau}\n",
    "$$"
   ]
  },
  {
   "cell_type": "markdown",
   "metadata": {},
   "source": [
    "To neglect the autocorrelation time $\\tau$ will always cause our\n",
    "simple uncorrelated estimate of $\\mathrm{err}_X^2\\approx \\mathrm{var}(x)/n$ to\n",
    "be less than the true sample error. The estimate of the error will be\n",
    "too *good*. On the other hand, the calculation of the full\n",
    "autocorrelation time poses an efficiency problem if the set of\n",
    "measurements is very large.\n",
    "\n",
    "\n",
    "\n",
    "\n",
    "\n",
    "\n",
    "\n",
    "\n",
    "## Log-likelihood\n",
    "\n",
    "A popular strategy is to choose a penalty parameter that yields a good\n",
    "but parsimonious model. Information criteria measure the balance\n",
    "between model fit and model complexity. One possibility is  Aikaike's\n",
    "information criterion (AIC).\n",
    "The AIC measures model fit by the log-likelihood\n",
    "and model complexity is measured by the number of parameters used by\n",
    "the model. The number of model parameters in regular regression simply\n",
    "corresponds to the number of covariates in the model. Or, by the\n",
    "degrees of freedom consumed by the model, which is equivalent to the\n",
    "trace of the hat matrix. For ridge regression it thus seems natural to\n",
    "define model complexity analogously by the trace of the ridge hat\n",
    "matrix. This yields the AIC for the linear regression model with ridge\n",
    "estimates:"
   ]
  },
  {
   "cell_type": "markdown",
   "metadata": {},
   "source": [
    "$$\n",
    "\\begin{align*}\n",
    "\\mbox{AIC}(\\lambda) & =  2 \\, p - 2 \\log(\\hat{L})\n",
    "\\\\\n",
    "& =  2 \\, \\mbox{tr} [\\mathbf{H}(\\lambda)] - 2 \\log\\{L[\\hat{\\beta}(\\lambda), \\hat{\\sigma}^2(\\lambda)]\\}\n",
    "\\\\\n",
    "& =  2 \\, \\sum_{j=1}^p \\frac{d_{jj}^2}{d_{jj}^2 + \\lambda}\n",
    "+ 2 n \\, \\log[\\sqrt{2 \\, \\pi} \\, \\hat{\\sigma}(\\lambda)] +  \\frac{1}{\\hat{\\sigma}^2(\\lambda)} \\sum_{i=1}^n [y_i - \\mathbf{X}_{i, \\ast} \\, \\hat{\\beta}(\\lambda)]^2.\n",
    "\\end{align*}\n",
    "$$"
   ]
  },
  {
   "cell_type": "markdown",
   "metadata": {},
   "source": [
    "The value of $\\lambda$ which minimizes $\\mbox{AIC}(\\lambda)$ corresponds to the `optimal' balance of model complexity and overfitting.\n",
    "\n",
    "\n",
    "<!-- !split  -->\n",
    "## Cross-validation\n",
    "\n",
    "Instead of choosing the penalty parameter to balance model fit with\n",
    "model complexity, cross-validation requires it (i.e. the penalty\n",
    "parameter) to yield a model with good prediction\n",
    "performance. Commonly, this performance is evaluated on novel\n",
    "data. Novel data need not be easy to come by and one has to make do\n",
    "with the data at hand. The setting of `original' and novel data is\n",
    "then mimicked by sample splitting: the data set is divided into two\n",
    "(groups of samples). One of these two data sets, called the *training\n",
    "set*, plays the role of `original' data on which the model is\n",
    "built. The second of these data sets, called the *test set*, plays the\n",
    "role of the `novel' data and is used to evaluate the prediction\n",
    "performance (often operationalized as the log-likelihood or the\n",
    "prediction error or its square or the R2 score) of the model built on the training data set. This\n",
    "procedure (model building and prediction evaluation on training and\n",
    "test set, respectively) is done for a collection of possible penalty\n",
    "parameter choices. The penalty parameter that yields the model with\n",
    "the best prediction performance is to be preferred. The thus obtained\n",
    "performance evaluation depends on the actual split of the data set. To\n",
    "remove this dependence the data set is split many times into a\n",
    "training and test set. For each split the model parameters are\n",
    "estimated for all choices of $\\lambda$ using the training data and\n",
    "estimated parameters are evaluated on the corresponding test set. The\n",
    "penalty parameter that on average over the test sets performs best (in\n",
    "some sense) is then selected.\n",
    "\n",
    "\n",
    "## Computationally expensive\n",
    "\n",
    "The validation set approach is conceptually simple and is easy to implement. But it has two potential drawbacks:\n",
    "\n",
    "* The validation estimate of the test error rate can be highly variable, depending on precisely which observations are included in the training set and which observations are included in the validation set.\n",
    "\n",
    "* In the validation approach, only a subset of the observations, those that are included in the training set rather than in the validation set are used to fit the model. Since statistical methods tend to perform worse when trained on fewer observations, this suggests that the validation set error rate may tend to overestimate the test error rate for the model fit on the entire data set.\n",
    "\n",
    "<!-- !split  -->\n",
    "## Various steps in cross-validation\n",
    "\n",
    "When the repetitive splitting of the data set is done randomly,\n",
    "samples may accidently end up in a fast majority of the splits in\n",
    "either training or test set. Such samples may have an unbalanced\n",
    "influence on either model building or prediction evaluation. To avoid\n",
    "this $k$-fold cross-validation structures the data splitting. The\n",
    "samples are divided into $k$ more or less equally sized exhaustive and\n",
    "mutually exclusive subsets. In turn (at each split) one of these\n",
    "subsets plays the role of the test set while the union of the\n",
    "remaining subsets constitutes the training set. Such a splitting\n",
    "warrants a balanced representation of each sample in both training and\n",
    "test set over the splits. Still the division into the $k$ subsets\n",
    "involves a degree of randomness. This may be fully excluded when\n",
    "choosing $k=n$. This particular case is referred to as leave-one-out\n",
    "cross-validation (LOOCV). \n",
    "\n",
    "<!-- !split  -->\n",
    "## How to set up the cross-validation for Ridge and/or Lasso\n",
    "\n",
    "* Define a range of interest for the penalty parameter.\n",
    "\n",
    "* Divide the data set into training and test set comprising samples $\\{1, \\ldots, n\\} \\setminus i$ and $\\{ i \\}$, respectively.\n",
    "\n",
    "* Fit the linear regression model by means of ridge estimation  for each $\\lambda$ in the grid using the training set, and the corresponding estimate of the error variance $\\hat{\\sigma}_{-i}^2(\\lambda)$, as"
   ]
  },
  {
   "cell_type": "markdown",
   "metadata": {},
   "source": [
    "$$\n",
    "\\begin{align*}\n",
    "\\hat{\\beta}_{-i}(\\lambda) & =  ( \\hat{X}_{-i, \\ast}^{\\top}\n",
    "\\hat{X}_{-i, \\ast} + \\lambda \\hat{I}_{pp})^{-1}\n",
    "\\hat{X}_{-i, \\ast}^{\\top} \\hat{y}_{-i}\n",
    "\\end{align*}\n",
    "$$"
   ]
  },
  {
   "cell_type": "markdown",
   "metadata": {},
   "source": [
    "* Evaluate the prediction performance of these models on the test set by $\\log\\{L[y_i, \\hat{X}_{i, \\ast}; \\hat{\\beta}_{-i}(\\lambda), \\hat{\\sigma}_{-i}^2(\\lambda)]\\}$. Or, by the prediction error $|y_i - \\hat{X}_{i, \\ast} \\hat{\\beta}_{-i}(\\lambda)|$, the relative error, the error squared or the R2 score function.\n",
    "\n",
    "* Repeat the first three steps  such that each sample plays the role of the test set once.\n",
    "\n",
    "* Average the prediction performances of the test sets at each grid point of the penalty bias/parameter by computing the *cross-validated log-likelihood*. It is an estimate of the prediction performance of the model corresponding to this value of the penalty parameter on novel data. It is defined as"
   ]
  },
  {
   "cell_type": "markdown",
   "metadata": {},
   "source": [
    "$$\n",
    "\\begin{align*}\n",
    "\\frac{1}{n} \\sum_{i = 1}^n \\log\\{L[y_i, \\mathbf{X}_{i, \\ast}; \\hat{\\beta}_{-i}(\\lambda), \\hat{\\sigma}_{-i}^2(\\lambda)]\\}.\n",
    "\\end{align*}\n",
    "$$"
   ]
  },
  {
   "cell_type": "markdown",
   "metadata": {},
   "source": [
    "* The value of the penalty parameter that maximizes the cross-validated log-likelihood is the value of choice. Or we can use the MSE or the R2 score functions.\n",
    "\n",
    "## Predicted Residual Error Sum of Squares\n",
    "Another approach in the LOOCV scheme is to the use the so-called Predicted Residual Error Sum of Squares (PRESS). \n",
    "\n",
    "We can define the optimal penalty parameter to minimize"
   ]
  },
  {
   "cell_type": "markdown",
   "metadata": {},
   "source": [
    "$$\n",
    "\\begin{align*}\n",
    "\\lambda_{\\mbox{{\\tiny opt}}} = \\arg \\min_{\\lambda} \\frac{1}{n} \\sum_{i=1}^n [y_i - \\hat{X}_{i, \\ast} \\hat{\\beta}_{-i}(\\lambda)]^2.\n",
    "\\end{align*}\n",
    "$$"
   ]
  },
  {
   "cell_type": "markdown",
   "metadata": {},
   "source": [
    "The LOOCV prediction performance can be\n",
    "expressed analytically in terms of the known quantities derived from\n",
    "the design matrix and the parameters $\\beta$.\n",
    "\n",
    "\n",
    "\n",
    "\n",
    "## Resampling methods: Jackknife and Bootstrap\n",
    "\n",
    "Two famous\n",
    "resampling methods are the **independent bootstrap** and **the jackknife**. \n",
    "\n",
    "The jackknife is a special case of the independent bootstrap. Still, the jackknife was made\n",
    "popular prior to the independent bootstrap. And as the popularity of\n",
    "the independent bootstrap soared, new variants, such as **the dependent bootstrap**.\n",
    "\n",
    "The Jackknife and independent bootstrap work for\n",
    "independent, identically distributed random variables.\n",
    "If these conditions are not\n",
    "satisfied, the methods will fail.  Yet, it should be said that if the data are\n",
    "independent, identically distributed, and we only want to estimate the\n",
    "variance of $\\overline{X}$ (which often is the case), then there is no\n",
    "need for bootstrapping. \n",
    "\n",
    "## Resampling methods: Jackknife\n",
    "\n",
    "The Jackknife works by making many replicas of the estimator $\\widehat{\\theta}$. \n",
    "The jackknife is a resampling method, we explained that this happens by scrambling the data in some way. When using the jackknife, this is done by systematically leaving out one observation from the vector of observed values $\\hat{x} = (x_1,x_2,\\cdots,X_n)$. \n",
    "Let $\\hat{x}_i$ denote the vector"
   ]
  },
  {
   "cell_type": "markdown",
   "metadata": {},
   "source": [
    "$$\n",
    "\\hat{x}_i = (x_1,x_2,\\cdots,x_{i-1},x_{i+1},\\cdots,x_n),\n",
    "$$"
   ]
  },
  {
   "cell_type": "markdown",
   "metadata": {},
   "source": [
    "which equals the vector $\\hat{x}$ with the exception that observation\n",
    "number $i$ is left out. Using this notation, define\n",
    "$\\widehat{\\theta}_i$ to be the estimator\n",
    "$\\widehat{\\theta}$ computed using $\\vec{X}_i$. \n",
    "\n",
    "## Resampling methods: Jackknife estimator\n",
    "\n",
    "To get an estimate for the bias and\n",
    "standard error of $\\widehat{\\theta}$, use the following\n",
    "estimators for each component of $\\widehat{\\theta}$"
   ]
  },
  {
   "cell_type": "markdown",
   "metadata": {},
   "source": [
    "$$\n",
    "\\widehat{\\mathrm{Bias}}(\\widehat \\theta,\\theta) = (n-1)\\left( - \\widehat{\\theta} + \\frac{1}{n}\\sum_{i=1}^{n} \\widehat \\theta_i \\right) \\qquad \\text{and} \\qquad \\widehat{\\sigma}^2_{\\widehat{\\theta} } = \\frac{n-1}{n}\\sum_{i=1}^{n}( \\widehat{\\theta}_i - \\frac{1}{n}\\sum_{j=1}^{n}\\widehat \\theta_j )^2.\n",
    "$$"
   ]
  },
  {
   "cell_type": "markdown",
   "metadata": {},
   "source": [
    "## Jackknife code example"
   ]
  },
  {
   "cell_type": "code",
   "execution_count": 13,
   "metadata": {},
   "outputs": [],
   "source": [
    "from numpy import *\n",
    "from numpy.random import randint, randn\n",
    "from time import time\n",
    "\n",
    "def jackknife(data, stat):\n",
    "    n = len(data);t = zeros(n); inds = arange(n); t0 = time()\n",
    "    ## 'jackknifing' by leaving out an observation for each i                                                                                                                      \n",
    "    for i in range(n):\n",
    "        t[i] = stat(delete(data,i) )\n",
    "\n",
    "    # analysis                                                                                                                                                                     \n",
    "    print(\"Runtime: %g sec\" % (time()-t0)); print(\"Jackknife Statistics :\")\n",
    "    print(\"original           bias      std. error\")\n",
    "    print(\"%8g %14g %15g\" % (stat(data),(n-1)*mean(t)/n, (n*var(t))**.5))\n",
    "\n",
    "    return t\n",
    "\n",
    "\n",
    "# Returns mean of data samples                                                                                                                                                     \n",
    "def stat(data):\n",
    "    return mean(data)\n",
    "\n",
    "\n",
    "mu, sigma = 100, 15\n",
    "datapoints = 10000\n",
    "x = mu + sigma*random.randn(datapoints)\n",
    "# jackknife returns the data sample                                                                                                                                                \n",
    "t = jackknife(x, stat)"
   ]
  },
  {
   "cell_type": "markdown",
   "metadata": {},
   "source": [
    "## Resampling methods: Bootstrap\n",
    "Bootstrapping is a nonparametric approach to statistical inference\n",
    "that substitutes computation for more traditional distributional\n",
    "assumptions and asymptotic results. Bootstrapping offers a number of\n",
    "advantages: \n",
    "1. The bootstrap is quite general, although there are some cases in which it fails.  \n",
    "\n",
    "2. Because it does not require distributional assumptions (such as normally distributed errors), the bootstrap can provide more accurate inferences when the data are not well behaved or when the sample size is small.  \n",
    "\n",
    "3. It is possible to apply the bootstrap to statistics with sampling distributions that are difficult to derive, even asymptotically. \n",
    "\n",
    "4. It is relatively simple to apply the bootstrap to complex data-collection plans (such as stratified and clustered samples).\n",
    "\n",
    "\n",
    "\n",
    "\n",
    "## Resampling methods: Bootstrap background\n",
    "\n",
    "Since $\\widehat{\\theta} = \\widehat{\\theta}(\\hat{X})$ is a function of random variables,\n",
    "$\\widehat{\\theta}$ itself must be a random variable. Thus it has\n",
    "a pdf, call this function $p(\\hat{t})$. The aim of the bootstrap is to\n",
    "estimate $p(\\hat{t})$ by the relative frequency of\n",
    "$\\widehat{\\theta}$. You can think of this as using a histogram\n",
    "in the place of $p(\\hat{t})$. If the relative frequency closely\n",
    "resembles $p(\\vec{t})$, then using numerics, it is straight forward to\n",
    "estimate all the interesting parameters of $p(\\hat{t})$ using point\n",
    "estimators.  \n",
    "\n",
    "\n",
    "## Resampling methods: More Bootstrap background\n",
    "\n",
    "In the case that $\\widehat{\\theta}$ has\n",
    "more than one component, and the components are independent, we use the\n",
    "same estimator on each component separately.  If the probability\n",
    "density function of $X_i$, $p(x)$, had been known, then it would have\n",
    "been straight forward to do this by: \n",
    "1. Drawing lots of numbers from $p(x)$, suppose we call one such set of numbers $(X_1^*, X_2^*, \\cdots, X_n^*)$. \n",
    "\n",
    "2. Then using these numbers, we could compute a replica of $\\widehat{\\theta}$ called $\\widehat{\\theta}^*$. \n",
    "\n",
    "By repeated use of (1) and (2), many\n",
    "estimates of $\\widehat{\\theta}$ could have been obtained. The\n",
    "idea is to use the relative frequency of $\\widehat{\\theta}^*$\n",
    "(think of a histogram) as an estimate of $p(\\hat{t})$.\n",
    "\n",
    "## Resampling methods: Bootstrap approach\n",
    "\n",
    "But\n",
    "unless there is enough information available about the process that\n",
    "generated $X_1,X_2,\\cdots,X_n$, $p(x)$ is in general\n",
    "unknown. Therefore, [Efron in 1979](https://projecteuclid.org/euclid.aos/1176344552)  asked the\n",
    "question: What if we replace $p(x)$ by the relative frequency\n",
    "of the observation $X_i$; if we draw observations in accordance with\n",
    "the relative frequency of the observations, will we obtain the same\n",
    "result in some asymptotic sense? The answer is yes.\n",
    "\n",
    "\n",
    "Instead of generating the histogram for the relative\n",
    "frequency of the observation $X_i$, just draw the values\n",
    "$(X_1^*,X_2^*,\\cdots,X_n^*)$ with replacement from the vector\n",
    "$\\hat{X}$. \n",
    "\n",
    "## Resampling methods: Bootstrap steps\n",
    "\n",
    "The independent bootstrap works like this: \n",
    "\n",
    "1. Draw with replacement $n$ numbers for the observed variables $\\hat{x} = (x_1,x_2,\\cdots,x_n)$. \n",
    "\n",
    "2. Define a vector $\\hat{x}^*$ containing the values which were drawn from $\\hat{x}$. \n",
    "\n",
    "3. Using the vector $\\hat{x}^*$ compute $\\widehat{\\theta}^*$ by evaluating $\\widehat \\theta$ under the observations $\\hat{x}^*$. \n",
    "\n",
    "4. Repeat this process $k$ times. \n",
    "\n",
    "When you are done, you can draw a histogram of the relative frequency of $\\widehat \\theta^*$. This is your estimate of the probability distribution $p(t)$. Using this probability distribution you can estimate any statistics thereof. In principle you never draw the histogram of the relative frequency of $\\widehat{\\theta}^*$. Instead you use the estimators corresponding to the statistic of interest. For example, if you are interested in estimating the variance of $\\widehat \\theta$, apply the etsimator $\\widehat \\sigma^2$ to the values $\\widehat \\theta ^*$.\n",
    "\n",
    "\n",
    "## Code example for the Bootstrap method\n",
    "The following code starts with a Gaussian distribution with mean value $\\mu =100$ and variance $\\sigma=15$. We use this to generate the data used in the bootstrap analysis. The bootstrap analysis returns a data set after a given number of bootstrap operations (as many as we have data points). This data set consists of estimated mean values for each bootstrap operation. The histogram generated by the bootstrap method shows that the distribution for these mean values is also a Gaussian, centered around the mean value $\\mu=100$ but with standard deviation $\\sigma/\\sqrt{n}$, where $n$ is the number of bootstrap samples (in this case the same as the number of original data points). The value of the standard deviation is what we expect from the central limit theorem."
   ]
  },
  {
   "cell_type": "code",
   "execution_count": 14,
   "metadata": {},
   "outputs": [],
   "source": [
    "from numpy import *\n",
    "from numpy.random import randint, randn\n",
    "from time import time\n",
    "import matplotlib.mlab as mlab\n",
    "import matplotlib.pyplot as plt\n",
    "\n",
    "# Returns mean of bootstrap samples                                                                                                                                                \n",
    "def stat(data):\n",
    "    return mean(data)\n",
    "\n",
    "# Bootstrap algorithm                                                                                                                                                              \n",
    "def bootstrap(data, statistic, R):\n",
    "    t = zeros(R); n = len(data); inds = arange(n); t0 = time()\n",
    "\n",
    "    # non-parametric bootstrap                                                                                                                                                     \n",
    "    for i in range(R):\n",
    "        t[i] = statistic(data[randint(0,n,n)])\n",
    "\n",
    "    # analysis                                                                                                                                                                     \n",
    "    print(\"Runtime: %g sec\" % (time()-t0)); print(\"Bootstrap Statistics :\")\n",
    "    print(\"original           bias      std. error\")\n",
    "    print(\"%8g %8g %14g %15g\" % (statistic(data), std(data),\\\n",
    "                             mean(t), \\\n",
    "                             std(t)))\n",
    "    return t\n",
    "\n",
    "\n",
    "mu, sigma = 100, 15\n",
    "datapoints = 10000\n",
    "x = mu + sigma*random.randn(datapoints)\n",
    "# bootstrap returns the data sample                                                                                                          t = bootstrap(x, stat, datapoints)\n",
    "# the histogram of the bootstrapped  data                                                                                                    n, binsboot, patches = plt.hist(t, 50, normed=1, facecolor='red', alpha=0.75)\n",
    "\n",
    "# add a 'best fit' line                                                                                                                                                          \n",
    "y = mlab.normpdf( binsboot, mean(t), std(t))\n",
    "lt = plt.plot(binsboot, y, 'r--', linewidth=1)\n",
    "plt.xlabel('Smarts')\n",
    "plt.ylabel('Probability')\n",
    "plt.axis([99.5, 100.6, 0, 3.0])\n",
    "plt.grid(True)\n",
    "\n",
    "plt.show()"
   ]
  },
  {
   "cell_type": "markdown",
   "metadata": {},
   "source": [
    "## Resampling methods: Blocking\n",
    "\n",
    "The blocking method was made popular by [Flyvbjerg and Pedersen (1989)](https://aip.scitation.org/doi/10.1063/1.457480)\n",
    "and has become one of the standard ways to estimate\n",
    "$V(\\widehat{\\theta})$ for exactly one $\\widehat{\\theta}$, namely\n",
    "$\\widehat{\\theta} = \\overline{X}$. \n",
    "\n",
    "Assume $n = 2^d$ for some integer $d>1$ and $X_1,X_2,\\cdots, X_n$ is a stationary time series to begin with. \n",
    "Moreover, assume that the time series is asymptotically uncorrelated. We switch to vector notation by arranging $X_1,X_2,\\cdots,X_n$ in an $n$-tuple. Define:"
   ]
  },
  {
   "cell_type": "markdown",
   "metadata": {},
   "source": [
    "$$\n",
    "\\begin{align*}\n",
    "\\hat{X} = (X_1,X_2,\\cdots,X_n).\n",
    "\\end{align*}\n",
    "$$"
   ]
  },
  {
   "cell_type": "markdown",
   "metadata": {},
   "source": [
    "The strength of the blocking method is when the number of\n",
    "observations, $n$ is large. For large $n$, the complexity of dependent\n",
    "bootstrapping scales poorly, but the blocking method does not,\n",
    "moreover, it becomes more accurate the larger $n$ is.\n",
    "\n",
    "## Blocking Transformations\n",
    " We now define\n",
    "blocking transformations. The idea is to take the mean of subsequent\n",
    "pair of elements from $\\vec{X}$ and form a new vector\n",
    "$\\vec{X}_1$. Continuing in the same way by taking the mean of\n",
    "subsequent pairs of elements of $\\vec{X}_1$ we obtain $\\vec{X}_2$, and\n",
    "so on. \n",
    "Define $\\vec{X}_i$ recursively by:"
   ]
  },
  {
   "cell_type": "markdown",
   "metadata": {},
   "source": [
    "$$\n",
    "(\\vec{X}_0)_k \\equiv (\\vec{X})_k \\nonumber\n",
    "$$"
   ]
  },
  {
   "cell_type": "markdown",
   "metadata": {},
   "source": [
    "<!-- Equation labels as ordinary links -->\n",
    "<div id=\"_auto11\"></div>\n",
    "\n",
    "$$\n",
    "\\begin{equation} \n",
    "(\\vec{X}_{i+1})_k \\equiv \\frac{1}{2}\\Big( (\\vec{X}_i)_{2k-1} +\n",
    "(\\vec{X}_i)_{2k} \\Big) \\qquad \\text{for all} \\qquad 1 \\leq i \\leq d-1\n",
    "\\label{_auto11} \\tag{21}\n",
    "\\end{equation}\n",
    "$$"
   ]
  },
  {
   "cell_type": "markdown",
   "metadata": {},
   "source": [
    "The quantity $\\vec{X}_k$ is\n",
    "subject to $k$ **blocking transformations**.  We now have $d$ vectors\n",
    "$\\vec{X}_0, \\vec{X}_1,\\cdots,\\vec X_{d-1}$ containing the subsequent\n",
    "averages of observations. It turns out that if the components of\n",
    "$\\vec{X}$ is a stationary time series, then the components of\n",
    "$\\vec{X}_i$ is a stationary time series for all $0 \\leq i \\leq d-1$\n",
    "\n",
    "We can then compute the autocovariance, the variance, sample mean, and\n",
    "number of observations for each $i$. \n",
    "Let $\\gamma_i, \\sigma_i^2,\n",
    "\\overline{X}_i$ denote the autocovariance, variance and average of the\n",
    "elements of $\\vec{X}_i$ and let $n_i$ be the number of elements of\n",
    "$\\vec{X}_i$. It follows by induction that $n_i = n/2^i$. \n",
    "\n",
    "## Blocking Transformations\n",
    "\n",
    "Using the\n",
    "definition of the blocking transformation and the distributive\n",
    "property of the covariance, it is clear that since $h =|i-j|$\n",
    "we can define"
   ]
  },
  {
   "cell_type": "markdown",
   "metadata": {},
   "source": [
    "$$\n",
    "\\gamma_{k+1}(h) = cov\\left( ({X}_{k+1})_{i}, ({X}_{k+1})_{j} \\right) \\nonumber\n",
    "$$"
   ]
  },
  {
   "cell_type": "markdown",
   "metadata": {},
   "source": [
    "$$\n",
    "=  \\frac{1}{4}cov\\left( ({X}_{k})_{2i-1} + ({X}_{k})_{2i}, ({X}_{k})_{2j-1} + ({X}_{k})_{2j} \\right) \\nonumber\n",
    "$$"
   ]
  },
  {
   "cell_type": "markdown",
   "metadata": {},
   "source": [
    "<!-- Equation labels as ordinary links -->\n",
    "<div id=\"_auto12\"></div>\n",
    "\n",
    "$$\n",
    "\\begin{equation} \n",
    "=  \\frac{1}{2}\\gamma_{k}(2h) + \\frac{1}{2}\\gamma_k(2h+1) \\hspace{0.1cm} \\mathrm{h = 0} \n",
    "\\label{_auto12} \\tag{22}\n",
    "\\end{equation}\n",
    "$$"
   ]
  },
  {
   "cell_type": "markdown",
   "metadata": {},
   "source": [
    "<!-- Equation labels as ordinary links -->\n",
    "<div id=\"_auto13\"></div>\n",
    "\n",
    "$$\n",
    "\\begin{equation} \n",
    "=\\frac{1}{4}\\gamma_k(2h-1) + \\frac{1}{2}\\gamma_k(2h) + \\frac{1}{4}\\gamma_k(2h+1) \\quad \\mathrm{else}\n",
    "\\label{_auto13} \\tag{23}\n",
    "\\end{equation}\n",
    "$$"
   ]
  },
  {
   "cell_type": "markdown",
   "metadata": {},
   "source": [
    "The quantity $\\hat{X}$ is asymptotic uncorrelated by assumption, $\\hat{X}_k$ is also asymptotic uncorrelated. Let's turn our attention to the variance of the sample mean $V(\\overline{X})$. \n",
    "\n",
    "## Blocking Transformations, getting there\n",
    "We have"
   ]
  },
  {
   "cell_type": "markdown",
   "metadata": {},
   "source": [
    "<!-- Equation labels as ordinary links -->\n",
    "<div id=\"_auto14\"></div>\n",
    "\n",
    "$$\n",
    "\\begin{equation}\n",
    "V(\\overline{X}_k) = \\frac{\\sigma_k^2}{n_k} + \\underbrace{\\frac{2}{n_k} \\sum_{h=1}^{n_k-1}\\left( 1 - \\frac{h}{n_k} \\right)\\gamma_k(h)}_{\\equiv e_k} = \\frac{\\sigma^2_k}{n_k} + e_k \\quad \\text{if} \\quad \\gamma_k(0) = \\sigma_k^2. \n",
    "\\label{_auto14} \\tag{24}\n",
    "\\end{equation}\n",
    "$$"
   ]
  },
  {
   "cell_type": "markdown",
   "metadata": {},
   "source": [
    "The term $e_k$ is called the **truncation error**:"
   ]
  },
  {
   "cell_type": "markdown",
   "metadata": {},
   "source": [
    "<!-- Equation labels as ordinary links -->\n",
    "<div id=\"_auto15\"></div>\n",
    "\n",
    "$$\n",
    "\\begin{equation}\n",
    "e_k = \\frac{2}{n_k} \\sum_{h=1}^{n_k-1}\\left( 1 - \\frac{h}{n_k} \\right)\\gamma_k(h). \n",
    "\\label{_auto15} \\tag{25}\n",
    "\\end{equation}\n",
    "$$"
   ]
  },
  {
   "cell_type": "markdown",
   "metadata": {},
   "source": [
    "We can show that $V(\\overline{X}_i) = V(\\overline{X}_j)$ for all $0 \\leq i \\leq d-1$ and $0 \\leq j \\leq d-1$. \n",
    "\n",
    "## Blocking Transformations, final expressions\n",
    "\n",
    "We can then wrap up"
   ]
  },
  {
   "cell_type": "markdown",
   "metadata": {},
   "source": [
    "$$\n",
    "n_{j+1} \\overline{X}_{j+1}  = \\sum_{i=1}^{n_{j+1}} (\\hat{X}_{j+1})_i =  \\frac{1}{2}\\sum_{i=1}^{n_{j}/2} (\\hat{X}_{j})_{2i-1} + (\\hat{X}_{j})_{2i} \\nonumber\n",
    "$$"
   ]
  },
  {
   "cell_type": "markdown",
   "metadata": {},
   "source": [
    "<!-- Equation labels as ordinary links -->\n",
    "<div id=\"_auto16\"></div>\n",
    "\n",
    "$$\n",
    "\\begin{equation} \n",
    "= \\frac{1}{2}\\left[ (\\hat{X}_j)_1 + (\\hat{X}_j)_2 + \\cdots + (\\hat{X}_j)_{n_j} \\right] = \\underbrace{\\frac{n_j}{2}}_{=n_{j+1}} \\overline{X}_j = n_{j+1}\\overline{X}_j. \n",
    "\\label{_auto16} \\tag{26}\n",
    "\\end{equation}\n",
    "$$"
   ]
  },
  {
   "cell_type": "markdown",
   "metadata": {},
   "source": [
    "By repeated use of this equation we get $V(\\overline{X}_i) = V(\\overline{X}_0) = V(\\overline{X})$ for all $0 \\leq i \\leq d-1$. This has the consequence that"
   ]
  },
  {
   "cell_type": "markdown",
   "metadata": {},
   "source": [
    "<!-- Equation labels as ordinary links -->\n",
    "<div id=\"eq:convergence\"></div>\n",
    "\n",
    "$$\n",
    "\\begin{equation}\n",
    "V(\\overline{X}) = \\frac{\\sigma_k^2}{n_k} + e_k \\qquad \\text{for all} \\qquad 0 \\leq k \\leq d-1. \\label{eq:convergence} \\tag{27}\n",
    "\\end{equation}\n",
    "$$"
   ]
  },
  {
   "cell_type": "markdown",
   "metadata": {},
   "source": [
    "Fyvbjerg and Petersen demonstrated that the sequence\n",
    "$\\{e_k\\}_{k=0}^{d-1}$ is decreasing, and conjecture that the term\n",
    "$e_k$ can be made as small as we would like by making $k$ (and hence\n",
    "$d$) sufficiently large. The sequence is decreasing (Master of Science thesis by Marius Jonsson, UiO 2018).\n",
    "It means we can apply blocking transformations until\n",
    "$e_k$ is sufficiently small, and then estimate $V(\\overline{X})$ by\n",
    "$\\widehat{\\sigma}^2_k/n_k$. \n",
    "\n",
    "\n",
    "## [Code examples for Blocking, Jackknife and bootstrap](https://github.com/CompPhysics/MachineLearning/tree/master/doc/Programs/ResamplingAnalysisScripts)"
   ]
  },
  {
   "cell_type": "code",
   "execution_count": 15,
   "metadata": {},
   "outputs": [],
   "source": [
    "from sys import argv\n",
    "from os import mkdir, path\n",
    "import time\n",
    "import numpy as np\n",
    "import matplotlib.pyplot as plt\n",
    "from matplotlib.ticker import FormatStrFormatter\n",
    "from matplotlib.font_manager import FontProperties\n",
    "\n",
    "# Timing Decorator\n",
    "def timeFunction(f):\n",
    "    def wrap(*args):\n",
    "        time1 = time.time()\n",
    "        ret = f(*args)\n",
    "        time2 = time.time()\n",
    "        print '%s Function Took: \\t %0.3f s' % (f.func_name.title(), (time2-time1))\n",
    "        return ret\n",
    "    return wrap\n",
    "\n",
    "class dataAnalysisClass:\n",
    "    # General Init functions\n",
    "    def __init__(self, fileName, size=0):\n",
    "        self.inputFileName = fileName\n",
    "        self.loadData(size)\n",
    "        self.createOutputFolder()\n",
    "        self.avg = np.average(self.data)\n",
    "        self.var = np.var(self.data)\n",
    "        self.std = np.std(self.data)\n",
    "\n",
    "    def loadData(self, size=0):\n",
    "        if size != 0:\n",
    "            with open(self.inputFileName) as inputFile:\n",
    "                self.data = np.zeros(size)\n",
    "                for x in xrange(size):\n",
    "                    self.data[x] = float(next(inputFile))\n",
    "        else:\n",
    "            self.data = np.loadtxt(self.inputFileName)\n",
    "\n",
    "    # Statistical Analysis with Multiple Methods\n",
    "    def runAllAnalyses(self):\n",
    "        if len(self.data) <= 100000:\n",
    "            print \"Autocorrelation...\"\n",
    "            self.autocorrelation()\n",
    "        print \"Bootstrap...\"\n",
    "        self.bootstrap()\n",
    "        print \"Jackknife...\"\n",
    "        self.jackknife()\n",
    "        print \"Blocking...\"\n",
    "        self.blocking()\n",
    "\n",
    "    # Standard Autocorrelation\n",
    "    @timeFunction\n",
    "    def autocorrelation(self):\n",
    "        self.acf = np.zeros(len(self.data)/2)\n",
    "        for k in range(0, len(self.data)/2):\n",
    "            self.acf[k] = np.corrcoef(np.array([self.data[0:len(self.data)-k], \\\n",
    "                                            self.data[k:len(self.data)]]))[0,1]\n",
    "\n",
    "    # Bootstrap\n",
    "    @timeFunction\n",
    "    def bootstrap(self, nBoots = 1000):\n",
    "        bootVec = np.zeros(nBoots)\n",
    "        for k in range(0,nBoots):\n",
    "            bootVec[k] = np.average(np.random.choice(self.data, len(self.data)))\n",
    "        self.bootAvg = np.average(bootVec)\n",
    "        self.bootVar = np.var(bootVec)\n",
    "        self.bootStd = np.std(bootVec)\n",
    "\n",
    "    # Jackknife\n",
    "    @timeFunction\n",
    "    def jackknife(self):\n",
    "        jackknVec = np.zeros(len(self.data))\n",
    "        for k in range(0,len(self.data)):\n",
    "            jackknVec[k] = np.average(np.delete(self.data, k))\n",
    "        self.jackknAvg = self.avg - (len(self.data) - 1) * (np.average(jackknVec) - self.avg)\n",
    "        self.jackknVar = float(len(self.data) - 1) * np.var(jackknVec)\n",
    "        self.jackknStd = np.sqrt(self.jackknVar)\n",
    "\n",
    "    # Blocking\n",
    "    @timeFunction\n",
    "    def blocking(self, blockSizeMax = 500):\n",
    "        blockSizeMin = 1\n",
    "\n",
    "        self.blockSizes = []\n",
    "        self.meanVec = []\n",
    "        self.varVec = []\n",
    "\n",
    "        for i in range(blockSizeMin, blockSizeMax):\n",
    "            if(len(self.data) % i != 0):\n",
    "                pass#continue\n",
    "            blockSize = i\n",
    "            meanTempVec = []\n",
    "            varTempVec = []\n",
    "            startPoint = 0\n",
    "            endPoint = blockSize\n",
    "\n",
    "            while endPoint <= len(self.data):\n",
    "                meanTempVec.append(np.average(self.data[startPoint:endPoint]))\n",
    "                startPoint = endPoint\n",
    "                endPoint += blockSize\n",
    "            mean, var = np.average(meanTempVec), np.var(meanTempVec)/len(meanTempVec)\n",
    "            self.meanVec.append(mean)\n",
    "            self.varVec.append(var)\n",
    "            self.blockSizes.append(blockSize)\n",
    "\n",
    "        self.blockingAvg = np.average(self.meanVec[-200:])\n",
    "        self.blockingVar = (np.average(self.varVec[-200:]))\n",
    "        self.blockingStd = np.sqrt(self.blockingVar)\n",
    "\n",
    "\n",
    "\n",
    "    # Plot of Data, Autocorrelation Function and Histogram\n",
    "    def plotAll(self):\n",
    "        self.createOutputFolder()\n",
    "        if len(self.data) <= 100000:\n",
    "            self.plotAutocorrelation()\n",
    "        self.plotData()\n",
    "        self.plotHistogram()\n",
    "        self.plotBlocking()\n",
    "\n",
    "    # Create Output Plots Folder\n",
    "    def createOutputFolder(self):\n",
    "        self.outName = self.inputFileName[:-4]\n",
    "        if not path.exists(self.outName):\n",
    "            mkdir(self.outName)\n",
    "\n",
    "    # Plot the Dataset, Mean and Std\n",
    "    def plotData(self):\n",
    "        # Far away plot\n",
    "        font = {'fontname':'serif'}\n",
    "        plt.plot(range(0, len(self.data)), self.data, 'r-', linewidth=1)\n",
    "        plt.plot([0, len(self.data)], [self.avg, self.avg], 'b-', linewidth=1)\n",
    "        plt.plot([0, len(self.data)], [self.avg + self.std, self.avg + self.std], 'g--', linewidth=1)\n",
    "        plt.plot([0, len(self.data)], [self.avg - self.std, self.avg - self.std], 'g--', linewidth=1)\n",
    "        plt.ylim(self.avg - 5*self.std, self.avg + 5*self.std)\n",
    "        plt.gca().yaxis.set_major_formatter(FormatStrFormatter('%.4f'))\n",
    "        plt.xlim(0, len(self.data))\n",
    "        plt.ylabel(self.outName.title() + ' Monte Carlo Evolution', **font)\n",
    "        plt.xlabel('MonteCarlo History', **font)\n",
    "        plt.title(self.outName.title(), **font)\n",
    "        plt.savefig(self.outName + \"/data.eps\")\n",
    "        plt.savefig(self.outName + \"/data.png\")\n",
    "        plt.clf()\n",
    "\n",
    "    # Plot Histogram of Dataset and Gaussian around it\n",
    "    def plotHistogram(self):\n",
    "        binNumber = 50\n",
    "        font = {'fontname':'serif'}\n",
    "        count, bins, ignore = plt.hist(self.data, bins=np.linspace(self.avg - 5*self.std, self.avg + 5*self.std, binNumber))\n",
    "        plt.plot([self.avg, self.avg], [0,np.max(count)+10], 'b-', linewidth=1)\n",
    "        plt.ylim(0,np.max(count)+10)\n",
    "        plt.ylabel(self.outName.title() + ' Histogram', **font)\n",
    "        plt.xlabel(self.outName.title() , **font)\n",
    "        plt.title('Counts', **font)\n",
    "\n",
    "        #gaussian\n",
    "        norm = 0\n",
    "        for i in range(0,len(bins)-1):\n",
    "            norm += (bins[i+1]-bins[i])*count[i]\n",
    "        plt.plot(bins,  norm/(self.std * np.sqrt(2 * np.pi)) * np.exp( - (bins - self.avg)**2 / (2 * self.std**2) ), linewidth=1, color='r')\n",
    "        plt.savefig(self.outName + \"/hist.eps\")\n",
    "        plt.savefig(self.outName + \"/hist.png\")\n",
    "        plt.clf()\n",
    "\n",
    "    # Plot the Autocorrelation Function\n",
    "    def plotAutocorrelation(self):\n",
    "        font = {'fontname':'serif'}\n",
    "        plt.plot(range(1, len(self.data)/2), self.acf[1:], 'r-')\n",
    "        plt.ylim(-1, 1)\n",
    "        plt.xlim(0, len(self.data)/2)\n",
    "        plt.ylabel('Autocorrelation Function', **font)\n",
    "        plt.xlabel('Lag', **font)\n",
    "        plt.title('Autocorrelation', **font)\n",
    "        plt.savefig(self.outName + \"/autocorrelation.eps\")\n",
    "        plt.savefig(self.outName + \"/autocorrelation.png\")\n",
    "        plt.clf()\n",
    "\n",
    "    def plotBlocking(self):\n",
    "        font = {'fontname':'serif'}\n",
    "        plt.plot(self.blockSizes, self.varVec, 'r-')\n",
    "        plt.ylabel('Variance', **font)\n",
    "        plt.xlabel('Block Size', **font)\n",
    "        plt.title('Blocking', **font)\n",
    "        plt.savefig(self.outName + \"/blocking.eps\")\n",
    "        plt.savefig(self.outName + \"/blocking.png\")\n",
    "        plt.clf()\n",
    "\n",
    "    # Print Stuff to the Terminal\n",
    "    def printOutput(self):\n",
    "        print \"\\nSample Size:    \\t\", len(self.data)\n",
    "        print \"\\n=========================================\\n\"\n",
    "        print \"Sample Average: \\t\", self.avg\n",
    "        print \"Sample Variance:\\t\", self.var\n",
    "        print \"Sample Std:     \\t\", self.std\n",
    "        print \"\\n=========================================\\n\"\n",
    "        print \"Bootstrap Average: \\t\", self.bootAvg\n",
    "        print \"Bootstrap Variance:\\t\", self.bootVar\n",
    "        print \"Bootstrap Error:   \\t\", self.bootStd\n",
    "        print \"\\n=========================================\\n\"\n",
    "        print \"Jackknife Average: \\t\", self.jackknAvg\n",
    "        print \"Jackknife Variance:\\t\", self.jackknVar\n",
    "        print \"Jackknife Error:   \\t\", self.jackknStd\n",
    "        print \"\\n=========================================\\n\"\n",
    "        print \"Blocking Average: \\t\", self.blockingAvg\n",
    "        print \"Blocking Variance:\\t\", self.blockingVar\n",
    "        print \"Blocking Error:   \\t\", self.blockingStd, \"\\n\"\n",
    "\n",
    "# Initialize the class\n",
    "if len(argv) > 2:\n",
    "    dataAnalysis = dataAnalysisClass(argv[1], int(argv[2]))\n",
    "else:\n",
    "    dataAnalysis = dataAnalysisClass(argv[1])\n",
    "\n",
    "# Run Analyses\n",
    "dataAnalysis.runAllAnalyses()\n",
    "\n",
    "# Plot the data\n",
    "dataAnalysis.plotAll()\n",
    "\n",
    "# Print Some Output\n",
    "dataAnalysis.printOutput()"
   ]
  },
  {
   "cell_type": "markdown",
   "metadata": {},
   "source": [
    "## The bias-variance tradeoff\n",
    "\n",
    "We begin  with an unknown function $y=f(x)$ and fix a \\emph{hypothesis set}\n",
    " $\\mathcal{H}$ consisting of all functions we are willing to consider,\n",
    " defined also on the domain of $f$. This set may be uncountably\n",
    " infinite (e.g. if there are real-valued parameters to fit). \n",
    "The\n",
    " choice of which functions to include in $\\mathcal{H}$ usually depends\n",
    " on our intuition about the problem of interest. The function $f(x)$\n",
    " produces a set of pairs $(x_i,y_i)$, $i=1\\dots N$, which serve as the\n",
    " observable data. Our goal is to select a function from the hypothesis\n",
    " set $h\\in\\mathcal{H}$ which approximates $f(x)$ as best as possible,\n",
    " namely, we would like to find $h\\in\\mathcal{H}$ such that $h\\approx\n",
    " f$ in some strict mathematical sense which we specify below. If this\n",
    " is possible, we say that we \\emph{learned} $f(x)$. But if the\n",
    " function $f(x)$ can, in principle, take any value on\n",
    " \\emph{unobserved} inputs, how is it possible to learn in any\n",
    " meaningful sense?\n",
    "\n",
    "<!-- !split  -->\n",
    "## Training and testing data\n",
    "\n",
    "We will discuss the bias-variance tradeoff in the context of continuous predictions such as regression. However, many of the intuitions and ideas discussed here also carry over to classification tasks. Consider a dataset $\\mathcal{L}$ consisting of the data $\\mathbf{X}_\\mathcal{L}=\\{(y_j, \\boldsymbol{x}_j), j=1\\ldots N\\}$. Let us assume that the true data is generated from a noisy model"
   ]
  },
  {
   "cell_type": "markdown",
   "metadata": {},
   "source": [
    "$$\n",
    "y=f(\\boldsymbol{x}) + \\epsilon\n",
    "$$"
   ]
  },
  {
   "cell_type": "markdown",
   "metadata": {},
   "source": [
    "where $\\epsilon$ is normally distributed with mean zero and standard deviation $\\sigma_\\epsilon$.\n",
    "\n",
    "## Procedure to find a predictor\n",
    "\n",
    "We have a statistical procedure (e.g. least-squares regression) for\n",
    "forming a predictor $\\hat{g}_{\\mathcal{L}}(\\boldsymbol{x})$ that gives the\n",
    "prediction of our model for a new data point $\\boldsymbol{x}$.  This estimator\n",
    "is chosen by minimizing a cost function which we take to be the\n",
    "squared error"
   ]
  },
  {
   "cell_type": "markdown",
   "metadata": {},
   "source": [
    "$$\n",
    "\\mathcal{C}( \\boldsymbol{X}, \\hat{g}(\\boldsymbol{x})) =  \\sum_i (y_i - \\hat{g}_\\mathcal{L}(\\boldsymbol{x}_i))^2.\n",
    "$$"
   ]
  },
  {
   "cell_type": "markdown",
   "metadata": {},
   "source": [
    "## What we want\n",
    "\n",
    "We are interested in the generalization error on all data drawn from\n",
    "the true model, not just the error on the particular training dataset\n",
    "$\\mathcal{L}$ that we have in hand. This is just the expectation of\n",
    "the cost function over many different data sets\n",
    "$\\{\\mathcal{L}_j\\}$. Denote this expectation value by\n",
    "$E_{\\mathcal{L}}$. In other words, we can view $\\hat{g}_{\\mathcal{L}}$\n",
    "as a stochastic functional that depends on the dataset $\\mathcal{L}$\n",
    "and we can think of $E_{\\mathcal{L}}$ as the expected value of the\n",
    "functional if we drew an infinite number of datasets $\\{\\mathcal{L}_1,\n",
    "\\mathcal{L}_2, \\ldots \\}$.\n",
    "\n",
    "\n",
    "## The expected generalization error\n",
    "\n",
    "We would also like to average over different instances of the\n",
    "\"noise\" $\\epsilon$ and we denote the expectation value over the\n",
    "noise by $E_\\epsilon$. Thus, we can decompose the expected\n",
    "generalization error as"
   ]
  },
  {
   "cell_type": "markdown",
   "metadata": {},
   "source": [
    "$$\n",
    "E_\\mathcal{L, \\epsilon}[\\mathcal{C}( \\boldsymbol{X}, \\hat{g}(\\boldsymbol{x})) ]= E_\\mathcal{L,\\epsilon}\\left[ \\sum_i ({y}_i - \\hat{g}_\\mathcal{L}(\\boldsymbol{x}_i))^2 \\right] \\nonumber\n",
    "$$"
   ]
  },
  {
   "cell_type": "markdown",
   "metadata": {},
   "source": [
    "$$\n",
    "= E_\\mathcal{L, \\epsilon}\\left[ \\sum_{i}({y}_i -f(\\boldsymbol{x}_i) +f(\\boldsymbol{x}_i)- \\hat{g}_\\mathcal{L}(\\boldsymbol{x}_i))^2\\right] \\nonumber\n",
    "$$"
   ]
  },
  {
   "cell_type": "markdown",
   "metadata": {},
   "source": [
    "$$\n",
    "= \\sum_i E_\\epsilon[ ({y}_i -f(\\boldsymbol{x}_i))^2 ]+ E_\\mathcal{L, \\epsilon}[(f(\\boldsymbol{x}_i)- \\hat{g}_\\mathcal{L}(\\boldsymbol{x}_i))^2] + 2E_\\epsilon[{y}_i -f(\\boldsymbol{x}_i)]E_\\mathcal{L}[f(\\boldsymbol{x}_i)- \\hat{g}_\\mathcal{L}(\\boldsymbol{x}_i)] \\nonumber\n",
    "$$"
   ]
  },
  {
   "cell_type": "markdown",
   "metadata": {},
   "source": [
    "<!-- Equation labels as ordinary links -->\n",
    "<div id=\"_auto17\"></div>\n",
    "\n",
    "$$\n",
    "\\begin{equation} \n",
    " =\\sum_i \\sigma_\\epsilon^2 + E_\\mathcal{L}[(f(\\boldsymbol{x}_i)- \\hat{g}_\\mathcal{L}(\\boldsymbol{x}_i))^2],\n",
    "\\label{_auto17} \\tag{28}\n",
    "\\end{equation}\n",
    "$$"
   ]
  },
  {
   "cell_type": "markdown",
   "metadata": {},
   "source": [
    "where in the last line we used the fact that our noise has zero mean\n",
    "and variance $\\sigma_\\epsilon^2$ and the sum over $i$ applies to all\n",
    "terms. \n",
    "\n",
    "## Elaborating a little bit more\n",
    "\n",
    "It is also helpful to further decompose the second term as\n",
    "follows:"
   ]
  },
  {
   "cell_type": "markdown",
   "metadata": {},
   "source": [
    "$$\n",
    "E_\\mathcal{L}[(f(\\boldsymbol{x}_i)- \\hat{g}_\\mathcal{L}(\\boldsymbol{x}_i))^2] =E_\\mathcal{L}[(f(\\mathbf{x}_i)-E_\\mathcal{L}[\\hat{g}_\\mathcal{L}(\\boldsymbol{x}_i)]+ E_\\mathcal{L}[\\hat{g}_\\mathcal{L}(\\boldsymbol{x}_i)]- \\hat{g}_\\mathcal{L}(\\boldsymbol{x}_i))^2] \\nonumber\n",
    "$$"
   ]
  },
  {
   "cell_type": "markdown",
   "metadata": {},
   "source": [
    "$$\n",
    "=E_\\mathcal{L}[(f(\\boldsymbol{x}_i)-E_\\mathcal{L}[\\hat{g}_\\mathcal{L}(\\boldsymbol{x}_i)])^2] + E_\\mathcal{L}[( \\hat{g}_\\mathcal{L}(\\boldsymbol{x}_i)-E_\\mathcal{L}[\\hat{g}_\\mathcal{L}(\\boldsymbol{x}_i)])^2] \\nonumber\n",
    "$$"
   ]
  },
  {
   "cell_type": "markdown",
   "metadata": {},
   "source": [
    "$$\n",
    "+2E_\\mathcal{L}[(f(\\boldsymbol{x}_i)-E_\\mathcal{L}[\\hat{g}_\\mathcal{L}(\\boldsymbol{x}_i)])( \\hat{g}_\\mathcal{L}(\\boldsymbol{x}_i)-E_\\mathcal{L}[\\hat{g}_\\mathcal{L}(\\boldsymbol{x}_i)])] \\nonumber\n",
    "$$"
   ]
  },
  {
   "cell_type": "markdown",
   "metadata": {},
   "source": [
    "<!-- Equation labels as ordinary links -->\n",
    "<div id=\"_auto18\"></div>\n",
    "\n",
    "$$\n",
    "\\begin{equation} \n",
    "=(f(\\boldsymbol{x}_i)-E_\\mathcal{L}[\\hat{g}_\\mathcal{L}(\\boldsymbol{x}_i)])^2+E_\\mathcal{L}[( \\hat{g}_\\mathcal{L}(\\boldsymbol{x}_i)-E_\\mathcal{L}[\\hat{g}_\\mathcal{L}(\\boldsymbol{x}_i)])^2].\n",
    "\\label{_auto18} \\tag{29}\n",
    "\\end{equation}\n",
    "$$"
   ]
  },
  {
   "cell_type": "markdown",
   "metadata": {},
   "source": [
    "## The bias\n",
    "\n",
    "The first term is called the bias"
   ]
  },
  {
   "cell_type": "markdown",
   "metadata": {},
   "source": [
    "$$\n",
    "Bias^2= \\sum_i (f(\\boldsymbol{x}_i)-E_\\mathcal{L}[\\hat{g}_\\mathcal{L}(\\boldsymbol{x}_i)])^2\n",
    "$$"
   ]
  },
  {
   "cell_type": "markdown",
   "metadata": {},
   "source": [
    "and measures the deviation of the expectation value of our estimator (i.e. the asymptotic value of our estimator in the infinite data limit) from the true value. \n",
    "\n",
    "## The variance\n",
    "The second term is called the variance"
   ]
  },
  {
   "cell_type": "markdown",
   "metadata": {},
   "source": [
    "$$\n",
    "Var=\\sum_i E_\\mathcal{L}[( \\hat{g}_\\mathcal{L}(\\boldsymbol{x}_i)-E_\\mathcal{L}[\\hat{g}_\\mathcal{L}(\\boldsymbol{x}_i)])^2],\n",
    "$$"
   ]
  },
  {
   "cell_type": "markdown",
   "metadata": {},
   "source": [
    "and measures how much our estimator fluctuates due to finite-sample effects. Combining these expressions, we see that the expected out-of-sample error of our model can be decomposed as"
   ]
  },
  {
   "cell_type": "markdown",
   "metadata": {},
   "source": [
    "$$\n",
    "E_\\mathrm{out}=E_\\mathcal{L, \\epsilon}[\\mathcal{C}( \\boldsymbol{X}, \\hat{g}(\\boldsymbol{x})) ] = Bias^2 + Var + Noise.\n",
    "$$"
   ]
  },
  {
   "cell_type": "markdown",
   "metadata": {},
   "source": [
    "The bias-variance tradeoff summarizes the fundamental tension in\n",
    "machine learning, particularly supervised learning, between the\n",
    "complexity of a model and the amount of training data needed to train\n",
    "it.  Since data is often limited, in practice it is often useful to\n",
    "use a less-complex model with higher bias - a model whose asymptotic\n",
    "performance is worse than another model - because it is easier to\n",
    "train and less sensitive to sampling noise arising from having a\n",
    "finite-sized training dataset (smaller variance). \n",
    "\n",
    "<!-- !split  -->\n",
    "## Summing up\n",
    "\n",
    "The above equations tell us that in\n",
    "order to minimize the expected test error, we need to select a\n",
    "statistical learning method that simultaneously achieves low variance\n",
    "and low bias. Note that variance is inherently a nonnegative quantity,\n",
    "and squared bias is also nonnegative. Hence, we see that the expected\n",
    "test MSE can never lie below $Var(\\epsilon)$, the irreducible error.\n",
    "\n",
    "\n",
    "What do we mean by the variance and bias of a statistical learning\n",
    "method? The variance refers to the amount by which our model would change if we\n",
    "estimated it using a different training data set. Since the training\n",
    "data are used to fit the statistical learning method, different\n",
    "training data sets  will result in a different estimate. But ideally the\n",
    "estimate for our model should not vary too much between training\n",
    "sets. However, if a method has high variance  then small changes in\n",
    "the training data can result in large changes in the model. In general, more\n",
    "flexible statistical methods have higher variance.\n",
    "\n",
    "\n",
    "## The one-dimensional Ising model, project 2\n",
    "\n",
    "The one-dimensional Ising model with nearest neighbor interaction, no external field and a constant coupling constant $J$ is given by"
   ]
  },
  {
   "cell_type": "markdown",
   "metadata": {},
   "source": [
    "<!-- Equation labels as ordinary links -->\n",
    "<div id=\"_auto19\"></div>\n",
    "\n",
    "$$\n",
    "\\begin{equation}\n",
    "    H = -J \\sum_{k}^L s_k s_{k + 1},\n",
    "\\label{_auto19} \\tag{30}\n",
    "\\end{equation}\n",
    "$$"
   ]
  },
  {
   "cell_type": "markdown",
   "metadata": {},
   "source": [
    "where $s_i \\in \\{-1, 1\\}$ and $s_{N + 1} = s_1$. The number of spins in the system is determined by $L$. For the one-dimensional system there is no phase transition.\n",
    "\n",
    "We will look at a system of $L = 40$ spins with a coupling constant of $J = 1$. To get enough training data we will generate 10000 states with their respective energies."
   ]
  },
  {
   "cell_type": "code",
   "execution_count": 36,
   "metadata": {},
   "outputs": [
    {
     "name": "stdout",
     "output_type": "stream",
     "text": [
      "[-0.  4. -8. ... -4. -4. -0.]\n"
     ]
    }
   ],
   "source": [
    "import numpy as np\n",
    "import matplotlib.pyplot as plt\n",
    "from mpl_toolkits.axes_grid1 import make_axes_locatable\n",
    "import seaborn as sns\n",
    "import scipy.linalg as scl\n",
    "from sklearn.model_selection import train_test_split\n",
    "import sklearn.linear_model as skl\n",
    "import tqdm\n",
    "sns.set(color_codes=True)\n",
    "cmap_args=dict(vmin=-1., vmax=1., cmap='seismic')\n",
    "\n",
    "L = 40\n",
    "n = int(1e4)\n",
    "#n = 5\n",
    "spins = np.random.choice([-1, 1], size=(n, L))\n",
    "J = 1.0\n",
    "\n",
    "energies = np.zeros(n)\n",
    "\n",
    "for i in range(n):\n",
    "    energies[i] = - J * np.dot(spins[i], np.roll(spins[i], 1))\n",
    "print(energies)    "
   ]
  },
  {
   "cell_type": "markdown",
   "metadata": {},
   "source": [
    "Here we use linear (ordinary least squares), ridge and LASSO\n",
    "regression to predict the energy in the nearest neighbor\n",
    "one-dimensional Ising model on a ring, i.e., the endpoints wrap\n",
    "around. We will use the linear regression models to fit a value for\n",
    "the coupling constant to achieve this.\n",
    "\n",
    "## Reformulating the problem to suit regression\n",
    "\n",
    "A more general form for the one-dimensional Ising model is"
   ]
  },
  {
   "cell_type": "markdown",
   "metadata": {},
   "source": [
    "<!-- Equation labels as ordinary links -->\n",
    "<div id=\"_auto20\"></div>\n",
    "\n",
    "$$\n",
    "\\begin{equation}\n",
    "    H = - \\sum_j^L \\sum_k^L s_j s_k J_{jk}.\n",
    "\\label{_auto20} \\tag{31}\n",
    "\\end{equation}\n",
    "$$"
   ]
  },
  {
   "cell_type": "markdown",
   "metadata": {},
   "source": [
    "Here we allow for interactions beyond the nearest neighbors and a more\n",
    "adaptive coupling matrix. This latter expression can be formulated as\n",
    "a matrix-product on the form"
   ]
  },
  {
   "cell_type": "markdown",
   "metadata": {},
   "source": [
    "<!-- Equation labels as ordinary links -->\n",
    "<div id=\"_auto21\"></div>\n",
    "\n",
    "$$\n",
    "\\begin{equation}\n",
    "    H = X J,\n",
    "\\label{_auto21} \\tag{32}\n",
    "\\end{equation}\n",
    "$$"
   ]
  },
  {
   "cell_type": "markdown",
   "metadata": {},
   "source": [
    "where $X_{jk} = s_j s_k$ and $J$ is the matrix consisting of the\n",
    "elements $-J_{jk}$. This form of writing the energy fits perfectly\n",
    "with the form utilized in linear regression, viz."
   ]
  },
  {
   "cell_type": "markdown",
   "metadata": {},
   "source": [
    "<!-- Equation labels as ordinary links -->\n",
    "<div id=\"_auto22\"></div>\n",
    "\n",
    "$$\n",
    "\\begin{equation}\n",
    "    y = X\\omega + \\epsilon,\n",
    "\\label{_auto22} \\tag{33}\n",
    "\\end{equation}\n",
    "$$"
   ]
  },
  {
   "cell_type": "code",
   "execution_count": 37,
   "metadata": {},
   "outputs": [
    {
     "name": "stdout",
     "output_type": "stream",
     "text": [
      "[[ 1. -1. -1. ... -1.  1.  1.]\n",
      " [ 1.  1. -1. ... -1. -1.  1.]\n",
      " [ 1. -1.  1. ... -1. -1.  1.]\n",
      " ...\n",
      " [ 1.  1. -1. ...  1. -1.  1.]\n",
      " [ 1. -1. -1. ...  1.  1.  1.]\n",
      " [ 1.  1.  1. ...  1. -1.  1.]]\n"
     ]
    }
   ],
   "source": [
    "X = np.zeros((n, L ** 2))\n",
    "for i in range(n):\n",
    "    X[i] = np.outer(spins[i], spins[i]).ravel()\n",
    "print(X)    \n",
    "    \n",
    "y = energies\n",
    "X_train, X_test, y_train, y_test = train_test_split(X, y, test_size=0.96)\n",
    "\n",
    "X_train_own = np.concatenate(\n",
    "    (np.ones(len(X_train))[:, np.newaxis], X_train),\n",
    "    axis=1\n",
    ")\n",
    "\n",
    "X_test_own = np.concatenate(\n",
    "    (np.ones(len(X_test))[:, np.newaxis], X_test),\n",
    "    axis=1\n",
    ")"
   ]
  },
  {
   "cell_type": "markdown",
   "metadata": {},
   "source": [
    "## Linear regression\n",
    "\n",
    "The problem at hand is to try to fit the equation"
   ]
  },
  {
   "cell_type": "markdown",
   "metadata": {},
   "source": [
    "<!-- Equation labels as ordinary links -->\n",
    "<div id=\"_auto23\"></div>\n",
    "\n",
    "$$\n",
    "\\begin{equation}\n",
    "    y = f(x) + \\epsilon,\n",
    "\\label{_auto23} \\tag{34}\n",
    "\\end{equation}\n",
    "$$"
   ]
  },
  {
   "cell_type": "markdown",
   "metadata": {},
   "source": [
    "where $f(x)$ is some unknown function of the data $x$ and $\\epsilon$\n",
    "is normally distributed with mean zero noise with standard deviation\n",
    "$\\sigma_{\\epsilon}$. Our job is to try to find a predictor which\n",
    "estimates the function $f(x)$. In linear regression we assume that we\n",
    "can formulate the problem as"
   ]
  },
  {
   "cell_type": "markdown",
   "metadata": {},
   "source": [
    "<!-- Equation labels as ordinary links -->\n",
    "<div id=\"_auto24\"></div>\n",
    "\n",
    "$$\n",
    "\\begin{equation}\n",
    "    y = X\\omega + \\epsilon,\n",
    "\\label{_auto24} \\tag{35}\n",
    "\\end{equation}\n",
    "$$"
   ]
  },
  {
   "cell_type": "markdown",
   "metadata": {},
   "source": [
    "where $X$ and $\\omega$ are now matrices. Our job at hand is now to\n",
    "find a **cost function** $C$, which we wish to minimize in order to find\n",
    "the best estimate of $\\omega$.\n",
    "\n",
    "## Ordinary least squares\n",
    "\n",
    "In the ordinary least squares method we choose the cost function"
   ]
  },
  {
   "cell_type": "markdown",
   "metadata": {},
   "source": [
    "<!-- Equation labels as ordinary links -->\n",
    "<div id=\"_auto25\"></div>\n",
    "\n",
    "$$\n",
    "\\begin{equation}\n",
    "    C(X, \\omega) = ||X\\omega - y||^2\n",
    "    = (X\\omega - y)^T(X\\omega - y)\n",
    "\\label{_auto25} \\tag{36}\n",
    "\\end{equation}\n",
    "$$"
   ]
  },
  {
   "cell_type": "markdown",
   "metadata": {},
   "source": [
    "We then find the extremal point of $C$ by taking the derivative with respect to $\\omega$ and setting it to zero, i.e.,"
   ]
  },
  {
   "cell_type": "markdown",
   "metadata": {},
   "source": [
    "<!-- Equation labels as ordinary links -->\n",
    "<div id=\"_auto26\"></div>\n",
    "\n",
    "$$\n",
    "\\begin{equation}\n",
    "    \\dfrac{\\mathrm{d}C}{\\mathrm{d}\\omega}\n",
    "    = 0.\n",
    "\\label{_auto26} \\tag{37}\n",
    "\\end{equation}\n",
    "$$"
   ]
  },
  {
   "cell_type": "markdown",
   "metadata": {},
   "source": [
    "This yields the expression for $\\omega$ to be"
   ]
  },
  {
   "cell_type": "markdown",
   "metadata": {},
   "source": [
    "<!-- Equation labels as ordinary links -->\n",
    "<div id=\"_auto27\"></div>\n",
    "\n",
    "$$\n",
    "\\begin{equation}\n",
    "    \\omega = \\frac{X^T y}{X^T X},\n",
    "\\label{_auto27} \\tag{38}\n",
    "\\end{equation}\n",
    "$$"
   ]
  },
  {
   "cell_type": "markdown",
   "metadata": {},
   "source": [
    "which immediately imposes some requirements on $X$ as there must exist\n",
    "an inverse of $X^T X$. If the expression we are modelling contains an\n",
    "intercept, i.e., a constant expression we must make sure that the\n",
    "first column of $X$ consists of $1$."
   ]
  },
  {
   "cell_type": "code",
   "execution_count": 38,
   "metadata": {},
   "outputs": [
    {
     "ename": "LinAlgError",
     "evalue": "singular matrix",
     "output_type": "error",
     "traceback": [
      "\u001b[0;31m---------------------------------------------------------------------------\u001b[0m",
      "\u001b[0;31mLinAlgError\u001b[0m                               Traceback (most recent call last)",
      "\u001b[0;32m<ipython-input-38-79900d03245b>\u001b[0m in \u001b[0;36m<module>\u001b[0;34m\u001b[0m\n\u001b[1;32m      1\u001b[0m \u001b[0;32mdef\u001b[0m \u001b[0mget_ols_weights_naive\u001b[0m\u001b[0;34m(\u001b[0m\u001b[0mx\u001b[0m\u001b[0;34m:\u001b[0m \u001b[0mnp\u001b[0m\u001b[0;34m.\u001b[0m\u001b[0mndarray\u001b[0m\u001b[0;34m,\u001b[0m \u001b[0my\u001b[0m\u001b[0;34m:\u001b[0m \u001b[0mnp\u001b[0m\u001b[0;34m.\u001b[0m\u001b[0mndarray\u001b[0m\u001b[0;34m)\u001b[0m \u001b[0;34m->\u001b[0m \u001b[0mnp\u001b[0m\u001b[0;34m.\u001b[0m\u001b[0mndarray\u001b[0m\u001b[0;34m:\u001b[0m\u001b[0;34m\u001b[0m\u001b[0m\n\u001b[1;32m      2\u001b[0m     \u001b[0;32mreturn\u001b[0m \u001b[0mscl\u001b[0m\u001b[0;34m.\u001b[0m\u001b[0minv\u001b[0m\u001b[0;34m(\u001b[0m\u001b[0mx\u001b[0m\u001b[0;34m.\u001b[0m\u001b[0mT\u001b[0m \u001b[0;34m@\u001b[0m \u001b[0mx\u001b[0m\u001b[0;34m)\u001b[0m \u001b[0;34m@\u001b[0m \u001b[0;34m(\u001b[0m\u001b[0mx\u001b[0m\u001b[0;34m.\u001b[0m\u001b[0mT\u001b[0m \u001b[0;34m@\u001b[0m \u001b[0my\u001b[0m\u001b[0;34m)\u001b[0m\u001b[0;34m\u001b[0m\u001b[0m\n\u001b[0;32m----> 3\u001b[0;31m \u001b[0momega\u001b[0m \u001b[0;34m=\u001b[0m \u001b[0mget_ols_weights_naive\u001b[0m\u001b[0;34m(\u001b[0m\u001b[0mX_train_own\u001b[0m\u001b[0;34m,\u001b[0m \u001b[0my_train\u001b[0m\u001b[0;34m)\u001b[0m\u001b[0;34m\u001b[0m\u001b[0m\n\u001b[0m",
      "\u001b[0;32m<ipython-input-38-79900d03245b>\u001b[0m in \u001b[0;36mget_ols_weights_naive\u001b[0;34m(x, y)\u001b[0m\n\u001b[1;32m      1\u001b[0m \u001b[0;32mdef\u001b[0m \u001b[0mget_ols_weights_naive\u001b[0m\u001b[0;34m(\u001b[0m\u001b[0mx\u001b[0m\u001b[0;34m:\u001b[0m \u001b[0mnp\u001b[0m\u001b[0;34m.\u001b[0m\u001b[0mndarray\u001b[0m\u001b[0;34m,\u001b[0m \u001b[0my\u001b[0m\u001b[0;34m:\u001b[0m \u001b[0mnp\u001b[0m\u001b[0;34m.\u001b[0m\u001b[0mndarray\u001b[0m\u001b[0;34m)\u001b[0m \u001b[0;34m->\u001b[0m \u001b[0mnp\u001b[0m\u001b[0;34m.\u001b[0m\u001b[0mndarray\u001b[0m\u001b[0;34m:\u001b[0m\u001b[0;34m\u001b[0m\u001b[0m\n\u001b[0;32m----> 2\u001b[0;31m     \u001b[0;32mreturn\u001b[0m \u001b[0mscl\u001b[0m\u001b[0;34m.\u001b[0m\u001b[0minv\u001b[0m\u001b[0;34m(\u001b[0m\u001b[0mx\u001b[0m\u001b[0;34m.\u001b[0m\u001b[0mT\u001b[0m \u001b[0;34m@\u001b[0m \u001b[0mx\u001b[0m\u001b[0;34m)\u001b[0m \u001b[0;34m@\u001b[0m \u001b[0;34m(\u001b[0m\u001b[0mx\u001b[0m\u001b[0;34m.\u001b[0m\u001b[0mT\u001b[0m \u001b[0;34m@\u001b[0m \u001b[0my\u001b[0m\u001b[0;34m)\u001b[0m\u001b[0;34m\u001b[0m\u001b[0m\n\u001b[0m\u001b[1;32m      3\u001b[0m \u001b[0momega\u001b[0m \u001b[0;34m=\u001b[0m \u001b[0mget_ols_weights_naive\u001b[0m\u001b[0;34m(\u001b[0m\u001b[0mX_train_own\u001b[0m\u001b[0;34m,\u001b[0m \u001b[0my_train\u001b[0m\u001b[0;34m)\u001b[0m\u001b[0;34m\u001b[0m\u001b[0m\n",
      "\u001b[0;32m/usr/local/lib/python3.7/site-packages/scipy/linalg/basic.py\u001b[0m in \u001b[0;36minv\u001b[0;34m(a, overwrite_a, check_finite)\u001b[0m\n\u001b[1;32m    973\u001b[0m         \u001b[0minv_a\u001b[0m\u001b[0;34m,\u001b[0m \u001b[0minfo\u001b[0m \u001b[0;34m=\u001b[0m \u001b[0mgetri\u001b[0m\u001b[0;34m(\u001b[0m\u001b[0mlu\u001b[0m\u001b[0;34m,\u001b[0m \u001b[0mpiv\u001b[0m\u001b[0;34m,\u001b[0m \u001b[0mlwork\u001b[0m\u001b[0;34m=\u001b[0m\u001b[0mlwork\u001b[0m\u001b[0;34m,\u001b[0m \u001b[0moverwrite_lu\u001b[0m\u001b[0;34m=\u001b[0m\u001b[0;36m1\u001b[0m\u001b[0;34m)\u001b[0m\u001b[0;34m\u001b[0m\u001b[0m\n\u001b[1;32m    974\u001b[0m     \u001b[0;32mif\u001b[0m \u001b[0minfo\u001b[0m \u001b[0;34m>\u001b[0m \u001b[0;36m0\u001b[0m\u001b[0;34m:\u001b[0m\u001b[0;34m\u001b[0m\u001b[0m\n\u001b[0;32m--> 975\u001b[0;31m         \u001b[0;32mraise\u001b[0m \u001b[0mLinAlgError\u001b[0m\u001b[0;34m(\u001b[0m\u001b[0;34m\"singular matrix\"\u001b[0m\u001b[0;34m)\u001b[0m\u001b[0;34m\u001b[0m\u001b[0m\n\u001b[0m\u001b[1;32m    976\u001b[0m     \u001b[0;32mif\u001b[0m \u001b[0minfo\u001b[0m \u001b[0;34m<\u001b[0m \u001b[0;36m0\u001b[0m\u001b[0;34m:\u001b[0m\u001b[0;34m\u001b[0m\u001b[0m\n\u001b[1;32m    977\u001b[0m         raise ValueError('illegal value in %d-th argument of internal '\n",
      "\u001b[0;31mLinAlgError\u001b[0m: singular matrix"
     ]
    }
   ],
   "source": [
    "def get_ols_weights_naive(x: np.ndarray, y: np.ndarray) -> np.ndarray:\n",
    "    return scl.inv(x.T @ x) @ (x.T @ y)\n",
    "omega = get_ols_weights_naive(X_train_own, y_train)"
   ]
  },
  {
   "cell_type": "markdown",
   "metadata": {},
   "source": [
    "## Singular Value decomposition\n",
    "Doing the inversion directly turns out to be a bad idea as the matrix\n",
    "$X^TX$ is singular. An alternative approach is to use the **singular\n",
    "value decomposition**. Using the definition of the Moore-Penrose\n",
    "pseudoinverse we can write the equation for $\\omega$ as"
   ]
  },
  {
   "cell_type": "markdown",
   "metadata": {},
   "source": [
    "<!-- Equation labels as ordinary links -->\n",
    "<div id=\"_auto28\"></div>\n",
    "\n",
    "$$\n",
    "\\begin{equation}\n",
    "    \\omega = X^{+}y,\n",
    "\\label{_auto28} \\tag{39}\n",
    "\\end{equation}\n",
    "$$"
   ]
  },
  {
   "cell_type": "markdown",
   "metadata": {},
   "source": [
    "where the pseudoinverse of $X$ is given by"
   ]
  },
  {
   "cell_type": "markdown",
   "metadata": {},
   "source": [
    "<!-- Equation labels as ordinary links -->\n",
    "<div id=\"_auto29\"></div>\n",
    "\n",
    "$$\n",
    "\\begin{equation}\n",
    "    X^{+} = \\frac{X^T}{X^T X}.\n",
    "\\label{_auto29} \\tag{40}\n",
    "\\end{equation}\n",
    "$$"
   ]
  },
  {
   "cell_type": "markdown",
   "metadata": {},
   "source": [
    "Using singular value decomposition we have that $X = U\\Sigma V^T$,\n",
    "where $X^{+} = V\\Sigma^{+} U^T$. This reduces the equation for\n",
    "$\\omega$ to"
   ]
  },
  {
   "cell_type": "markdown",
   "metadata": {},
   "source": [
    "<!-- Equation labels as ordinary links -->\n",
    "<div id=\"_auto30\"></div>\n",
    "\n",
    "$$\n",
    "\\begin{equation}\n",
    "    \\omega = V\\Sigma^{+} U^T y.\n",
    "\\label{_auto30} \\tag{41}\n",
    "\\end{equation}\n",
    "$$"
   ]
  },
  {
   "cell_type": "markdown",
   "metadata": {},
   "source": [
    "Note that solving this equation by actually doing the pseudoinverse\n",
    "(which is what we will do) is not a good idea as this operation scales\n",
    "as $\\mathcal{O}(n^3)$, where $n$ is the number of elements in a\n",
    "general matrix. Instead, doing $QR$-factorization and solving the\n",
    "linear system as an equation would reduce this down to\n",
    "$\\mathcal{O}(n^2)$ operations."
   ]
  },
  {
   "cell_type": "code",
   "execution_count": 39,
   "metadata": {},
   "outputs": [],
   "source": [
    "def get_ols_weights(x: np.ndarray, y: np.ndarray) -> np.ndarray:\n",
    "    u, s, v = scl.svd(x)\n",
    "    return v.T @ scl.pinv(scl.diagsvd(s, u.shape[0], v.shape[0])) @ u.T @ y"
   ]
  },
  {
   "cell_type": "markdown",
   "metadata": {},
   "source": [
    "Before passing in the data to the function we append a column with ones to the training data."
   ]
  },
  {
   "cell_type": "code",
   "execution_count": 40,
   "metadata": {},
   "outputs": [],
   "source": [
    "omega = get_ols_weights(X_train_own,y_train)"
   ]
  },
  {
   "cell_type": "markdown",
   "metadata": {},
   "source": [
    "## Fitting with scikit-learn\n",
    "\n",
    "Next we fit a `LinearRegression`-model from Scikit-learn for comparison."
   ]
  },
  {
   "cell_type": "code",
   "execution_count": 41,
   "metadata": {},
   "outputs": [],
   "source": [
    "clf = skl.LinearRegression().fit(X_train, y_train)"
   ]
  },
  {
   "cell_type": "markdown",
   "metadata": {},
   "source": [
    "Extracting the $J$-matrix from both our own method and the Scikit-learn model where we make sure to remove the intercept."
   ]
  },
  {
   "cell_type": "code",
   "execution_count": 42,
   "metadata": {},
   "outputs": [],
   "source": [
    "J_own = omega[1:].reshape(L, L)\n",
    "J_sk = clf.coef_.reshape(L, L)"
   ]
  },
  {
   "cell_type": "markdown",
   "metadata": {},
   "source": [
    "A way of looking at the coefficients in $J$ is to plot the matrices as images."
   ]
  },
  {
   "cell_type": "code",
   "execution_count": 43,
   "metadata": {},
   "outputs": [
    {
     "data": {
      "image/png": "[encoded data removed]",
      "text/plain": [
       "<Figure size 1440x1008 with 2 Axes>"
      ]
     },
     "metadata": {},
     "output_type": "display_data"
    },
    {
     "data": {
      "image/png": "[encoded data removed]",
      "text/plain": [
       "<Figure size 1440x1008 with 2 Axes>"
      ]
     },
     "metadata": {},
     "output_type": "display_data"
    }
   ],
   "source": [
    "fig = plt.figure(figsize=(20, 14))\n",
    "im = plt.imshow(J_own, **cmap_args)\n",
    "plt.title(\"Home-made OLS\", fontsize=18)\n",
    "plt.xticks(fontsize=18)\n",
    "plt.yticks(fontsize=18)\n",
    "cb = fig.colorbar(im)\n",
    "cb.ax.set_yticklabels(cb.ax.get_yticklabels(), fontsize=18)\n",
    "\n",
    "fig = plt.figure(figsize=(20, 14))\n",
    "im = plt.imshow(J_sk, **cmap_args)\n",
    "plt.title(\"LinearRegression from Scikit-learn\", fontsize=18)\n",
    "plt.xticks(fontsize=18)\n",
    "plt.yticks(fontsize=18)\n",
    "cb = fig.colorbar(im)\n",
    "cb.ax.set_yticklabels(cb.ax.get_yticklabels(), fontsize=18)\n",
    "plt.show()"
   ]
  },
  {
   "cell_type": "markdown",
   "metadata": {},
   "source": [
    "We can see that our model for the least squares method performes close\n",
    "to the benchmark from Scikit-learn. It is interesting to note that OLS\n",
    "considers both $J_{j, j + 1} = -0.5$ and $J_{j, j - 1} = -0.5$ as\n",
    "valid matrix elements for $J$.\n",
    "\n",
    "## Ridge regression\n",
    "\n",
    "Having explored the ordinary least squares we move on to ridge\n",
    "regression. In ridge regression we include a **regularizer**. This\n",
    "involves a new cost function which leads to a new estimate for the\n",
    "weights $\\omega$. This results in a penalized regression problem. The\n",
    "cost function is given by"
   ]
  },
  {
   "cell_type": "markdown",
   "metadata": {},
   "source": [
    "<!-- Equation labels as ordinary links -->\n",
    "<div id=\"_auto31\"></div>\n",
    "\n",
    "$$\n",
    "\\begin{equation}\n",
    "    C(X, \\omega; \\lambda) = ||X\\omega - y||^2 + \\lambda ||\\omega||^2\n",
    "    = (X\\omega - y)^T(X\\omega - y) + \\lambda \\omega^T\\omega.\n",
    "\\label{_auto31} \\tag{42}\n",
    "\\end{equation}\n",
    "$$"
   ]
  },
  {
   "cell_type": "markdown",
   "metadata": {},
   "source": [
    "Finding the extremum of this function yields the weights"
   ]
  },
  {
   "cell_type": "markdown",
   "metadata": {},
   "source": [
    "<!-- Equation labels as ordinary links -->\n",
    "<div id=\"_auto32\"></div>\n",
    "\n",
    "$$\n",
    "\\begin{equation}\n",
    "    \\omega(\\lambda) = \\frac{X^Ty}{X^TX + \\lambda} \\to \\frac{\\omega_{\\text{LS}}}{1 + \\lambda},\n",
    "\\label{_auto32} \\tag{43}\n",
    "\\end{equation}\n",
    "$$"
   ]
  },
  {
   "cell_type": "markdown",
   "metadata": {},
   "source": [
    "where $\\omega_{\\text{LS}}$ is the weights from ordinary least\n",
    "squares. The last assumption assumes that $X$ is orthogonal, which it\n",
    "is not. We will therefore resort to solving the equation as it stands\n",
    "on the left hand side."
   ]
  },
  {
   "cell_type": "code",
   "execution_count": 44,
   "metadata": {},
   "outputs": [
    {
     "data": {
      "image/png": "[encoded data removed]",
      "text/plain": [
       "<Figure size 1440x1008 with 2 Axes>"
      ]
     },
     "metadata": {},
     "output_type": "display_data"
    },
    {
     "data": {
      "image/png": "[encoded data removed]",
      "text/plain": [
       "<Figure size 1440x1008 with 2 Axes>"
      ]
     },
     "metadata": {},
     "output_type": "display_data"
    }
   ],
   "source": [
    "def get_ridge_weights(x: np.ndarray, y: np.ndarray, _lambda: float) -> np.ndarray:\n",
    "    return x.T @ y @ scl.inv(\n",
    "        x.T @ x + np.eye(x.shape[1], x.shape[1]) * _lambda\n",
    "    )\n",
    "_lambda = 0.1\n",
    "omega_ridge = get_ridge_weights(X_train_own, y_train, np.array([_lambda]))\n",
    "clf_ridge = skl.Ridge(alpha=_lambda).fit(X_train, y_train)\n",
    "J_ridge_own = omega_ridge[1:].reshape(L, L)\n",
    "J_ridge_sk = clf_ridge.coef_.reshape(L, L)\n",
    "fig = plt.figure(figsize=(20, 14))\n",
    "im = plt.imshow(J_ridge_own, **cmap_args)\n",
    "plt.title(\"Home-made ridge regression\", fontsize=18)\n",
    "plt.xticks(fontsize=18)\n",
    "plt.yticks(fontsize=18)\n",
    "cb = fig.colorbar(im)\n",
    "cb.ax.set_yticklabels(cb.ax.get_yticklabels(), fontsize=18)\n",
    "\n",
    "fig = plt.figure(figsize=(20, 14))\n",
    "im = plt.imshow(J_ridge_sk, **cmap_args)\n",
    "plt.title(\"Ridge from Scikit-learn\", fontsize=18)\n",
    "plt.xticks(fontsize=18)\n",
    "plt.yticks(fontsize=18)\n",
    "cb = fig.colorbar(im)\n",
    "cb.ax.set_yticklabels(cb.ax.get_yticklabels(), fontsize=18)\n",
    "\n",
    "plt.show()"
   ]
  },
  {
   "cell_type": "markdown",
   "metadata": {},
   "source": [
    "## LASSO regression\n",
    "\n",
    "In the **Least Absolute Shrinkage and Selection Operator** (LASSO)-method we get a third cost function."
   ]
  },
  {
   "cell_type": "markdown",
   "metadata": {},
   "source": [
    "<!-- Equation labels as ordinary links -->\n",
    "<div id=\"_auto33\"></div>\n",
    "\n",
    "$$\n",
    "\\begin{equation}\n",
    "    C(X, \\omega; \\lambda) =\n",
    "    ||X\\omega - y||^2 + \\lambda ||\\omega||\n",
    "    = (X\\omega - y)^T(X\\omega - y) + \\lambda \\sqrt{\\omega^T\\omega}.\n",
    "\\label{_auto33} \\tag{44}\n",
    "\\end{equation}\n",
    "$$"
   ]
  },
  {
   "cell_type": "markdown",
   "metadata": {},
   "source": [
    "Finding the extremal point of this cost function is not so straight-forward as in least squares and ridge. We will therefore rely solely on the function ``Lasso`` from Scikit-learn."
   ]
  },
  {
   "cell_type": "code",
   "execution_count": 45,
   "metadata": {},
   "outputs": [
    {
     "data": {
      "image/png": "[encoded data removed]",
      "text/plain": [
       "<Figure size 1440x1008 with 2 Axes>"
      ]
     },
     "metadata": {},
     "output_type": "display_data"
    }
   ],
   "source": [
    "clf_lasso = skl.Lasso(alpha=_lambda).fit(X_train, y_train)\n",
    "J_lasso_sk = clf_lasso.coef_.reshape(L, L)\n",
    "fig = plt.figure(figsize=(20, 14))\n",
    "im = plt.imshow(J_lasso_sk, **cmap_args)\n",
    "plt.title(\"Lasso from Scikit-learn\", fontsize=18)\n",
    "plt.xticks(fontsize=18)\n",
    "plt.yticks(fontsize=18)\n",
    "cb = fig.colorbar(im)\n",
    "cb.ax.set_yticklabels(cb.ax.get_yticklabels(), fontsize=18)\n",
    "\n",
    "plt.show()"
   ]
  },
  {
   "cell_type": "markdown",
   "metadata": {},
   "source": [
    "It is quite striking how LASSO breaks the symmetry of the coupling\n",
    "constant as opposed to ridge and OLS. We get a sparse solution with\n",
    "$J_{j, j + 1} = -1$.\n",
    "\n",
    "\n",
    "## Performance of the different models\n",
    "\n",
    "In order to judge which model performs best at varying values of $\\lambda$ (for ridge and LASSO) we compute $R^2$ which is given by"
   ]
  },
  {
   "cell_type": "markdown",
   "metadata": {},
   "source": [
    "<!-- Equation labels as ordinary links -->\n",
    "<div id=\"_auto34\"></div>\n",
    "\n",
    "$$\n",
    "\\begin{equation}\n",
    "    R^2 = 1 - \\frac{(y - \\hat{y})^2}{(y - \\bar{y})^2},\n",
    "\\label{_auto34} \\tag{45}\n",
    "\\end{equation}\n",
    "$$"
   ]
  },
  {
   "cell_type": "markdown",
   "metadata": {},
   "source": [
    "where $y$ is a vector with the true values of the energy, $\\hat{y}$ is the predicted values of $y$ from the models and $\\bar{y}$ is the mean of $\\hat{y}$."
   ]
  },
  {
   "cell_type": "code",
   "execution_count": 46,
   "metadata": {},
   "outputs": [],
   "source": [
    "def r_squared(y, y_hat):\n",
    "    return 1 - np.sum((y - y_hat) ** 2) / np.sum((y - np.mean(y_hat)) ** 2)"
   ]
  },
  {
   "cell_type": "markdown",
   "metadata": {},
   "source": [
    "This is the same metric used by Scikit-learn for their regression models when scoring."
   ]
  },
  {
   "cell_type": "code",
   "execution_count": 47,
   "metadata": {},
   "outputs": [],
   "source": [
    "y_hat = clf.predict(X_test)\n",
    "r_test = r_squared(y_test, y_hat)\n",
    "sk_r_test = clf.score(X_test, y_test)\n",
    "\n",
    "assert abs(r_test - sk_r_test) < 1e-2"
   ]
  },
  {
   "cell_type": "markdown",
   "metadata": {},
   "source": [
    "## Performance as  function of the regularization parameter\n",
    "\n",
    "We see how the different models perform for a different set of values for $\\lambda$."
   ]
  },
  {
   "cell_type": "code",
   "execution_count": 48,
   "metadata": {},
   "outputs": [
    {
     "name": "stderr",
     "output_type": "stream",
     "text": [
      "  0%|          | 0/10 [00:00<?, ?it/s]/usr/local/lib/python3.7/site-packages/sklearn/linear_model/coordinate_descent.py:491: ConvergenceWarning: Objective did not converge. You might want to increase the number of iterations. Fitting data with very small alpha may cause precision problems.\n",
      "  ConvergenceWarning)\n",
      "100%|██████████| 10/10 [00:17<00:00,  1.56s/it]\n"
     ]
    },
    {
     "data": {
      "image/png": "[encoded data removed]",
      "text/plain": [
       "<Figure size 2304x3888 with 50 Axes>"
      ]
     },
     "metadata": {},
     "output_type": "display_data"
    }
   ],
   "source": [
    "lambdas = np.logspace(-4, 5, 10)\n",
    "\n",
    "train_errors = {\n",
    "    \"ols_own\": np.zeros(lambdas.size),\n",
    "    \"ols_sk\": np.zeros(lambdas.size),\n",
    "    \"ridge_own\": np.zeros(lambdas.size),\n",
    "    \"ridge_sk\": np.zeros(lambdas.size),\n",
    "    \"lasso_sk\": np.zeros(lambdas.size)\n",
    "}\n",
    "\n",
    "test_errors = {\n",
    "    \"ols_own\": np.zeros(lambdas.size),\n",
    "    \"ols_sk\": np.zeros(lambdas.size),\n",
    "    \"ridge_own\": np.zeros(lambdas.size),\n",
    "    \"ridge_sk\": np.zeros(lambdas.size),\n",
    "    \"lasso_sk\": np.zeros(lambdas.size)\n",
    "}\n",
    "\n",
    "plot_counter = 1\n",
    "\n",
    "fig = plt.figure(figsize=(32, 54))\n",
    "\n",
    "for i, _lambda in enumerate(tqdm.tqdm(lambdas)):\n",
    "    omega = get_ols_weights(X_train_own, y_train)\n",
    "    y_hat_train = X_train_own @ omega\n",
    "    y_hat_test = X_test_own @ omega\n",
    "\n",
    "    train_errors[\"ols_own\"][i] = r_squared(y_train, y_hat_train)\n",
    "    test_errors[\"ols_own\"][i] = r_squared(y_test, y_hat_test)\n",
    "\n",
    "    plt.subplot(10, 5, plot_counter)\n",
    "    plt.imshow(omega[1:].reshape(L, L), **cmap_args)\n",
    "    plt.title(\"Home made OLS\")\n",
    "    plot_counter += 1\n",
    "\n",
    "    omega = get_ridge_weights(X_train_own, y_train, _lambda)\n",
    "    y_hat_train = X_train_own @ omega\n",
    "    y_hat_test = X_test_own @ omega\n",
    "\n",
    "    train_errors[\"ridge_own\"][i] = r_squared(y_train, y_hat_train)\n",
    "    test_errors[\"ridge_own\"][i] = r_squared(y_test, y_hat_test)\n",
    "\n",
    "    plt.subplot(10, 5, plot_counter)\n",
    "    plt.imshow(omega[1:].reshape(L, L), **cmap_args)\n",
    "    plt.title(r\"Home made ridge, $\\lambda = %.4f$\" % _lambda)\n",
    "    plot_counter += 1\n",
    "\n",
    "    for key, method in zip(\n",
    "        [\"ols_sk\", \"ridge_sk\", \"lasso_sk\"],\n",
    "        [skl.LinearRegression(), skl.Ridge(alpha=_lambda), skl.Lasso(alpha=_lambda)]\n",
    "    ):\n",
    "        method = method.fit(X_train, y_train)\n",
    "\n",
    "        train_errors[key][i] = method.score(X_train, y_train)\n",
    "        test_errors[key][i] = method.score(X_test, y_test)\n",
    "\n",
    "        omega = method.coef_.reshape(L, L)\n",
    "\n",
    "        plt.subplot(10, 5, plot_counter)\n",
    "        plt.imshow(omega, **cmap_args)\n",
    "        plt.title(r\"%s, $\\lambda = %.4f$\" % (key, _lambda))\n",
    "        plot_counter += 1\n",
    "\n",
    "plt.show()"
   ]
  },
  {
   "cell_type": "markdown",
   "metadata": {},
   "source": [
    "We can see that LASSO quite fast reaches a good solution for low\n",
    "values of $\\lambda$, but will \"wither\" when we increase $\\lambda$ too\n",
    "much. Ridge is more stable over a larger range of values for\n",
    "$\\lambda$, but eventually also fades away.\n",
    "\n",
    "## Finding the optimal value of $\\lambda$\n",
    "\n",
    "To determine which value of $\\lambda$ is best we plot the accuracy of\n",
    "the models when predicting the training and the testing set. We expect\n",
    "the accuracy of the training set to be quite good, but if the accuracy\n",
    "of the testing set is much lower this tells us that we might be\n",
    "subject to an overfit model. The ideal scenario is an accuracy on the\n",
    "testing set that is close to the accuracy of the training set."
   ]
  },
  {
   "cell_type": "code",
   "execution_count": 49,
   "metadata": {},
   "outputs": [
    {
     "data": {
      "image/png": "[encoded data removed]",
      "text/plain": [
       "<Figure size 1440x1008 with 1 Axes>"
      ]
     },
     "metadata": {},
     "output_type": "display_data"
    }
   ],
   "source": [
    "fig = plt.figure(figsize=(20, 14))\n",
    "\n",
    "colors = {\n",
    "    \"ols_own\": \"b\",\n",
    "    \"ridge_own\": \"g\",\n",
    "    \"ols_sk\": \"r\",\n",
    "    \"ridge_sk\": \"y\",\n",
    "    \"lasso_sk\": \"c\"\n",
    "}\n",
    "\n",
    "for key in train_errors:\n",
    "    plt.semilogx(\n",
    "        lambdas,\n",
    "        train_errors[key],\n",
    "        colors[key],\n",
    "        label=\"Train {0}\".format(key),\n",
    "        linewidth=4.0\n",
    "    )\n",
    "\n",
    "for key in test_errors:\n",
    "    plt.semilogx(\n",
    "        lambdas,\n",
    "        test_errors[key],\n",
    "        colors[key] + \"--\",\n",
    "        label=\"Test {0}\".format(key),\n",
    "        linewidth=4.0\n",
    "    )\n",
    "#plt.semilogx(lambdas, train_errors[\"ols_own\"], label=\"Train (OLS own)\")\n",
    "#plt.semilogx(lambdas, test_errors[\"ols_own\"], label=\"Test (OLS own)\")\n",
    "\n",
    "plt.legend(loc=\"best\", fontsize=18)\n",
    "plt.xlabel(r\"$\\lambda$\", fontsize=18)\n",
    "plt.ylabel(r\"$R^2$\", fontsize=18)\n",
    "plt.tick_params(labelsize=18)\n",
    "plt.show()"
   ]
  },
  {
   "cell_type": "markdown",
   "metadata": {},
   "source": [
    "From the above figure we can see that LASSO with $\\lambda = 10^{-2}$\n",
    "achieve a very good accuracy on the test set. This by far surpases the\n",
    "other models for all values of $\\lambda$."
   ]
  }
 ],
 "metadata": {
  "kernelspec": {
   "display_name": "Python 3",
   "language": "python",
   "name": "python3"
  },
  "language_info": {
   "codemirror_mode": {
    "name": "ipython",
    "version": 3
   },
   "file_extension": ".py",
   "mimetype": "text/x-python",
   "name": "python",
   "nbconvert_exporter": "python",
   "pygments_lexer": "ipython3",
   "version": "3.7.0"
  }
 },
 "nbformat": 4,
 "nbformat_minor": 2
}
