{
 "cells": [
  {
   "cell_type": "markdown",
   "metadata": {},
   "source": [
    "# Predicting phase transition of the two-dimensional Ising model\n",
    "\n",
    "In this notebook we will be doing a binary classification of the two-dimensional Ising model where we try to predict if a given state is `ordered` or `disordered`."
   ]
  },
  {
   "cell_type": "markdown",
   "metadata": {},
   "source": [
    "## The Ising model\n",
    "\n",
    "The Hamiltonian of the two-dimensional Ising model without an external field for a constant coupling constant $J$ is given by\n",
    "\n",
    "\\begin{align}\n",
    "    H = -J \\sum_{\\langle ij\\rangle} S_i S_j,\n",
    "\\end{align}\n",
    "\n",
    "where $S_i \\in \\{-1, 1\\}$ and $\\langle ij \\rangle$ signifies that we only iterate over the nearest neighbors in the lattice. We will be looking at a system of $L = 40$ spins in each dimension, i.e., $L^2 = 1600$ spins in total. Opposed to the one-dimensional Ising model we will get a phase transition from an _ordered_ phase to a _disordered_ phase at the critical temperature\n",
    "\n",
    "\\begin{align}\n",
    "    \\frac{T_c}{J} = \\frac{2}{\\log\\left(1 + \\sqrt{2}\\right)} \\approx 2.26,\n",
    "\\end{align}\n",
    "\n",
    "as shown by Lars Onsager."
   ]
  },
  {
   "cell_type": "markdown",
   "metadata": {},
   "source": [
    "### The goal\n",
    "\n",
    "We wish in this notebook to use _logistic regression_ to predict when a phase transition occurs. The data we will look at is a set of spin configurations, i.e., individual lattices with spins, labeled _ordered_ `1` or _disordered_ `0`. Our job is to build a model which will take in a spin configuration and predict whether or not the spin configuration constitutes an ordered or a disordered phase. To achieve this we will represent the lattices as flattened arrays with $1600$ elements instead of a matrix of $40 \\times 40$ elements. As an extra test of the performance of the algorithms we will divide the dataset into three pieces. We will do a conventional train-test-split on a combination of totally ordered and totally disordered phases. The remaining \"critical-like\" states will be used as test data which we hope the model will be able to make good extrapolated predictions on."
   ]
  },
  {
   "cell_type": "code",
   "execution_count": 1,
   "metadata": {
    "collapsed": true
   },
   "outputs": [],
   "source": [
    "import pickle\n",
    "import os\n",
    "import glob\n",
    "import numpy as np\n",
    "import pandas as pd\n",
    "import matplotlib.pyplot as plt\n",
    "import seaborn as sns\n",
    "import sklearn.model_selection as skms\n",
    "import sklearn.linear_model as skl\n",
    "import sklearn.metrics as skm\n",
    "import tqdm\n",
    "import copy\n",
    "import time\n",
    "from IPython.display import display\n",
    "\n",
    "%matplotlib inline\n",
    "\n",
    "sns.set(color_codes=True)"
   ]
  },
  {
   "cell_type": "code",
   "execution_count": 2,
   "metadata": {
    "collapsed": false
   },
   "outputs": [
    {
     "data": {
      "application/javascript": [
       "// Fill entire cell with output\n",
       "IPython.OutputArea.prototype._should_scroll = function(lines) {\n",
       "    return false;\n",
       "}"
      ],
      "text/plain": [
       "<IPython.core.display.Javascript object>"
      ]
     },
     "metadata": {},
     "output_type": "display_data"
    }
   ],
   "source": [
    "%%javascript\n",
    "// Fill entire cell with output\n",
    "IPython.OutputArea.prototype._should_scroll = function(lines) {\n",
    "    return false;\n",
    "}"
   ]
  },
  {
   "cell_type": "markdown",
   "metadata": {},
   "source": [
    "## Reading in the data\n",
    "\n",
    "Using the data from [here](https://physics.bu.edu/~pankajm/ML-Review-Datasets/isingMC/) (specifically the two datasets named `Ising2DFM_reSample_L40_T=All.pkl` and `Ising2DFM_reSample_L40_T=All_labels.pkl`) we have to unpack the data into numpy arrays."
   ]
  },
  {
   "cell_type": "code",
   "execution_count": 3,
   "metadata": {
    "collapsed": true
   },
   "outputs": [],
   "source": [
    "filenames = glob.glob(os.path.join(\"..\", \"dat\", \"*\"))\n",
    "label_filename = list(filter(lambda x: \"label\" in x, filenames))[0]\n",
    "dat_filename = list(filter(lambda x: \"label\" not in x, filenames))[0]\n",
    "\n",
    "# Read in the labels\n",
    "with open(label_filename, \"rb\") as f:\n",
    "    labels = pickle.load(f)\n",
    "\n",
    "# Read in the corresponding configurations\n",
    "with open(dat_filename, \"rb\") as f:\n",
    "    data = np.unpackbits(pickle.load(f)).reshape(-1, 1600).astype(\"int\")\n",
    "\n",
    "# Set spin-down to -1\n",
    "data[data == 0] = -1"
   ]
  },
  {
   "cell_type": "markdown",
   "metadata": {},
   "source": [
    "This dataset consists of $10000$ samples, i.e., $10000$ spin configurations with $40 \\times 40$ spins each, for $16$ temperatures between $0.25$ to $4.0$. Next we create a train/test-split and keep the data in the critical phase as a separate dataset for extrapolation-testing."
   ]
  },
  {
   "cell_type": "code",
   "execution_count": 4,
   "metadata": {
    "collapsed": true
   },
   "outputs": [],
   "source": [
    "# Set up slices of the dataset\n",
    "ordered = slice(0, 70000)\n",
    "critical = slice(70000, 100000)\n",
    "disordered = slice(100000, 160000)\n",
    "\n",
    "X_train, X_test, y_train, y_test = skms.train_test_split(\n",
    "    np.concatenate((data[ordered], data[disordered])),\n",
    "    np.concatenate((labels[ordered], labels[disordered])),\n",
    "    test_size=0.95\n",
    ")"
   ]
  },
  {
   "cell_type": "markdown",
   "metadata": {},
   "source": [
    "__Note:__ Using a small training set yields a better accuracy. This will be discussed in the end."
   ]
  },
  {
   "cell_type": "markdown",
   "metadata": {},
   "source": [
    "## Logistic regression\n",
    "\n",
    "Logistic regression is a linear model for classification. Recalling the cost function for ordinary least squares with both L2 (ridge) and L1 (LASSO) penalties we will see that the logistic cost function is very similar. In OLS we wish to predict a continuous variable $\\hat{y}$ using\n",
    "\n",
    "\\begin{align}\n",
    "    \\hat{y} = X\\omega,\n",
    "\\end{align}\n",
    "\n",
    "where $X \\in \\mathbb{R}^{n \\times p}$ is the input data and $\\omega^{p \\times d}$ are the weights of the regression. In a classification setting (binary classification in our situation) we are interested in a positive or negative answer. We can thus define either answer to be above or below some threshold. But, in order to limit the size of the answer and also to get a probability interpretation on how sure we are for either answer we can compute the sigmoid function of OLS. That is,\n",
    "\n",
    "\\begin{align}\n",
    "    f(X\\omega) = \\frac{1}{1 + \\exp(-X\\omega)}.\n",
    "\\end{align}\n",
    "\n",
    "We are thus interested in minimizing the following cost function\n",
    "\n",
    "\\begin{align}\n",
    "    C(X, \\omega) = \\sum_{i = 1}^n \\left\\{\n",
    "        - y_i\\log\\left( f(x_i^T\\omega) \\right)\n",
    "        - (1 - y_i)\\log\\left[1 - f(x_i^T\\omega)\\right]\n",
    "    \\right\\},\n",
    "\\end{align}\n",
    "\n",
    "where we will restrict ourselves to a value for $f(z)$ as the sigmoid described above. We can also tack on a L2 (Ridge) or L1 (LASSO) penalization to this cost function in the same manner we did for linear regression."
   ]
  },
  {
   "cell_type": "markdown",
   "metadata": {},
   "source": [
    "### Exploring the logistic regression\n",
    "\n",
    "The penalization factor $\\lambda$ is inverted in the case of the logistic regression model we use. We will explore several values of $\\lambda$ using both L1 and L2 penalization. We do this using a grid search over different parameters and run a 3-fold cross validation for each configuration. In other words, we fit a model 3 times for each configuration of the hyper parameters."
   ]
  },
  {
   "cell_type": "code",
   "execution_count": 5,
   "metadata": {
    "collapsed": true
   },
   "outputs": [],
   "source": [
    "lambdas = np.logspace(-7, -1, 7)\n",
    "\n",
    "param_grid = {\n",
    "    \"C\": list(1.0/lambdas),\n",
    "    \"penalty\": [\"l1\", \"l2\"]\n",
    "}"
   ]
  },
  {
   "cell_type": "code",
   "execution_count": 6,
   "metadata": {
    "collapsed": true
   },
   "outputs": [],
   "source": [
    "clf = skms.GridSearchCV(\n",
    "    skl.LogisticRegression(),\n",
    "    param_grid=param_grid,\n",
    "    n_jobs=-1,\n",
    "    return_train_score=True\n",
    ")"
   ]
  },
  {
   "cell_type": "code",
   "execution_count": 7,
   "metadata": {
    "collapsed": false
   },
   "outputs": [
    {
     "name": "stdout",
     "output_type": "stream",
     "text": [
      "Time spent fitting GridSearchCV(LogisticRegression): 949.417 sec\n"
     ]
    }
   ],
   "source": [
    "t0 = time.time()\n",
    "clf.fit(X_train, y_train)\n",
    "t1 = time.time()\n",
    "\n",
    "print (\n",
    "    \"Time spent fitting GridSearchCV(LogisticRegression): {0:.3f} sec\".format(\n",
    "        t1 - t0\n",
    "    )\n",
    ")"
   ]
  },
  {
   "cell_type": "markdown",
   "metadata": {},
   "source": [
    "We can see that logistic regression is quite slow and using the grid search and cross validation results in quite a heavy computation. Below we show the results of the different configurations."
   ]
  },
  {
   "cell_type": "code",
   "execution_count": 8,
   "metadata": {
    "collapsed": false,
    "scrolled": true
   },
   "outputs": [
    {
     "data": {
      "text/html": [
       "<div>\n",
       "<style scoped>\n",
       "    .dataframe tbody tr th:only-of-type {\n",
       "        vertical-align: middle;\n",
       "    }\n",
       "\n",
       "    .dataframe tbody tr th {\n",
       "        vertical-align: top;\n",
       "    }\n",
       "\n",
       "    .dataframe thead th {\n",
       "        text-align: right;\n",
       "    }\n",
       "</style>\n",
       "<table border=\"1\" class=\"dataframe\">\n",
       "  <thead>\n",
       "    <tr style=\"text-align: right;\">\n",
       "      <th></th>\n",
       "      <th>mean_fit_time</th>\n",
       "      <th>std_fit_time</th>\n",
       "      <th>mean_score_time</th>\n",
       "      <th>std_score_time</th>\n",
       "      <th>param_C</th>\n",
       "      <th>param_penalty</th>\n",
       "      <th>params</th>\n",
       "      <th>split0_test_score</th>\n",
       "      <th>split1_test_score</th>\n",
       "      <th>split2_test_score</th>\n",
       "      <th>mean_test_score</th>\n",
       "      <th>std_test_score</th>\n",
       "      <th>rank_test_score</th>\n",
       "      <th>split0_train_score</th>\n",
       "      <th>split1_train_score</th>\n",
       "      <th>split2_train_score</th>\n",
       "      <th>mean_train_score</th>\n",
       "      <th>std_train_score</th>\n",
       "    </tr>\n",
       "  </thead>\n",
       "  <tbody>\n",
       "    <tr>\n",
       "      <th>0</th>\n",
       "      <td>133.985549</td>\n",
       "      <td>43.129200</td>\n",
       "      <td>0.043782</td>\n",
       "      <td>0.002575</td>\n",
       "      <td>1e+07</td>\n",
       "      <td>l1</td>\n",
       "      <td>{'C': 10000000.0, 'penalty': 'l1'}</td>\n",
       "      <td>0.694047</td>\n",
       "      <td>0.709737</td>\n",
       "      <td>0.700831</td>\n",
       "      <td>0.701538</td>\n",
       "      <td>0.006425</td>\n",
       "      <td>12</td>\n",
       "      <td>1.0</td>\n",
       "      <td>1.000000</td>\n",
       "      <td>1.0</td>\n",
       "      <td>1.000000</td>\n",
       "      <td>0.000000</td>\n",
       "    </tr>\n",
       "    <tr>\n",
       "      <th>1</th>\n",
       "      <td>51.797149</td>\n",
       "      <td>7.266426</td>\n",
       "      <td>0.058810</td>\n",
       "      <td>0.008064</td>\n",
       "      <td>1e+07</td>\n",
       "      <td>l2</td>\n",
       "      <td>{'C': 10000000.0, 'penalty': 'l2'}</td>\n",
       "      <td>0.694509</td>\n",
       "      <td>0.711583</td>\n",
       "      <td>0.702216</td>\n",
       "      <td>0.702769</td>\n",
       "      <td>0.006982</td>\n",
       "      <td>8</td>\n",
       "      <td>1.0</td>\n",
       "      <td>1.000000</td>\n",
       "      <td>1.0</td>\n",
       "      <td>1.000000</td>\n",
       "      <td>0.000000</td>\n",
       "    </tr>\n",
       "    <tr>\n",
       "      <th>2</th>\n",
       "      <td>125.188562</td>\n",
       "      <td>46.865003</td>\n",
       "      <td>0.028435</td>\n",
       "      <td>0.009611</td>\n",
       "      <td>1e+06</td>\n",
       "      <td>l1</td>\n",
       "      <td>{'C': 1000000.0, 'penalty': 'l1'}</td>\n",
       "      <td>0.693586</td>\n",
       "      <td>0.714352</td>\n",
       "      <td>0.700831</td>\n",
       "      <td>0.702923</td>\n",
       "      <td>0.008606</td>\n",
       "      <td>6</td>\n",
       "      <td>1.0</td>\n",
       "      <td>1.000000</td>\n",
       "      <td>1.0</td>\n",
       "      <td>1.000000</td>\n",
       "      <td>0.000000</td>\n",
       "    </tr>\n",
       "    <tr>\n",
       "      <th>3</th>\n",
       "      <td>46.434756</td>\n",
       "      <td>6.818460</td>\n",
       "      <td>0.047470</td>\n",
       "      <td>0.021621</td>\n",
       "      <td>1e+06</td>\n",
       "      <td>l2</td>\n",
       "      <td>{'C': 1000000.0, 'penalty': 'l2'}</td>\n",
       "      <td>0.694509</td>\n",
       "      <td>0.711121</td>\n",
       "      <td>0.702216</td>\n",
       "      <td>0.702615</td>\n",
       "      <td>0.006789</td>\n",
       "      <td>9</td>\n",
       "      <td>1.0</td>\n",
       "      <td>1.000000</td>\n",
       "      <td>1.0</td>\n",
       "      <td>1.000000</td>\n",
       "      <td>0.000000</td>\n",
       "    </tr>\n",
       "    <tr>\n",
       "      <th>4</th>\n",
       "      <td>131.480284</td>\n",
       "      <td>49.637990</td>\n",
       "      <td>0.025367</td>\n",
       "      <td>0.001607</td>\n",
       "      <td>100000</td>\n",
       "      <td>l1</td>\n",
       "      <td>{'C': 99999.99999999999, 'penalty': 'l1'}</td>\n",
       "      <td>0.693586</td>\n",
       "      <td>0.711583</td>\n",
       "      <td>0.700831</td>\n",
       "      <td>0.702000</td>\n",
       "      <td>0.007394</td>\n",
       "      <td>11</td>\n",
       "      <td>1.0</td>\n",
       "      <td>1.000000</td>\n",
       "      <td>1.0</td>\n",
       "      <td>1.000000</td>\n",
       "      <td>0.000000</td>\n",
       "    </tr>\n",
       "    <tr>\n",
       "      <th>5</th>\n",
       "      <td>48.442208</td>\n",
       "      <td>4.821450</td>\n",
       "      <td>0.025852</td>\n",
       "      <td>0.000660</td>\n",
       "      <td>100000</td>\n",
       "      <td>l2</td>\n",
       "      <td>{'C': 99999.99999999999, 'penalty': 'l2'}</td>\n",
       "      <td>0.694509</td>\n",
       "      <td>0.712506</td>\n",
       "      <td>0.703139</td>\n",
       "      <td>0.703385</td>\n",
       "      <td>0.007350</td>\n",
       "      <td>3</td>\n",
       "      <td>1.0</td>\n",
       "      <td>1.000000</td>\n",
       "      <td>1.0</td>\n",
       "      <td>1.000000</td>\n",
       "      <td>0.000000</td>\n",
       "    </tr>\n",
       "    <tr>\n",
       "      <th>6</th>\n",
       "      <td>136.005517</td>\n",
       "      <td>63.967902</td>\n",
       "      <td>0.035429</td>\n",
       "      <td>0.009921</td>\n",
       "      <td>10000</td>\n",
       "      <td>l1</td>\n",
       "      <td>{'C': 10000.0, 'penalty': 'l1'}</td>\n",
       "      <td>0.693586</td>\n",
       "      <td>0.712967</td>\n",
       "      <td>0.700831</td>\n",
       "      <td>0.702462</td>\n",
       "      <td>0.007997</td>\n",
       "      <td>10</td>\n",
       "      <td>1.0</td>\n",
       "      <td>1.000000</td>\n",
       "      <td>1.0</td>\n",
       "      <td>1.000000</td>\n",
       "      <td>0.000000</td>\n",
       "    </tr>\n",
       "    <tr>\n",
       "      <th>7</th>\n",
       "      <td>45.492904</td>\n",
       "      <td>4.962405</td>\n",
       "      <td>0.024428</td>\n",
       "      <td>0.003608</td>\n",
       "      <td>10000</td>\n",
       "      <td>l2</td>\n",
       "      <td>{'C': 10000.0, 'penalty': 'l2'}</td>\n",
       "      <td>0.693586</td>\n",
       "      <td>0.712506</td>\n",
       "      <td>0.703601</td>\n",
       "      <td>0.703231</td>\n",
       "      <td>0.007729</td>\n",
       "      <td>5</td>\n",
       "      <td>1.0</td>\n",
       "      <td>1.000000</td>\n",
       "      <td>1.0</td>\n",
       "      <td>1.000000</td>\n",
       "      <td>0.000000</td>\n",
       "    </tr>\n",
       "    <tr>\n",
       "      <th>8</th>\n",
       "      <td>109.751415</td>\n",
       "      <td>29.097978</td>\n",
       "      <td>0.036205</td>\n",
       "      <td>0.012117</td>\n",
       "      <td>1000</td>\n",
       "      <td>l1</td>\n",
       "      <td>{'C': 1000.0, 'penalty': 'l1'}</td>\n",
       "      <td>0.693586</td>\n",
       "      <td>0.712044</td>\n",
       "      <td>0.703139</td>\n",
       "      <td>0.702923</td>\n",
       "      <td>0.007538</td>\n",
       "      <td>6</td>\n",
       "      <td>1.0</td>\n",
       "      <td>1.000000</td>\n",
       "      <td>1.0</td>\n",
       "      <td>1.000000</td>\n",
       "      <td>0.000000</td>\n",
       "    </tr>\n",
       "    <tr>\n",
       "      <th>9</th>\n",
       "      <td>40.780339</td>\n",
       "      <td>5.498792</td>\n",
       "      <td>0.022993</td>\n",
       "      <td>0.002149</td>\n",
       "      <td>1000</td>\n",
       "      <td>l2</td>\n",
       "      <td>{'C': 1000.0, 'penalty': 'l2'}</td>\n",
       "      <td>0.693124</td>\n",
       "      <td>0.711583</td>\n",
       "      <td>0.705448</td>\n",
       "      <td>0.703385</td>\n",
       "      <td>0.007676</td>\n",
       "      <td>3</td>\n",
       "      <td>1.0</td>\n",
       "      <td>1.000000</td>\n",
       "      <td>1.0</td>\n",
       "      <td>1.000000</td>\n",
       "      <td>0.000000</td>\n",
       "    </tr>\n",
       "    <tr>\n",
       "      <th>10</th>\n",
       "      <td>171.943614</td>\n",
       "      <td>10.621141</td>\n",
       "      <td>0.046334</td>\n",
       "      <td>0.018095</td>\n",
       "      <td>100</td>\n",
       "      <td>l1</td>\n",
       "      <td>{'C': 100.0, 'penalty': 'l1'}</td>\n",
       "      <td>0.684818</td>\n",
       "      <td>0.708814</td>\n",
       "      <td>0.699908</td>\n",
       "      <td>0.697846</td>\n",
       "      <td>0.009905</td>\n",
       "      <td>14</td>\n",
       "      <td>1.0</td>\n",
       "      <td>1.000000</td>\n",
       "      <td>1.0</td>\n",
       "      <td>1.000000</td>\n",
       "      <td>0.000000</td>\n",
       "    </tr>\n",
       "    <tr>\n",
       "      <th>11</th>\n",
       "      <td>35.711317</td>\n",
       "      <td>5.045432</td>\n",
       "      <td>0.021141</td>\n",
       "      <td>0.000833</td>\n",
       "      <td>100</td>\n",
       "      <td>l2</td>\n",
       "      <td>{'C': 100.0, 'penalty': 'l2'}</td>\n",
       "      <td>0.694509</td>\n",
       "      <td>0.712506</td>\n",
       "      <td>0.705448</td>\n",
       "      <td>0.704154</td>\n",
       "      <td>0.007405</td>\n",
       "      <td>1</td>\n",
       "      <td>1.0</td>\n",
       "      <td>1.000000</td>\n",
       "      <td>1.0</td>\n",
       "      <td>1.000000</td>\n",
       "      <td>0.000000</td>\n",
       "    </tr>\n",
       "    <tr>\n",
       "      <th>12</th>\n",
       "      <td>111.015806</td>\n",
       "      <td>21.466425</td>\n",
       "      <td>0.031371</td>\n",
       "      <td>0.011843</td>\n",
       "      <td>10</td>\n",
       "      <td>l1</td>\n",
       "      <td>{'C': 10.0, 'penalty': 'l1'}</td>\n",
       "      <td>0.685741</td>\n",
       "      <td>0.716198</td>\n",
       "      <td>0.698523</td>\n",
       "      <td>0.700154</td>\n",
       "      <td>0.012488</td>\n",
       "      <td>13</td>\n",
       "      <td>1.0</td>\n",
       "      <td>1.000000</td>\n",
       "      <td>1.0</td>\n",
       "      <td>1.000000</td>\n",
       "      <td>0.000000</td>\n",
       "    </tr>\n",
       "    <tr>\n",
       "      <th>13</th>\n",
       "      <td>30.197917</td>\n",
       "      <td>4.607725</td>\n",
       "      <td>0.021942</td>\n",
       "      <td>0.004698</td>\n",
       "      <td>10</td>\n",
       "      <td>l2</td>\n",
       "      <td>{'C': 10.0, 'penalty': 'l2'}</td>\n",
       "      <td>0.694047</td>\n",
       "      <td>0.714352</td>\n",
       "      <td>0.702216</td>\n",
       "      <td>0.703538</td>\n",
       "      <td>0.008342</td>\n",
       "      <td>2</td>\n",
       "      <td>1.0</td>\n",
       "      <td>0.999769</td>\n",
       "      <td>1.0</td>\n",
       "      <td>0.999923</td>\n",
       "      <td>0.000109</td>\n",
       "    </tr>\n",
       "  </tbody>\n",
       "</table>\n",
       "</div>"
      ],
      "text/plain": [
       "    mean_fit_time  std_fit_time  mean_score_time  std_score_time param_C  \\\n",
       "0      133.985549     43.129200         0.043782        0.002575   1e+07   \n",
       "1       51.797149      7.266426         0.058810        0.008064   1e+07   \n",
       "2      125.188562     46.865003         0.028435        0.009611   1e+06   \n",
       "3       46.434756      6.818460         0.047470        0.021621   1e+06   \n",
       "4      131.480284     49.637990         0.025367        0.001607  100000   \n",
       "5       48.442208      4.821450         0.025852        0.000660  100000   \n",
       "6      136.005517     63.967902         0.035429        0.009921   10000   \n",
       "7       45.492904      4.962405         0.024428        0.003608   10000   \n",
       "8      109.751415     29.097978         0.036205        0.012117    1000   \n",
       "9       40.780339      5.498792         0.022993        0.002149    1000   \n",
       "10     171.943614     10.621141         0.046334        0.018095     100   \n",
       "11      35.711317      5.045432         0.021141        0.000833     100   \n",
       "12     111.015806     21.466425         0.031371        0.011843      10   \n",
       "13      30.197917      4.607725         0.021942        0.004698      10   \n",
       "\n",
       "   param_penalty                                     params  \\\n",
       "0             l1         {'C': 10000000.0, 'penalty': 'l1'}   \n",
       "1             l2         {'C': 10000000.0, 'penalty': 'l2'}   \n",
       "2             l1          {'C': 1000000.0, 'penalty': 'l1'}   \n",
       "3             l2          {'C': 1000000.0, 'penalty': 'l2'}   \n",
       "4             l1  {'C': 99999.99999999999, 'penalty': 'l1'}   \n",
       "5             l2  {'C': 99999.99999999999, 'penalty': 'l2'}   \n",
       "6             l1            {'C': 10000.0, 'penalty': 'l1'}   \n",
       "7             l2            {'C': 10000.0, 'penalty': 'l2'}   \n",
       "8             l1             {'C': 1000.0, 'penalty': 'l1'}   \n",
       "9             l2             {'C': 1000.0, 'penalty': 'l2'}   \n",
       "10            l1              {'C': 100.0, 'penalty': 'l1'}   \n",
       "11            l2              {'C': 100.0, 'penalty': 'l2'}   \n",
       "12            l1               {'C': 10.0, 'penalty': 'l1'}   \n",
       "13            l2               {'C': 10.0, 'penalty': 'l2'}   \n",
       "\n",
       "    split0_test_score  split1_test_score  split2_test_score  mean_test_score  \\\n",
       "0            0.694047           0.709737           0.700831         0.701538   \n",
       "1            0.694509           0.711583           0.702216         0.702769   \n",
       "2            0.693586           0.714352           0.700831         0.702923   \n",
       "3            0.694509           0.711121           0.702216         0.702615   \n",
       "4            0.693586           0.711583           0.700831         0.702000   \n",
       "5            0.694509           0.712506           0.703139         0.703385   \n",
       "6            0.693586           0.712967           0.700831         0.702462   \n",
       "7            0.693586           0.712506           0.703601         0.703231   \n",
       "8            0.693586           0.712044           0.703139         0.702923   \n",
       "9            0.693124           0.711583           0.705448         0.703385   \n",
       "10           0.684818           0.708814           0.699908         0.697846   \n",
       "11           0.694509           0.712506           0.705448         0.704154   \n",
       "12           0.685741           0.716198           0.698523         0.700154   \n",
       "13           0.694047           0.714352           0.702216         0.703538   \n",
       "\n",
       "    std_test_score  rank_test_score  split0_train_score  split1_train_score  \\\n",
       "0         0.006425               12                 1.0            1.000000   \n",
       "1         0.006982                8                 1.0            1.000000   \n",
       "2         0.008606                6                 1.0            1.000000   \n",
       "3         0.006789                9                 1.0            1.000000   \n",
       "4         0.007394               11                 1.0            1.000000   \n",
       "5         0.007350                3                 1.0            1.000000   \n",
       "6         0.007997               10                 1.0            1.000000   \n",
       "7         0.007729                5                 1.0            1.000000   \n",
       "8         0.007538                6                 1.0            1.000000   \n",
       "9         0.007676                3                 1.0            1.000000   \n",
       "10        0.009905               14                 1.0            1.000000   \n",
       "11        0.007405                1                 1.0            1.000000   \n",
       "12        0.012488               13                 1.0            1.000000   \n",
       "13        0.008342                2                 1.0            0.999769   \n",
       "\n",
       "    split2_train_score  mean_train_score  std_train_score  \n",
       "0                  1.0          1.000000         0.000000  \n",
       "1                  1.0          1.000000         0.000000  \n",
       "2                  1.0          1.000000         0.000000  \n",
       "3                  1.0          1.000000         0.000000  \n",
       "4                  1.0          1.000000         0.000000  \n",
       "5                  1.0          1.000000         0.000000  \n",
       "6                  1.0          1.000000         0.000000  \n",
       "7                  1.0          1.000000         0.000000  \n",
       "8                  1.0          1.000000         0.000000  \n",
       "9                  1.0          1.000000         0.000000  \n",
       "10                 1.0          1.000000         0.000000  \n",
       "11                 1.0          1.000000         0.000000  \n",
       "12                 1.0          1.000000         0.000000  \n",
       "13                 1.0          0.999923         0.000109  "
      ]
     },
     "metadata": {},
     "output_type": "display_data"
    }
   ],
   "source": [
    "logreg_df = pd.DataFrame(clf.cv_results_)\n",
    "\n",
    "display(logreg_df)"
   ]
  },
  {
   "cell_type": "markdown",
   "metadata": {},
   "source": [
    "### Accuracy of a classification model\n",
    "\n",
    "To determine how well a classification model is performing we count the number of correctly labeled classes and divide by the number of classes in total. The accuracy is thus given by\n",
    "\n",
    "\\begin{align}\n",
    "    a(y, \\hat{y}) = \\frac{1}{n}\\sum_{i = 1}^{n} I(y_i = \\hat{y}_i),\n",
    "\\end{align}\n",
    "\n",
    "where $I(y_i = \\hat{y}_i)$ is the indicator function given by\n",
    "\n",
    "\\begin{align}\n",
    "    I(x = y) = \\begin{cases}\n",
    "    1 & x = y, \\\\\n",
    "    0 & x \\neq y.\n",
    "    \\end{cases}\n",
    "\\end{align}\n",
    "\n",
    "This is the accuracy provided by Scikit-learn when using `sklearn.metrics.accuracy_score`."
   ]
  },
  {
   "cell_type": "markdown",
   "metadata": {},
   "source": [
    "Below we compute the accuracy of the best fit model on the training data (which should give a good accuracy), the test data (which has not been shown to the model) and the critical data (completely new data that needs to be extrapolated)."
   ]
  },
  {
   "cell_type": "code",
   "execution_count": 9,
   "metadata": {
    "collapsed": false,
    "scrolled": true
   },
   "outputs": [
    {
     "name": "stdout",
     "output_type": "stream",
     "text": [
      "Accuracy on train data: 0.876\n",
      "Accuracy on test data: 0.6896275303643725\n",
      "Accuracy on critical data: 0.5445\n"
     ]
    }
   ],
   "source": [
    "train_accuracy = skm.accuracy_score(y_train, clf.predict(X_train))\n",
    "test_accuracy = skm.accuracy_score(y_test, clf.predict(X_test))\n",
    "critical_accuracy = skm.accuracy_score(labels[critical], clf.predict(data[critical]))\n",
    "\n",
    "print (\"Accuracy on train data: {0}\".format(train_accuracy))\n",
    "print (\"Accuracy on test data: {0}\".format(test_accuracy))\n",
    "print (\"Accuracy on critical data: {0}\".format(critical_accuracy))"
   ]
  },
  {
   "cell_type": "markdown",
   "metadata": {},
   "source": [
    "We can see that we get quite good accuracy on the training data, but gradually worsening accuracy on the test and critical data."
   ]
  },
  {
   "cell_type": "markdown",
   "metadata": {},
   "source": [
    "### Receiver operating characteristic\n",
    "\n",
    "Below we show a different metric for determining the quality of our model, namely the _reciever operating characteristic_ (ROC). The ROC curve tells us how well the model correctly classifies the different labels. We plot the _true positive rate_ (the rate of predicted positive classes that are positive) versus the _false positive rate_ (the rate of predicted positive classes that are negative). The ROC curve is built by computing the true positive rate and the false positive rate for varying _thresholds_, i.e, which probability we should acredit a certain class.\n",
    "\n",
    "By computing the _area under the curve_ (AUC) of the ROC curve we get an estimate of how well our model is performing. Pure guessing will get an AUC of $0.5$. A perfect score will get an AUC of $1.0$."
   ]
  },
  {
   "cell_type": "code",
   "execution_count": 10,
   "metadata": {
    "collapsed": false,
    "scrolled": true
   },
   "outputs": [
    {
     "name": "stdout",
     "output_type": "stream",
     "text": [
      "LogisticRegression AUC (Train): 0.927466526230532\n",
      "LogisticRegression AUC (Test): 0.4975344101021899\n",
      "LogisticRegression AUC (Critical): 0.500251495\n"
     ]
    },
    {
     "data": {
      "image/png": "[encoded data removed]",
      "text/plain": [
       "<matplotlib.figure.Figure at 0x1098a2208>"
      ]
     },
     "metadata": {},
     "output_type": "display_data"
    }
   ],
   "source": [
    "fig = plt.figure(figsize=(20, 14))\n",
    "\n",
    "for (_X, _y), label in zip(\n",
    "    [\n",
    "        (X_train, y_train),\n",
    "        (X_test, y_test),\n",
    "        (data[critical], labels[critical])\n",
    "    ],\n",
    "    [\"Train\", \"Test\", \"Critical\"]\n",
    "):\n",
    "    proba = clf.predict_proba(_X)\n",
    "    fpr, tpr, _ = skm.roc_curve(_y, proba[:, 1])\n",
    "    roc_auc = skm.auc(fpr, tpr)\n",
    "\n",
    "    print (\"LogisticRegression AUC ({0}): {1}\".format(label, roc_auc))\n",
    "\n",
    "    plt.plot(fpr, tpr, label=\"{0} (AUC = {1})\".format(label, roc_auc), linewidth=4.0)\n",
    "\n",
    "plt.plot([0, 1], [0, 1], \"--\", label=\"Guessing (AUC = 0.5)\", linewidth=4.0)\n",
    "\n",
    "plt.title(r\"The ROC curve for LogisticRegression\", fontsize=18)\n",
    "plt.xlabel(r\"False positive rate\", fontsize=18)\n",
    "plt.ylabel(r\"True positive rate\", fontsize=18)\n",
    "plt.axis([-0.01, 1.01, -0.01, 1.01])\n",
    "plt.xticks(fontsize=18)\n",
    "plt.yticks(fontsize=18)\n",
    "plt.legend(loc=\"best\", fontsize=18)\n",
    "plt.show()"
   ]
  },
  {
   "cell_type": "markdown",
   "metadata": {},
   "source": [
    "We can see that this plot of the ROC looks very strange. This tells us that logistic regression is quite inept at predicting the Ising model transition and is therefore highly non-linear. The ROC curve for the training data looks quite good, but as the testing data is so far off we see that we are dealing with an overfit model."
   ]
  },
  {
   "cell_type": "markdown",
   "metadata": {},
   "source": [
    "A previous run with $50\\%$ of the data used for training yielded a worse performance than using a smaller training set. This again gives confidence to the fact that logistic regression is not able to correctly fit the Ising model as it is not a linear model."
   ]
  },
  {
   "cell_type": "markdown",
   "metadata": {},
   "source": [
    "![](large_training_data.jpg)"
   ]
  }
 ],
 "metadata": {
  "kernelspec": {
   "display_name": "Python 3",
   "language": "python",
   "name": "python3"
  },
  "language_info": {
   "codemirror_mode": {
    "name": "ipython",
    "version": 3
   },
   "file_extension": ".py",
   "mimetype": "text/x-python",
   "name": "python",
   "nbconvert_exporter": "python",
   "pygments_lexer": "ipython3",
   "version": "3.6.5"
  }
 },
 "nbformat": 4,
 "nbformat_minor": 2
}
