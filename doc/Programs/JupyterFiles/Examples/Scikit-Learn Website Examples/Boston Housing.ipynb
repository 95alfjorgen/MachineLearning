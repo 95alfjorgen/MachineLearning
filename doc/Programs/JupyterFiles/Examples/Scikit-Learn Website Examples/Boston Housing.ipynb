{
 "cells": [
  {
   "cell_type": "code",
   "execution_count": 1,
   "metadata": {},
   "outputs": [
    {
     "name": "stdout",
     "output_type": "stream",
     "text": [
      "(506, 104)\n"
     ]
    },
    {
     "data": {
      "text/plain": [
       "<Figure size 640x480 with 1 Axes>"
      ]
     },
     "metadata": {},
     "output_type": "display_data"
    },
    {
     "name": "stdout",
     "output_type": "stream",
     "text": [
      "training set score: 0.771865\n",
      "test set score: 0.725968\n",
      "training set score: 0.771686\n",
      "test set score: 0.722415\n",
      "training set score: 0.771863\n",
      "test set score: 0.725626\n",
      "--------------------\n",
      "training set score: 0.771865\n",
      "test set score: 0.725916\n",
      "number of features used: 2\n"
     ]
    },
    {
     "name": "stderr",
     "output_type": "stream",
     "text": [
      "/usr/local/lib/python3.7/site-packages/sklearn/linear_model/base.py:509: RuntimeWarning: internal gelsd driver lwork query error, required iwork dimension not returned. This is likely the result of LAPACK bug 0038, fixed in LAPACK 3.2.2 (released July 21, 2010). Falling back to 'gelss' driver.\n",
      "  linalg.lstsq(X, y)\n"
     ]
    }
   ],
   "source": [
    "#!pip install mglearn\n",
    "import mglearn\n",
    "import sklearn\n",
    "import pandas as pd\n",
    "import matplotlib.pyplot as plt\n",
    "import numpy as np\n",
    "import IPython\n",
    "\n",
    "from sklearn.datasets import load_boston\n",
    "boston = load_boston()\n",
    "X, y = mglearn.datasets.load_extended_boston()\n",
    "print(X.shape)\n",
    "mglearn.plots.plot_knn_classification(n_neighbors=3)\n",
    "plt.show()\n",
    "\n",
    "from sklearn.model_selection import train_test_split\n",
    "X, y=mglearn.datasets.make_forge()\n",
    "\n",
    "X_train, X_test, y_train, y_test=train_test_split(X, y, random_state=0)\n",
    "\n",
    "from sklearn.neighbors import KNeighborsClassifier\n",
    "clf=KNeighborsClassifier(n_neighbors=3)\n",
    "clf.fit(X_train, y_train)\n",
    "KNeighborsClassifier(algorithm='auto', leaf_size=30, metric='minkowski')\n",
    "clf.predict(X_test)\n",
    "clf.score(X_test, y_test)\n",
    "\n",
    "from sklearn.linear_model import LinearRegression\n",
    "lr=LinearRegression().fit(X_train, y_train)\n",
    "\n",
    "print(\"training set score: %f\" % lr.score(X_train, y_train))\n",
    "print(\"test set score: %f\" % lr.score(X_test, y_test))\n",
    "\n",
    "from sklearn.linear_model import Ridge\n",
    "ridge = Ridge().fit(X_train, y_train)\n",
    "print(\"training set score: %f\" % ridge.score(X_train, y_train))\n",
    "print(\"test set score: %f\" % ridge.score(X_test, y_test))\n",
    "\n",
    "ridge01 = Ridge(alpha=0.1).fit(X_train, y_train)\n",
    "print(\"training set score: %f\" % ridge01.score(X_train, y_train))\n",
    "print(\"test set score: %f\" % ridge01.score(X_test, y_test))\n",
    "\n",
    "print (\"--------------------\")\n",
    "\n",
    "from sklearn.linear_model import Lasso\n",
    "lasso00001 = Lasso(alpha=0.0001).fit(X_train, y_train)\n",
    "print(\"training set score: %f\" % lasso00001.score(X_train, y_train))\n",
    "print(\"test set score: %f\" % lasso00001.score(X_test, y_test))\n",
    "print(\"number of features used: %d\" % np.sum(lasso00001.coef_ != 0))"
   ]
  },
  {
   "cell_type": "code",
   "execution_count": null,
   "metadata": {
    "collapsed": true
   },
   "outputs": [],
   "source": []
  }
 ],
 "metadata": {
  "kernelspec": {
   "display_name": "Python 3",
   "language": "python",
   "name": "python3"
  },
  "language_info": {
   "codemirror_mode": {
    "name": "ipython",
    "version": 3
   },
   "file_extension": ".py",
   "mimetype": "text/x-python",
   "name": "python",
   "nbconvert_exporter": "python",
   "pygments_lexer": "ipython3",
   "version": "3.7.0"
  }
 },
 "nbformat": 4,
 "nbformat_minor": 2
}
